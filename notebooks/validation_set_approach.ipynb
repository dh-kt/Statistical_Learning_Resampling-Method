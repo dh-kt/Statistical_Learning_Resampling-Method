{
  "nbformat": 4,
  "nbformat_minor": 0,
  "metadata": {
    "colab": {
      "provenance": [],
      "authorship_tag": "ABX9TyMKiy3+lTfnJ1zWQH8PDPZA",
      "include_colab_link": true
    },
    "kernelspec": {
      "name": "python3",
      "display_name": "Python 3"
    },
    "language_info": {
      "name": "python"
    }
  },
  "cells": [
    {
      "cell_type": "markdown",
      "metadata": {
        "id": "view-in-github",
        "colab_type": "text"
      },
      "source": [
        "<a href=\"https://colab.research.google.com/github/dh-kt/Statistical_Learning_Resampling-Method/blob/main/notebooks/validation_set_approach.ipynb\" target=\"_parent\"><img src=\"https://colab.research.google.com/assets/colab-badge.svg\" alt=\"Open In Colab\"/></a>"
      ]
    },
    {
      "cell_type": "code",
      "execution_count": 1,
      "metadata": {
        "id": "nE8vg5tszy7U"
      },
      "outputs": [],
      "source": [
        "# Import necessary libraries\n",
        "import numpy as np\n",
        "import pandas as pd\n",
        "import matplotlib.pyplot as plt\n",
        "import seaborn as sns\n",
        "\n",
        "# For statistical modeling\n",
        "import statsmodels.api as sm\n",
        "import statsmodels.formula.api as smf\n",
        "\n",
        "# For machine learning (we'll use this for train/test split)\n",
        "from sklearn.model_selection import train_test_split\n",
        "from sklearn.metrics import confusion_matrix, classification_report\n",
        "from sklearn.preprocessing import PolynomialFeatures\n",
        "from sklearn.linear_model import LinearRegression as LR\n",
        "from sklearn.metrics import mean_squared_error"
      ]
    },
    {
      "cell_type": "code",
      "source": [
        "# Set random seed for reproducibility\n",
        "np.random.seed(42)\n",
        "print(\" All libraries imported successfully!\")"
      ],
      "metadata": {
        "colab": {
          "base_uri": "https://localhost:8080/"
        },
        "id": "UVTWfYJf0Vq1",
        "outputId": "8766f690-efeb-43bd-d099-929061d40104"
      },
      "execution_count": 2,
      "outputs": [
        {
          "output_type": "stream",
          "name": "stdout",
          "text": [
            " All libraries imported successfully!\n"
          ]
        }
      ]
    },
    {
      "cell_type": "code",
      "source": [
        "#Preparing data to load\n",
        "from google.colab import files\n",
        "uploaded = files.upload()"
      ],
      "metadata": {
        "colab": {
          "base_uri": "https://localhost:8080/",
          "height": 39
        },
        "id": "nghh_dHh0o0s",
        "outputId": "b4f4ab6a-09f0-4eb3-ec1e-9449259f99fb"
      },
      "execution_count": null,
      "outputs": [
        {
          "output_type": "display_data",
          "data": {
            "text/plain": [
              "<IPython.core.display.HTML object>"
            ],
            "text/html": [
              "\n",
              "     <input type=\"file\" id=\"files-729ca5f1-1ff8-4332-b71d-eecce32e624c\" name=\"files[]\" multiple disabled\n",
              "        style=\"border:none\" />\n",
              "     <output id=\"result-729ca5f1-1ff8-4332-b71d-eecce32e624c\">\n",
              "      Upload widget is only available when the cell has been executed in the\n",
              "      current browser session. Please rerun this cell to enable.\n",
              "      </output>\n",
              "      <script>// Copyright 2017 Google LLC\n",
              "//\n",
              "// Licensed under the Apache License, Version 2.0 (the \"License\");\n",
              "// you may not use this file except in compliance with the License.\n",
              "// You may obtain a copy of the License at\n",
              "//\n",
              "//      http://www.apache.org/licenses/LICENSE-2.0\n",
              "//\n",
              "// Unless required by applicable law or agreed to in writing, software\n",
              "// distributed under the License is distributed on an \"AS IS\" BASIS,\n",
              "// WITHOUT WARRANTIES OR CONDITIONS OF ANY KIND, either express or implied.\n",
              "// See the License for the specific language governing permissions and\n",
              "// limitations under the License.\n",
              "\n",
              "/**\n",
              " * @fileoverview Helpers for google.colab Python module.\n",
              " */\n",
              "(function(scope) {\n",
              "function span(text, styleAttributes = {}) {\n",
              "  const element = document.createElement('span');\n",
              "  element.textContent = text;\n",
              "  for (const key of Object.keys(styleAttributes)) {\n",
              "    element.style[key] = styleAttributes[key];\n",
              "  }\n",
              "  return element;\n",
              "}\n",
              "\n",
              "// Max number of bytes which will be uploaded at a time.\n",
              "const MAX_PAYLOAD_SIZE = 100 * 1024;\n",
              "\n",
              "function _uploadFiles(inputId, outputId) {\n",
              "  const steps = uploadFilesStep(inputId, outputId);\n",
              "  const outputElement = document.getElementById(outputId);\n",
              "  // Cache steps on the outputElement to make it available for the next call\n",
              "  // to uploadFilesContinue from Python.\n",
              "  outputElement.steps = steps;\n",
              "\n",
              "  return _uploadFilesContinue(outputId);\n",
              "}\n",
              "\n",
              "// This is roughly an async generator (not supported in the browser yet),\n",
              "// where there are multiple asynchronous steps and the Python side is going\n",
              "// to poll for completion of each step.\n",
              "// This uses a Promise to block the python side on completion of each step,\n",
              "// then passes the result of the previous step as the input to the next step.\n",
              "function _uploadFilesContinue(outputId) {\n",
              "  const outputElement = document.getElementById(outputId);\n",
              "  const steps = outputElement.steps;\n",
              "\n",
              "  const next = steps.next(outputElement.lastPromiseValue);\n",
              "  return Promise.resolve(next.value.promise).then((value) => {\n",
              "    // Cache the last promise value to make it available to the next\n",
              "    // step of the generator.\n",
              "    outputElement.lastPromiseValue = value;\n",
              "    return next.value.response;\n",
              "  });\n",
              "}\n",
              "\n",
              "/**\n",
              " * Generator function which is called between each async step of the upload\n",
              " * process.\n",
              " * @param {string} inputId Element ID of the input file picker element.\n",
              " * @param {string} outputId Element ID of the output display.\n",
              " * @return {!Iterable<!Object>} Iterable of next steps.\n",
              " */\n",
              "function* uploadFilesStep(inputId, outputId) {\n",
              "  const inputElement = document.getElementById(inputId);\n",
              "  inputElement.disabled = false;\n",
              "\n",
              "  const outputElement = document.getElementById(outputId);\n",
              "  outputElement.innerHTML = '';\n",
              "\n",
              "  const pickedPromise = new Promise((resolve) => {\n",
              "    inputElement.addEventListener('change', (e) => {\n",
              "      resolve(e.target.files);\n",
              "    });\n",
              "  });\n",
              "\n",
              "  const cancel = document.createElement('button');\n",
              "  inputElement.parentElement.appendChild(cancel);\n",
              "  cancel.textContent = 'Cancel upload';\n",
              "  const cancelPromise = new Promise((resolve) => {\n",
              "    cancel.onclick = () => {\n",
              "      resolve(null);\n",
              "    };\n",
              "  });\n",
              "\n",
              "  // Wait for the user to pick the files.\n",
              "  const files = yield {\n",
              "    promise: Promise.race([pickedPromise, cancelPromise]),\n",
              "    response: {\n",
              "      action: 'starting',\n",
              "    }\n",
              "  };\n",
              "\n",
              "  cancel.remove();\n",
              "\n",
              "  // Disable the input element since further picks are not allowed.\n",
              "  inputElement.disabled = true;\n",
              "\n",
              "  if (!files) {\n",
              "    return {\n",
              "      response: {\n",
              "        action: 'complete',\n",
              "      }\n",
              "    };\n",
              "  }\n",
              "\n",
              "  for (const file of files) {\n",
              "    const li = document.createElement('li');\n",
              "    li.append(span(file.name, {fontWeight: 'bold'}));\n",
              "    li.append(span(\n",
              "        `(${file.type || 'n/a'}) - ${file.size} bytes, ` +\n",
              "        `last modified: ${\n",
              "            file.lastModifiedDate ? file.lastModifiedDate.toLocaleDateString() :\n",
              "                                    'n/a'} - `));\n",
              "    const percent = span('0% done');\n",
              "    li.appendChild(percent);\n",
              "\n",
              "    outputElement.appendChild(li);\n",
              "\n",
              "    const fileDataPromise = new Promise((resolve) => {\n",
              "      const reader = new FileReader();\n",
              "      reader.onload = (e) => {\n",
              "        resolve(e.target.result);\n",
              "      };\n",
              "      reader.readAsArrayBuffer(file);\n",
              "    });\n",
              "    // Wait for the data to be ready.\n",
              "    let fileData = yield {\n",
              "      promise: fileDataPromise,\n",
              "      response: {\n",
              "        action: 'continue',\n",
              "      }\n",
              "    };\n",
              "\n",
              "    // Use a chunked sending to avoid message size limits. See b/62115660.\n",
              "    let position = 0;\n",
              "    do {\n",
              "      const length = Math.min(fileData.byteLength - position, MAX_PAYLOAD_SIZE);\n",
              "      const chunk = new Uint8Array(fileData, position, length);\n",
              "      position += length;\n",
              "\n",
              "      const base64 = btoa(String.fromCharCode.apply(null, chunk));\n",
              "      yield {\n",
              "        response: {\n",
              "          action: 'append',\n",
              "          file: file.name,\n",
              "          data: base64,\n",
              "        },\n",
              "      };\n",
              "\n",
              "      let percentDone = fileData.byteLength === 0 ?\n",
              "          100 :\n",
              "          Math.round((position / fileData.byteLength) * 100);\n",
              "      percent.textContent = `${percentDone}% done`;\n",
              "\n",
              "    } while (position < fileData.byteLength);\n",
              "  }\n",
              "\n",
              "  // All done.\n",
              "  yield {\n",
              "    response: {\n",
              "      action: 'complete',\n",
              "    }\n",
              "  };\n",
              "}\n",
              "\n",
              "scope.google = scope.google || {};\n",
              "scope.google.colab = scope.google.colab || {};\n",
              "scope.google.colab._files = {\n",
              "  _uploadFiles,\n",
              "  _uploadFilesContinue,\n",
              "};\n",
              "})(self);\n",
              "</script> "
            ]
          },
          "metadata": {}
        }
      ]
    },
    {
      "cell_type": "code",
      "source": [
        "#Load data\n",
        "default = pd.read_csv('Default.csv')\n",
        "\n",
        "#Inspect data\n",
        "print('Data Info:')\n",
        "print(default.head())\n",
        "print('\\n')"
      ],
      "metadata": {
        "colab": {
          "base_uri": "https://localhost:8080/"
        },
        "id": "q8F9EzXl1JL8",
        "outputId": "fe81231c-28e4-43c4-d1bc-f40ed25496bf"
      },
      "execution_count": null,
      "outputs": [
        {
          "output_type": "stream",
          "name": "stdout",
          "text": [
            "Data Info:\n",
            "  default student      balance        income\n",
            "0      No      No   729.526495  44361.625074\n",
            "1      No     Yes   817.180407  12106.134700\n",
            "2      No      No  1073.549164  31767.138947\n",
            "3      No      No   529.250605  35704.493935\n",
            "4      No      No   785.655883  38463.495879\n",
            "\n",
            "\n"
          ]
        }
      ]
    },
    {
      "cell_type": "code",
      "source": [
        "#check for missing values\n",
        "print('Mising Values:')\n",
        "print(default.isnull().sum())"
      ],
      "metadata": {
        "colab": {
          "base_uri": "https://localhost:8080/"
        },
        "id": "NqUCIULs_O6u",
        "outputId": "2747e187-3d55-4ac3-e01c-06ccbbbbba46"
      },
      "execution_count": null,
      "outputs": [
        {
          "output_type": "stream",
          "name": "stdout",
          "text": [
            "Mising Values:\n",
            "default    0\n",
            "student    0\n",
            "balance    0\n",
            "income     0\n",
            "dtype: int64\n"
          ]
        }
      ]
    },
    {
      "cell_type": "code",
      "source": [
        "# Convert 'default' from string to numeric (0 and 1)\n",
        "default['default'] = default['default'].map({'No':0, 'Yes':1})\n",
        "default['stuent'] = default['student'].map({'No':0, 'Yes':1})"
      ],
      "metadata": {
        "id": "C7FD36x-8mWh"
      },
      "execution_count": null,
      "outputs": []
    },
    {
      "cell_type": "code",
      "source": [
        "#Check the structure of the data\n",
        "print(\"Data Info:\")\n",
        "print(default.info())\n",
        "print(\"\\n\")"
      ],
      "metadata": {
        "colab": {
          "base_uri": "https://localhost:8080/"
        },
        "id": "GSd2muqPBF0T",
        "outputId": "120e001b-53e0-41bf-c347-9b5a2b626c91"
      },
      "execution_count": null,
      "outputs": [
        {
          "output_type": "stream",
          "name": "stdout",
          "text": [
            "Data Info:\n",
            "<class 'pandas.core.frame.DataFrame'>\n",
            "RangeIndex: 10000 entries, 0 to 9999\n",
            "Data columns (total 5 columns):\n",
            " #   Column   Non-Null Count  Dtype  \n",
            "---  ------   --------------  -----  \n",
            " 0   default  10000 non-null  int64  \n",
            " 1   student  10000 non-null  object \n",
            " 2   balance  10000 non-null  float64\n",
            " 3   income   10000 non-null  float64\n",
            " 4   stuent   10000 non-null  int64  \n",
            "dtypes: float64(2), int64(2), object(1)\n",
            "memory usage: 390.8+ KB\n",
            "None\n",
            "\n",
            "\n"
          ]
        }
      ]
    },
    {
      "cell_type": "code",
      "source": [
        "#Statistics Summary of the data\n",
        "print(\"\\n Summary Statistics:\")\n",
        "print(default.describe())"
      ],
      "metadata": {
        "colab": {
          "base_uri": "https://localhost:8080/"
        },
        "id": "K7bcov0B4t3x",
        "outputId": "cde98fd0-ad7d-4de3-bd95-983845e2411f"
      },
      "execution_count": null,
      "outputs": [
        {
          "output_type": "stream",
          "name": "stdout",
          "text": [
            "\n",
            " Summary Statistics:\n",
            "            default       balance        income        stuent\n",
            "count  10000.000000  10000.000000  10000.000000  10000.000000\n",
            "mean       0.033300    835.374886  33516.981876      0.294400\n",
            "std        0.179428    483.714985  13336.639563      0.455795\n",
            "min        0.000000      0.000000    771.967729      0.000000\n",
            "25%        0.000000    481.731105  21340.462903      0.000000\n",
            "50%        0.000000    823.636973  34552.644802      0.000000\n",
            "75%        0.000000   1166.308386  43807.729272      1.000000\n",
            "max        1.000000   2654.322576  73554.233495      1.000000\n"
          ]
        }
      ]
    },
    {
      "cell_type": "code",
      "source": [
        "# Let's also check if there are any other categorical columns that might need conversion\n",
        "print('\\n Other categorical columns:')\n",
        "categorical_cols = default.select_dtypes(include=['object']).columns\n",
        "print(categorical_cols)"
      ],
      "metadata": {
        "colab": {
          "base_uri": "https://localhost:8080/"
        },
        "id": "3F0FPZAN2F1k",
        "outputId": "30fc1aa9-5613-4434-93d5-02e853b00c7a"
      },
      "execution_count": null,
      "outputs": [
        {
          "output_type": "stream",
          "name": "stdout",
          "text": [
            "\n",
            " Other categorical columns:\n",
            "Index(['student'], dtype='object')\n"
          ]
        }
      ]
    },
    {
      "cell_type": "code",
      "source": [
        "df = default.select_dtypes(include='number')"
      ],
      "metadata": {
        "id": "ie5sXgmHELP2"
      },
      "execution_count": null,
      "outputs": []
    },
    {
      "cell_type": "code",
      "source": [
        "# Fit logistic regression model using income and balance to predict default\n",
        "logit_model = smf.logit(formula='default ~ income + balance', data=df)\n",
        "fitted_model = logit_model.fit()\n",
        "\n",
        "#Display the model summary\n",
        "print(fitted_model.summary())"
      ],
      "metadata": {
        "colab": {
          "base_uri": "https://localhost:8080/"
        },
        "id": "wPmjZWSp5hGQ",
        "outputId": "b91b87a6-c340-499b-9938-c745d765c925"
      },
      "execution_count": null,
      "outputs": [
        {
          "output_type": "stream",
          "name": "stdout",
          "text": [
            "Optimization terminated successfully.\n",
            "         Current function value: 0.078948\n",
            "         Iterations 10\n",
            "                           Logit Regression Results                           \n",
            "==============================================================================\n",
            "Dep. Variable:                default   No. Observations:                10000\n",
            "Model:                          Logit   Df Residuals:                     9997\n",
            "Method:                           MLE   Df Model:                            2\n",
            "Date:                Fri, 22 Aug 2025   Pseudo R-squ.:                  0.4594\n",
            "Time:                        05:33:45   Log-Likelihood:                -789.48\n",
            "converged:                       True   LL-Null:                       -1460.3\n",
            "Covariance Type:            nonrobust   LLR p-value:                4.541e-292\n",
            "==============================================================================\n",
            "                 coef    std err          z      P>|z|      [0.025      0.975]\n",
            "------------------------------------------------------------------------------\n",
            "Intercept    -11.5405      0.435    -26.544      0.000     -12.393     -10.688\n",
            "income      2.081e-05   4.99e-06      4.174      0.000     1.1e-05    3.06e-05\n",
            "balance        0.0056      0.000     24.835      0.000       0.005       0.006\n",
            "==============================================================================\n",
            "\n",
            "Possibly complete quasi-separation: A fraction 0.14 of observations can be\n",
            "perfectly predicted. This might indicate that there is complete\n",
            "quasi-separation. In this case some parameters will not be identified.\n"
          ]
        }
      ]
    },
    {
      "cell_type": "code",
      "source": [
        "# Calculate odds ratios for practical interpretation\n",
        "odds_ratios = np.exp(fitted_model.params)\n",
        "print(\"\\n📊 Odds Ratios (more interpretable):\")\n",
        "print(f\"Income: 1 unit increase → {odds_ratios['income']:.6f}x odds of default\")\n",
        "print(f\"Balance: 1 unit increase → {odds_ratios['balance']:.6f}x odds of default\")\n",
        "print(f\"For every $1000 increase in balance: {np.exp(0.0056*1000):.2f}x odds of default\")"
      ],
      "metadata": {
        "colab": {
          "base_uri": "https://localhost:8080/"
        },
        "collapsed": true,
        "id": "4sSU4ps0UyA5",
        "outputId": "173eb029-0904-4b83-fe2c-ea486dad68ab"
      },
      "execution_count": null,
      "outputs": [
        {
          "output_type": "stream",
          "name": "stdout",
          "text": [
            "\n",
            "📊 Odds Ratios (more interpretable):\n",
            "Income: 1 unit increase → 1.000021x odds of default\n",
            "Balance: 1 unit increase → 1.005663x odds of default\n",
            "For every $1000 increase in balance: 270.43x odds of default\n"
          ]
        }
      ]
    },
    {
      "cell_type": "markdown",
      "source": [
        "Model Results Interpretation\n",
        "1. Model Convergence & Fit\n",
        "Optimization terminated successfully after 10 iterations\n",
        "\n",
        "Current function value: 0.0789 (lower is better, indicating good model fit)\n",
        "\n",
        "Pseudo R-squared: 0.4594 - The model explains approximately 45.94% of the variance in default status, which is considered quite strong for a logistic regression model\n",
        "\n",
        "2. Statistical Significance\n",
        "All predictors are highly statistically significant (p-value < 0.001):\n",
        "\n",
        "Income: p-value = 0.000\n",
        "  \n",
        "Balance: p-value = 0.000\n",
        "\n",
        "Intercept: p-value = 0.000\n",
        "\n",
        "3. Coefficient Interpretation\n",
        "Intercept: -11.5405 - The log-odds of default when both income and balance are zero (theoretical baseline)\n",
        "\n",
        "Income: 2.081e-05 - For each $1 increase in income, the log-odds of default increase by 0.00002081\n",
        "\n",
        "Balance: 0.0056 - For each $1 increase in credit card balance, the log-odds of default increase by 0.0056\n",
        "4. mportant Note: Quasi-Separation Warning\n",
        "The warning about \"quasi-separation\" indicates that:\n",
        "\n",
        "14% of observations can be perfectly predicted - this is actually good news!\n",
        "\n",
        "It means our model is very effective at distinguishing defaulters from non-defaulters\n",
        "\n",
        "No action needed - this is expected behavior for a well-performing classification model\n",
        "\n",
        "5. Conclusion\n",
        "The logistic regression model successfully identifies both income and balance as highly significant predictors of credit card default. Credit card balance appears to be the much stronger predictor in practical terms."
      ],
      "metadata": {
        "id": "CseF10uUbL43"
      }
    },
    {
      "cell_type": "markdown",
      "source": [],
      "metadata": {
        "id": "TXOM71vPgCar"
      }
    },
    {
      "cell_type": "markdown",
      "source": [
        "#b.\tUsing the validation set approach, estimate the test error of this model\n",
        "he goal is to:\n",
        "\n",
        "Split our data into training set (to build the model)\n",
        "\n",
        "And validation set (to test the model's performance)\n",
        "\n",
        "This gives us an estimate of the test error (how well the model generalizes)"
      ],
      "metadata": {
        "id": "gKLuEG4rgFM0"
      }
    },
    {
      "cell_type": "code",
      "source": [
        "# Split the Data into Training and Validation Sets\n",
        "X = default[['income', 'balance']] #Features\n",
        "y = default['default']              # Target variable\n",
        "\n",
        "X_train, X_val, y_train, y_val = train_test_split(X, y, test_size=0.3, random_state=42, stratify=y)\n",
        "\n",
        "print('Data Split Results:')\n",
        "print(f'Original data shape: {X.shape}')\n",
        "print(f'Training set shape: {X_train.shape} (70%)')\n",
        "print(f'Validation set shape: {X_val.shape} (30%)')\n",
        "print(f'Training default rate: {y_train.mean():.3%}')\n",
        "print(f'Vaidation default rate: {y_val.mean():.3%}')"
      ],
      "metadata": {
        "colab": {
          "base_uri": "https://localhost:8080/"
        },
        "id": "olDxGavJXDJG",
        "outputId": "5cb6389a-c5ba-442e-ecf7-1f2454e91ebe"
      },
      "execution_count": null,
      "outputs": [
        {
          "output_type": "stream",
          "name": "stdout",
          "text": [
            "Data Split Results:\n",
            "Original data shape: (10000, 2)\n",
            "Training set shape: (7000, 2) (70%)\n",
            "Validation set shape: (3000, 2) (30%)\n",
            "Training default rate: 3.329%\n",
            "Vaidation default rate: 3.333%\n"
          ]
        }
      ]
    },
    {
      "cell_type": "code",
      "source": [
        "# Fit the model on train Data only\n",
        "X_train_sm = sm.add_constant(X_train)\n",
        "train_model = sm.Logit(y_train, X_train_sm).fit()\n",
        "\n",
        "print('Model fitted on training!')\n",
        "print(train_model.summary())"
      ],
      "metadata": {
        "colab": {
          "base_uri": "https://localhost:8080/"
        },
        "id": "peR4zatMjTmK",
        "outputId": "96026ff9-0f6a-4efb-d1d8-89a3cedfd376"
      },
      "execution_count": null,
      "outputs": [
        {
          "output_type": "stream",
          "name": "stdout",
          "text": [
            "Optimization terminated successfully.\n",
            "         Current function value: 0.078461\n",
            "         Iterations 10\n",
            "Model fitted on training!\n",
            "                           Logit Regression Results                           \n",
            "==============================================================================\n",
            "Dep. Variable:                default   No. Observations:                 7000\n",
            "Model:                          Logit   Df Residuals:                     6997\n",
            "Method:                           MLE   Df Model:                            2\n",
            "Date:                Fri, 22 Aug 2025   Pseudo R-squ.:                  0.4625\n",
            "Time:                        05:34:04   Log-Likelihood:                -549.22\n",
            "converged:                       True   LL-Null:                       -1021.9\n",
            "Covariance Type:            nonrobust   LLR p-value:                5.290e-206\n",
            "==============================================================================\n",
            "                 coef    std err          z      P>|z|      [0.025      0.975]\n",
            "------------------------------------------------------------------------------\n",
            "const        -11.5977      0.523    -22.157      0.000     -12.624     -10.572\n",
            "income      1.851e-05   5.91e-06      3.134      0.002    6.93e-06    3.01e-05\n",
            "balance        0.0058      0.000     20.729      0.000       0.005       0.006\n",
            "==============================================================================\n",
            "\n",
            "Possibly complete quasi-separation: A fraction 0.15 of observations can be\n",
            "perfectly predicted. This might indicate that there is complete\n",
            "quasi-separation. In this case some parameters will not be identified.\n"
          ]
        }
      ]
    },
    {
      "cell_type": "code",
      "source": [
        "#Make Predictions on Validation Set\n",
        "X_val_sm = sm.add_constant(X_val)\n",
        "\n",
        "#Convert probabilities to class predictions (Using 0.5 thread)\n",
        "val_predictions_probs = train_model.predict(X_val_sm)\n",
        "\n",
        "val_predictions = (val_predictions_probs > 0.5).astype(int)\n",
        "\n",
        "print('First 10 prediction probabilities: ', val_predictions_probs[:10].round(3))\n",
        "print('First 10 class predictions; ', val_predictions[:10])\n",
        "print('First 10 actual values: ', y_val.values[:10])"
      ],
      "metadata": {
        "colab": {
          "base_uri": "https://localhost:8080/"
        },
        "id": "E2nxsIyLl3hP",
        "outputId": "282000fe-6d34-4144-8671-e3b00c51b399"
      },
      "execution_count": null,
      "outputs": [
        {
          "output_type": "stream",
          "name": "stdout",
          "text": [
            "First 10 prediction probabilities:  7288    0.011\n",
            "6310    0.002\n",
            "3912    0.000\n",
            "6386    0.528\n",
            "5633    0.004\n",
            "7212    0.000\n",
            "8705    0.698\n",
            "8622    0.002\n",
            "542     0.011\n",
            "8083    0.015\n",
            "dtype: float64\n",
            "First 10 class predictions;  7288    0\n",
            "6310    0\n",
            "3912    0\n",
            "6386    1\n",
            "5633    0\n",
            "7212    0\n",
            "8705    1\n",
            "8622    0\n",
            "542     0\n",
            "8083    0\n",
            "dtype: int64\n",
            "First 10 actual values:  [0 0 0 0 0 0 1 0 0 0]\n"
          ]
        }
      ]
    },
    {
      "cell_type": "code",
      "source": [
        "#Calculate Validation Error Rate\n",
        "#Misclassification error\n",
        "error_rate = np.mean(val_predictions != y_val)\n",
        "accuracy = 1- error_rate\n",
        "\n",
        "#Confusion Matrix\n",
        "cm = confusion_matrix(y_val, val_predictions)\n",
        "tn, fp, fn, tp = cm.ravel()\n",
        "\n",
        "print(f'Validation Error Rate: {error_rate:.3%}')\n",
        "print(f'Validation Accuracy: {accuracy:.3%}')\n",
        "print(f'\\nConfusion Matrix:')\n",
        "print(cm)\n",
        "print(f'\\nTrue Negative:{tn} | False Positive: {fp}')\n",
        "print(f'False Negative: {fp} | True Positive: {tp}')"
      ],
      "metadata": {
        "colab": {
          "base_uri": "https://localhost:8080/"
        },
        "id": "EKwvZw-GoksW",
        "outputId": "86e5863f-c9f2-4221-f277-f9e75f902449"
      },
      "execution_count": null,
      "outputs": [
        {
          "output_type": "stream",
          "name": "stdout",
          "text": [
            "Validation Error Rate: 2.867%\n",
            "Validation Accuracy: 97.133%\n",
            "\n",
            "Confusion Matrix:\n",
            "[[2881   19]\n",
            " [  67   33]]\n",
            "\n",
            "True Negative:2881 | False Positive: 19\n",
            "False Negative: 19 | True Positive: 33\n"
          ]
        }
      ]
    },
    {
      "cell_type": "code",
      "source": [
        "#Additional Metrics\n",
        "if tp + fp > 0: # Aviod division by zero\n",
        "  precision = tp / (tp+fp)\n",
        "  recall = tp / (tp+fn)\n",
        "  f1_score = 2 * (precision * recall) / (precision + recall)\n",
        "\n",
        "  print(f'\\nAdditional Metrics:')\n",
        "  print(f'Precision: {precision:.3%}') # of predicted, how many were correct?\n",
        "  print(f'Recall: {recall:.3%}')  # Of actual defaults, how many did we catch?\n",
        "  print(f'F1-Score: {f1_score:.3%}')"
      ],
      "metadata": {
        "colab": {
          "base_uri": "https://localhost:8080/"
        },
        "id": "PC-ZmPWzqdQj",
        "outputId": "d5dad8c2-99b9-4a24-8c61-60188169a8ef"
      },
      "execution_count": null,
      "outputs": [
        {
          "output_type": "stream",
          "name": "stdout",
          "text": [
            "\n",
            "Additional Metrics:\n",
            "Precision: 63.462%\n",
            "Recall: 33.000%\n",
            "F1-Score: 43.421%\n"
          ]
        }
      ]
    },
    {
      "cell_type": "code",
      "source": [
        "#Training predictions\n",
        "train_predictions_probs = train_model.predict(X_train_sm)\n",
        "train_predictions = (train_predictions_probs > 0.5).astype(int)\n",
        "train_error = np.mean(train_predictions != y_train)\n",
        "\n",
        "print(f'Training Error Rate: {train_error:.3%}')\n",
        "print(f'Validation Error Rate: {error_rate:.3%}')\n",
        "print(f'Difference: {abs(train_error - error_rate):.3%}')\n",
        "\n",
        "if abs(train_error - error_rate) < 0.01:\n",
        "  print('Good generalization: Similar training and validation error\")')\n",
        "else:\n",
        "  print('Potential overfitting: Large gap between training and validation error\")')"
      ],
      "metadata": {
        "colab": {
          "base_uri": "https://localhost:8080/"
        },
        "id": "u_Vgn9QDsI8C",
        "outputId": "d8d2c3f5-11eb-4530-f2e1-f1ca233eda91"
      },
      "execution_count": null,
      "outputs": [
        {
          "output_type": "stream",
          "name": "stdout",
          "text": [
            "Training Error Rate: 2.571%\n",
            "Validation Error Rate: 2.867%\n",
            "Difference: 0.295%\n",
            "Good generalization: Similar training and validation error\")\n"
          ]
        }
      ]
    },
    {
      "cell_type": "markdown",
      "source": [
        "## **Validation Set Approach Results**\n",
        "\n",
        "### **Key Findings:**\n",
        "- **Validation Error Rate:** 2.867%\n",
        "- **Validation Accuracy:** 97.133%\n",
        "- **The model demonstrates excellent generalization** with only a 0.295% difference between training and validation error\n",
        "\n",
        "### **Model Performance Breakdown:**\n",
        "\n",
        "**Overall Performance:**\n",
        "-**97.133% Accuracy:** The model correctly predicts default status for the vast majority of customers\n",
        "-**2.867% Error Rate:** Very low misclassification rate\n",
        "\n",
        "**Default Prediction Capability (Class 1):**\n",
        "- **Precision: 63.462%** - When the model predicts \"default\", it's correct about 63% of the time\n",
        "- **Recall: 33.000%** - The model detects only 33% of actual defaults\n",
        "- **F1-Score: 43.421%** - Balanced measure of precision and recall\n",
        "\n",
        "**Non-Default Prediction Capability (Class 0):**\n",
        "- **Excellent performance** with 2881 true negatives and only 19 false positives\n",
        "\n",
        "### **Business Implications:**\n",
        "- The model is **highly effective at identifying low-risk customers** (97%+ accuracy)\n",
        "- However, it **misses about 67% of actual defaults** (low recall) - this could be costly for the business\n",
        "- When it does flag someone as high-risk, it's correct about 63% of the time\n",
        "\n",
        "### **Recommendations:**\n",
        "1. **Address class imbalance** - Only 3.3% of accounts default, making them hard to detect\n",
        "2. **Adjust classification threshold** - Lowering the threshold from 0.5 to 0.3 might catch more defaults\n",
        "3. **Collect additional features** - Income and balance alone may not be sufficient to predict default reliably\n",
        "4. **Use as first screening tool** - The model is excellent for identifying low-risk customers automatically\n",
        "\n",
        "### **Next Steps:**\n",
        "- Experiment with different probability thresholds\n",
        "- Try techniques for imbalanced data (SMOTE, class weights)\n",
        "- Implement k-Fold Cross-Validation for more robust error estimation"
      ],
      "metadata": {
        "id": "4xTDVxvMuDUy"
      }
    },
    {
      "cell_type": "code",
      "source": [
        "# =============================================================================\n",
        "# PART a: Repeat validation set approach with different random splits\n",
        "# =============================================================================\n",
        "\n",
        "print(\" PART a: Multiple Validation Splits\")\n",
        "print(\"=\" * 50)\n",
        "\n",
        "# We'll test 3 different random seeds\n",
        "random_seeds = [42, 123, 789]\n",
        "results = []\n",
        "\n",
        "for i, seed in enumerate(random_seeds, 1):\n",
        "    print(f\"\\n Split {i} (Random State = {seed})\")\n",
        "    print(\"-\" * 30)\n",
        "\n",
        "    # Split with different random seed\n",
        "    X_train, X_val, y_train, y_val = train_test_split(\n",
        "        X, y, test_size=0.3, random_state=seed, stratify=y\n",
        "    )\n",
        "\n",
        "    # Fit model\n",
        "    X_train_sm = sm.add_constant(X_train)\n",
        "    model = sm.Logit(y_train, X_train_sm).fit(disp=0)  # disp=0 suppresses output\n",
        "\n",
        "    # Predictions - RESET INDEX TO FIX THE ERROR!\n",
        "    X_val_sm = sm.add_constant(X_val)\n",
        "    val_predictions_proba = model.predict(X_val_sm)\n",
        "    val_predictions = (val_predictions_proba > 0.5).astype(int)\n",
        "\n",
        "    # FIX: Reset indices to ensure proper alignment\n",
        "    y_val_reset = y_val.reset_index(drop=True)\n",
        "    val_predictions_reset = pd.Series(val_predictions).reset_index(drop=True)\n",
        "\n",
        "    # Calculate metrics with reset indices\n",
        "    error_rate = np.mean(val_predictions_reset != y_val_reset)\n",
        "    accuracy = 1 - error_rate\n",
        "    cm = confusion_matrix(y_val_reset, val_predictions_reset)\n",
        "    tn, fp, fn, tp = cm.ravel()\n",
        "\n",
        "    if tp + fp > 0:\n",
        "        precision = tp / (tp + fp)\n",
        "        recall = tp / (tp + fn)\n",
        "        f1 = 2 * (precision * recall) / (precision + recall)\n",
        "    else:\n",
        "        precision = recall = f1 = 0\n",
        "\n",
        "    # Store results\n",
        "    results.append({\n",
        "        'split': i,\n",
        "        'random_state': seed,\n",
        "        'error_rate': error_rate,\n",
        "        'accuracy': accuracy,\n",
        "        'precision': precision,\n",
        "        'recall': recall,\n",
        "        'f1_score': f1,\n",
        "        'tp': tp,\n",
        "        'fp': fp,\n",
        "        'fn': fn,\n",
        "        'tn': tn\n",
        "    })\n",
        "\n",
        "    # Print results\n",
        "    print(f\"Error Rate: {error_rate:.3%}\")\n",
        "    print(f\"Accuracy: {accuracy:.3%}\")\n",
        "    print(f\"Precision: {precision:.3%}\")\n",
        "    print(f\"Recall: {recall:.3%}\")\n",
        "    print(f\"F1-Score: {f1:.3%}\")\n",
        "    print(f\"Confusion Matrix:\\n{cm}\")\n",
        "\n",
        "# Create summary DataFrame\n",
        "results_df = pd.DataFrame(results)\n",
        "print(\"\\n\" + \"=\"*50)\n",
        "print(\"📊 SUMMARY OF ALL SPLITS\")\n",
        "print(\"=\"*50)\n",
        "print(results_df.round(4))\n",
        "\n",
        "# Calculate averages\n",
        "print(f\"\\n📈 AVERAGE PERFORMANCE ACROSS ALL SPLITS:\")\n",
        "print(f\"Average Error Rate: {results_df['error_rate'].mean():.3%}\")\n",
        "print(f\"Average Accuracy: {results_df['accuracy'].mean():.3%}\")\n",
        "print(f\"Average Precision: {results_df['precision'].mean():.3%}\")\n",
        "print(f\"Average Recall: {results_df['recall'].mean():.3%}\")\n",
        "print(f\"Average F1-Score: {results_df['f1_score'].mean():.3%}\")"
      ],
      "metadata": {
        "colab": {
          "base_uri": "https://localhost:8080/"
        },
        "id": "QV5jwlKQvkHV",
        "outputId": "0272ce0f-ac95-43d5-a768-506cfcfa08ac",
        "collapsed": true
      },
      "execution_count": null,
      "outputs": [
        {
          "output_type": "stream",
          "name": "stdout",
          "text": [
            " PART a: Multiple Validation Splits\n",
            "==================================================\n",
            "\n",
            " Split 1 (Random State = 42)\n",
            "------------------------------\n",
            "Error Rate: 2.867%\n",
            "Accuracy: 97.133%\n",
            "Precision: 63.462%\n",
            "Recall: 33.000%\n",
            "F1-Score: 43.421%\n",
            "Confusion Matrix:\n",
            "[[2881   19]\n",
            " [  67   33]]\n",
            "\n",
            " Split 2 (Random State = 123)\n",
            "------------------------------\n",
            "Error Rate: 2.467%\n",
            "Accuracy: 97.533%\n",
            "Precision: 80.952%\n",
            "Recall: 34.000%\n",
            "F1-Score: 47.887%\n",
            "Confusion Matrix:\n",
            "[[2892    8]\n",
            " [  66   34]]\n",
            "\n",
            " Split 3 (Random State = 789)\n",
            "------------------------------\n",
            "Error Rate: 2.833%\n",
            "Accuracy: 97.167%\n",
            "Precision: 70.270%\n",
            "Recall: 26.000%\n",
            "F1-Score: 37.956%\n",
            "Confusion Matrix:\n",
            "[[2889   11]\n",
            " [  74   26]]\n",
            "\n",
            "==================================================\n",
            "📊 SUMMARY OF ALL SPLITS\n",
            "==================================================\n",
            "   split  random_state  error_rate  accuracy  precision  recall  f1_score  tp  \\\n",
            "0      1            42      0.0287    0.9713     0.6346    0.33    0.4342  33   \n",
            "1      2           123      0.0247    0.9753     0.8095    0.34    0.4789  34   \n",
            "2      3           789      0.0283    0.9717     0.7027    0.26    0.3796  26   \n",
            "\n",
            "   fp  fn    tn  \n",
            "0  19  67  2881  \n",
            "1   8  66  2892  \n",
            "2  11  74  2889  \n",
            "\n",
            "📈 AVERAGE PERFORMANCE ACROSS ALL SPLITS:\n",
            "Average Error Rate: 2.722%\n",
            "Average Accuracy: 97.278%\n",
            "Average Precision: 71.561%\n",
            "Average Recall: 31.000%\n",
            "Average F1-Score: 43.088%\n"
          ]
        }
      ]
    },
    {
      "cell_type": "markdown",
      "source": [
        "Now consider a logistic regression model that predicts the prob\n",
        "ability of default using income, balance, and a dummy variable\n",
        " for student. Estimate the test error for this model using the val\n",
        "idation set approach. Comment on whether or not including a\n",
        " dummyvariable for student leads to a reduction in the test error\n",
        " rate."
      ],
      "metadata": {
        "id": "c1gU_ChnR0kj"
      }
    },
    {
      "cell_type": "code",
      "source": [
        "#Create dummy variable for student\n",
        "default['student_dummy'] = default['student'].map({'No':0, 'Yes':1})\n",
        "print(default['student_dummy'].value_counts())"
      ],
      "metadata": {
        "colab": {
          "base_uri": "https://localhost:8080/"
        },
        "id": "2_FjDnYMR3KC",
        "outputId": "ce41517a-a51c-4a81-910f-72bd3a8c9e27"
      },
      "execution_count": null,
      "outputs": [
        {
          "output_type": "stream",
          "name": "stdout",
          "text": [
            "student_dummy\n",
            "0    7056\n",
            "1    2944\n",
            "Name: count, dtype: int64\n"
          ]
        }
      ]
    },
    {
      "cell_type": "code",
      "source": [
        "#prepare features (including student)\n",
        "X_with_student = default[['income', 'balance', 'student_dummy']]\n",
        "y = default['default']\n",
        "\n",
        "print(f\"\\nNew features matrix shape:'{X_with_student.shape}\")\n",
        "print('"
      ],
      "metadata": {
        "colab": {
          "base_uri": "https://localhost:8080/"
        },
        "id": "jtuixNhpR31q",
        "outputId": "7544dba2-9d5f-4cf6-9d99-932874f2c5c8"
      },
      "execution_count": null,
      "outputs": [
        {
          "output_type": "stream",
          "name": "stdout",
          "text": [
            "\n",
            "New features matrix shape:'(10000, 3)\n",
            "Features: income, balance, student_dummy\n"
          ]
        }
      ]
    },
    {
      "cell_type": "code",
      "source": [
        "#Split data\n",
        "X_train, X_val, y_train, y_val = train_test_split(\n",
        "    X_with_student, y, test_size=0.3, random_state=42, stratify=y\n",
        ")"
      ],
      "metadata": {
        "id": "ULeoHIVqUbBw"
      },
      "execution_count": null,
      "outputs": []
    },
    {
      "cell_type": "code",
      "source": [
        "# Fit model with student variable\n",
        "X_train_sm = sm.add_constant(X_train)\n",
        "model_with_student = sm.Logit(y_train, X_train_sm).fit()\n",
        "\n",
        "print('\\nModel with Student Variable - Summary:')\n",
        "print(model_with_student.summary())"
      ],
      "metadata": {
        "colab": {
          "base_uri": "https://localhost:8080/"
        },
        "id": "TVwrR_ShRz10",
        "outputId": "9a77160b-a55e-4562-a0c3-e1309367dabd"
      },
      "execution_count": null,
      "outputs": [
        {
          "output_type": "stream",
          "name": "stdout",
          "text": [
            "Optimization terminated successfully.\n",
            "         Current function value: 0.078110\n",
            "         Iterations 10\n",
            "\n",
            "Model with Student Variable - Summary:\n",
            "                           Logit Regression Results                           \n",
            "==============================================================================\n",
            "Dep. Variable:                default   No. Observations:                 7000\n",
            "Model:                          Logit   Df Residuals:                     6996\n",
            "Method:                           MLE   Df Model:                            3\n",
            "Date:                Fri, 22 Aug 2025   Pseudo R-squ.:                  0.4649\n",
            "Time:                        06:06:43   Log-Likelihood:                -546.77\n",
            "converged:                       True   LL-Null:                       -1021.9\n",
            "Covariance Type:            nonrobust   LLR p-value:                1.119e-205\n",
            "=================================================================================\n",
            "                    coef    std err          z      P>|z|      [0.025      0.975]\n",
            "---------------------------------------------------------------------------------\n",
            "const           -10.9689      0.587    -18.682      0.000     -12.120      -9.818\n",
            "income         1.727e-06   9.59e-06      0.180      0.857   -1.71e-05    2.05e-05\n",
            "balance           0.0058      0.000     20.650      0.000       0.005       0.006\n",
            "student_dummy    -0.6187      0.278     -2.227      0.026      -1.163      -0.074\n",
            "=================================================================================\n",
            "\n",
            "Possibly complete quasi-separation: A fraction 0.15 of observations can be\n",
            "perfectly predicted. This might indicate that there is complete\n",
            "quasi-separation. In this case some parameters will not be identified.\n"
          ]
        }
      ]
    },
    {
      "cell_type": "code",
      "source": [
        "#Make predictions\n",
        "X_val_sm = sm.add_constant(X_val)\n",
        "val_predictions_student = (model_with_student.predict(X_val_sm) > 0.5).astype(int)\n"
      ],
      "metadata": {
        "id": "IoaCCVEkaHVq"
      },
      "execution_count": null,
      "outputs": []
    },
    {
      "cell_type": "code",
      "source": [
        "#Calculate metrics for model with student\n",
        "error_rate_student = np.mean(val_predictions_student != y_val)\n",
        "accuracy_student = 1 - error_rate_student\n",
        "cm_student = confusion_matrix(y_val, val_predictions_student)\n",
        "tn_s, fp_s, fn_s, tp_s = cm_student.ravel()\n",
        "\n",
        "if tp_s + fp_s > 0:\n",
        "  precision_student = tp_s / (tp_s + fp_s)\n",
        "  recall_student = tp_s / (tp_s +fn_s)\n",
        "  f1_student = 2 * (precision_student * recall_student) / (precision_student + recall_student)\n",
        "else:\n",
        "  precision_student = recall_student = f1_student = 0\n"
      ],
      "metadata": {
        "id": "OVZvYLSsbfIC"
      },
      "execution_count": null,
      "outputs": []
    },
    {
      "cell_type": "code",
      "source": [
        "#Compare with origional model (from first split)\n",
        "print('\\nComparison: with vs without student variable')\n",
        "print('='*60)\n",
        "print(f\"{'Metric':<15} {'Without Student':<15} {'With Sudent':<15} {'Diffrence':<15}\")\n",
        "print(f'{'-'*15} {'-'*15} {'-'*15}')\n",
        "print(f'{'Error Rate':<15} {results[0]['error_rate']:.3%} {error_rate_student:.3%} {error_Rate_student - results[0]['error_rate']:+3%}')\n",
        "print(f'{'Accuracy':<15} {results[0]['accuracy']:.3%} {accuracy_student:.3%} {accuracy_student - results[0]['accuracy']:+.3%}')\n",
        "print(f'{'Precision':<15} {results[0]['precision']:.3%}{precision_student:.3%}{precision_student - results[0]['precision']:+.3%}')\n",
        "print(f'{'Recall':<15} {results[0]['recall']:.3%}{recall_student:.3%}{recall_student - results[0]['recall']:+.3%}')\n",
        "print(f'{'F1_Score':<15} {results[0]['f1_score']:.3%} {f1_student:.3%} {f1_student - results[0]['f1_score']:+.3%}')\n"
      ],
      "metadata": {
        "colab": {
          "base_uri": "https://localhost:8080/"
        },
        "id": "6JPqzFuqcs3a",
        "outputId": "c69dfd7e-8b8e-49b3-b6ec-08da5bcc4182"
      },
      "execution_count": null,
      "outputs": [
        {
          "output_type": "stream",
          "name": "stdout",
          "text": [
            "\n",
            "Comparison: with vs without student variable\n",
            "============================================================\n",
            "Metric          Without Student With Sudent     Diffrence      \n",
            "--------------- --------------- ---------------\n",
            "Error Rate      2.867% 2.833% -0.033333%\n",
            "Accuracy        97.133% 97.167% +0.033%\n",
            "Precision       63.462%64.706%+1.244%\n",
            "Recall          33.000%33.000%+0.000%\n",
            "F1_Score        43.421% 43.709% +0.288%\n"
          ]
        }
      ]
    },
    {
      "cell_type": "code",
      "source": [
        "#check if student coefficient is statistically significant\n",
        "student_pvalue = model_with_student.pvalues['student_dummy']\n",
        "print(f\"\\nStudent Variable p-value:' {student_pvalue:.4f}\")\n",
        "if student_pvalue < 0.05:\n",
        "  print('Student Variable is statistically significant (p < 0.05)')\n",
        "else:\n",
        "  print('Student Variable is NOT statistically significant (p > 0.05)')\n"
      ],
      "metadata": {
        "colab": {
          "base_uri": "https://localhost:8080/"
        },
        "id": "5xLnRV9aj-TS",
        "outputId": "a444efc4-28f5-4e2b-b01b-61c062e34506"
      },
      "execution_count": null,
      "outputs": [
        {
          "output_type": "stream",
          "name": "stdout",
          "text": [
            "\n",
            "Student Variable p-value:' 0.0259\n",
            "Student Variable is statistically significant (p < 0.05)\n"
          ]
        }
      ]
    },
    {
      "cell_type": "code",
      "source": [
        "#Interpretation\n",
        "if error_rate_student < results[0]['error_rate']:\n",
        "  print('\\nCONCLUSION: Including student variable REDUCES test error rate')\n",
        "else:\n",
        "  print('\\nCONCLUSION: Including student variable DOES NOT reduce test error rate')"
      ],
      "metadata": {
        "colab": {
          "base_uri": "https://localhost:8080/"
        },
        "id": "tOV0A4Yml3Wn",
        "outputId": "c35365d7-f29b-4ed6-aa5b-af121da9d954"
      },
      "execution_count": null,
      "outputs": [
        {
          "output_type": "stream",
          "name": "stdout",
          "text": [
            "\n",
            "CONCLUSION: Including student variable REDUCES test error rate\n"
          ]
        }
      ]
    },
    {
      "cell_type": "markdown",
      "source": [
        "What is Bootstrap?\n",
        "\n",
        "A powerful resampling technique to estimate uncertainty (like standard errors)\n",
        "Works by:\n",
        "      1) repeatedly sampling from your data with replacement,\n",
        "      2) fitting your model to each sample,\n",
        "      3) analyzing the distribution of results\n",
        "Why Use Bootstrap?\n",
        "\n",
        "Doesn't rely on mathematical formulas/assumptions\n",
        "\n",
        "Works for any model, even complex ones\n",
        "\n",
        "Provides robust estimates of uncertainty\n",
        "\n",
        "The Two Approaches We'll Compare:\n",
        "\n",
        "Traditional (sm.GLM()): Uses mathematical formulas to compute standard errors\n",
        "\n",
        "Bootstrap: Uses resampling to empirically estimate standard errors"
      ],
      "metadata": {
        "id": "9OY9T2BnxZ3x"
      }
    },
    {
      "cell_type": "code",
      "source": [
        "#6: Bootstrap Standard Error\n",
        "#Set random seed for reproducibility\n",
        "np.random.seed(42)\n",
        "\n",
        "#Prepare data for traditional standard error using GLM\n",
        "X = default[['income', 'balance']]\n",
        "X = sm.add_constant(X) #adding intercept\n",
        "y = default['default']\n",
        "\n",
        "#Fit logistic regression using GLM\n",
        "glm_model = sm.GLM(y, X, family=sm.families.Binomial())\n",
        "glm_results = glm_model.fit()\n",
        "\n",
        "print(glm_results.summary())\n"
      ],
      "metadata": {
        "colab": {
          "base_uri": "https://localhost:8080/"
        },
        "id": "WDjFl3yiyL8I",
        "outputId": "f06c484e-8ca5-4e76-aa81-25ce910d604f"
      },
      "execution_count": null,
      "outputs": [
        {
          "output_type": "stream",
          "name": "stdout",
          "text": [
            "                 Generalized Linear Model Regression Results                  \n",
            "==============================================================================\n",
            "Dep. Variable:                default   No. Observations:                10000\n",
            "Model:                            GLM   Df Residuals:                     9997\n",
            "Model Family:                Binomial   Df Model:                            2\n",
            "Link Function:                  Logit   Scale:                          1.0000\n",
            "Method:                          IRLS   Log-Likelihood:                -789.48\n",
            "Date:                Fri, 22 Aug 2025   Deviance:                       1579.0\n",
            "Time:                        08:23:38   Pearson chi2:                 6.95e+03\n",
            "No. Iterations:                     9   Pseudo R-squ. (CS):             0.1256\n",
            "Covariance Type:            nonrobust                                         \n",
            "==============================================================================\n",
            "                 coef    std err          z      P>|z|      [0.025      0.975]\n",
            "------------------------------------------------------------------------------\n",
            "const        -11.5405      0.435    -26.544      0.000     -12.393     -10.688\n",
            "income      2.081e-05   4.99e-06      4.174      0.000     1.1e-05    3.06e-05\n",
            "balance        0.0056      0.000     24.835      0.000       0.005       0.006\n",
            "==============================================================================\n"
          ]
        }
      ]
    },
    {
      "cell_type": "code",
      "source": [],
      "metadata": {
        "id": "qizBwyHN60-y"
      },
      "execution_count": null,
      "outputs": []
    },
    {
      "cell_type": "code",
      "source": [
        "# Extract standard errors for income and balance\n",
        "traditional_se_income = glm_results.bse['income']\n",
        "traditional_se_balance = glm_results.bse['balance']\n",
        "\n",
        "print(f'\\n Traditional Standard Error:')\n",
        "print(f'Income: {traditional_se_income:.6f}')\n",
        "print(f'Balance: {traditional_se_balance:.6f}')"
      ],
      "metadata": {
        "colab": {
          "base_uri": "https://localhost:8080/"
        },
        "id": "S7707dVhxqyr",
        "outputId": "5938081e-0f63-4e43-c98b-d0d1f5c6d623"
      },
      "execution_count": null,
      "outputs": [
        {
          "output_type": "stream",
          "name": "stdout",
          "text": [
            "\n",
            " Traditional Standard Error:\n",
            "Income: 0.000005\n",
            "Balance: 0.000227\n"
          ]
        }
      ]
    },
    {
      "cell_type": "markdown",
      "source": [
        "The boot_fn() function is the heart of the bootstrap process.\n",
        "what it needs to do:\n",
        "\n",
        "1. Take two inputs:\n",
        "      The full dataset\n",
        "\n",
        "      A set of indices telling it which rows to sample\n",
        "\n",
        "2. Sample with replacement: Create a new dataset by randomly selecting rows (some may be repeated!)\n",
        "\n",
        "3. Fit the model: Run logistic regression on this bootstrap sample\n",
        "\n",
        "4. Return coefficients: Extract and return just the income and balance coefficients\n",
        "\n"
      ],
      "metadata": {
        "id": "5vcIZVKe624O"
      }
    },
    {
      "cell_type": "code",
      "source": [
        "from typing import BinaryIO\n",
        "# Create a boot_fn function that take two parameters: Data - pandas DataFrame (the full default data)\n",
        "#and indices - array like indices for bootstrap sampling\n",
        "def boot_fn(data, indices):\n",
        "\n",
        "  #create bootstrap sample by sampling rows with replacement\n",
        "  bootstrap_sample = default.iloc[indices].copy()\n",
        "\n",
        "  #Prepare features and target for this specific sample\n",
        "  X_boot = bootstrap_sample[['income', 'balance']]\n",
        "  X_boot = sm.add_constant(X_boot)\n",
        "  y_boot = bootstrap_sample['default']\n",
        "\n",
        "  # Fit logistic regression model\n",
        "  try:\n",
        "    #use GLM for logistic regression\n",
        "    model = sm.GLM(y_boot, X_boot, family=sm.families.Binomial())\n",
        "    results = model.fit()\n",
        "\n",
        "    # Extract and return the coefficients  we need\n",
        "    income_coef = results.params['income']\n",
        "    balance_coef = results.params['balance']\n",
        "\n",
        "  #return only [income_coef, balance_coef] (not intercept)\n",
        "    return np.array([income_coef, balance_coef])\n",
        "  except Exception as e:\n",
        "    #Return NaN if model fails to fit\n",
        "    print(f'Warning: Model fitting failed for this sample. Error:{e}')\n",
        "    return np.array([np.nan, np.nan])\n"
      ],
      "metadata": {
        "id": "VrNfKFRn7Rpf"
      },
      "execution_count": null,
      "outputs": []
    },
    {
      "cell_type": "code",
      "source": [
        "from random import choice\n",
        "# C. Set parameters for bootstrap\n",
        "n_bootstrap = 1000 #number of bootstarp sample (typically 1000 -10,000)\n",
        "n = len(default) #Number of observation in the original data\n",
        "\n",
        "print(f'Running {n_bootstrap} bootstrap samples with {n} observation each')\n",
        "\n",
        "#Initialize arrays to store bootstrap results\n",
        "bootstrap_income_coefs = np.zeros(n_bootstrap)\n",
        "bootstrap_balance_coefs = np.zeros(n_bootstrap)\n",
        "\n",
        "# Run bootstrap\n",
        "for i in range(n_bootstrap):\n",
        "  if (i+1) % 100 == 0: #updating the progress every 100 samples\n",
        "    print(f'Processing sample {i+1}/{n_bootstrap}...')\n",
        "\n",
        "  #Generating random indices for bootstrap sampling (with replacement)\n",
        "  bootstrap_indices = np.random.choice(n, size=n, replace=True)\n",
        "\n",
        "  # Get coefficients from this bootstrap sample\n",
        "  coefs = boot_fn(default, bootstrap_indices)\n",
        "  #Store the results\n",
        "  bootstrap_income_coefs[i] = coefs[0]\n",
        "  bootstrap_balance_coefs[i] = coefs[1]\n",
        "\n",
        "print('Bootstrap completed!')"
      ],
      "metadata": {
        "colab": {
          "base_uri": "https://localhost:8080/"
        },
        "id": "nrFQOAGVAdmV",
        "outputId": "8202df39-a7ca-465e-b6fd-525b600797ad"
      },
      "execution_count": null,
      "outputs": [
        {
          "output_type": "stream",
          "name": "stdout",
          "text": [
            "Running 1000 bootstrap samples with 10000 observation each\n",
            "Processing sample 100/1000...\n",
            "Processing sample 200/1000...\n",
            "Processing sample 300/1000...\n",
            "Processing sample 400/1000...\n",
            "Processing sample 500/1000...\n",
            "Processing sample 600/1000...\n",
            "Processing sample 700/1000...\n",
            "Processing sample 800/1000...\n",
            "Processing sample 900/1000...\n",
            "Processing sample 1000/1000...\n",
            "Bootstrap completed!\n"
          ]
        }
      ]
    },
    {
      "cell_type": "code",
      "source": [
        "# Calculate number of successful samples (non-NaN values)\n",
        "successful_samples_income = np.sum(~np.isnan(bootstrap_income_coefs))\n",
        "successful_samples_balance = np.sum(~np.isnan(bootstrap_balance_coefs))\n",
        "\n",
        "print(f\"Number of successful samples (income): {successful_samples_income}/{n_bootstrap}\")\n",
        "print(f\"Number of successful samples (balance): {successful_samples_balance}/{n_bootstrap}\")\n"
      ],
      "metadata": {
        "colab": {
          "base_uri": "https://localhost:8080/"
        },
        "id": "ZutqSpI1Fl72",
        "outputId": "e267cff9-77b2-48bb-a6ea-bed85c5a925e"
      },
      "execution_count": null,
      "outputs": [
        {
          "output_type": "stream",
          "name": "stdout",
          "text": [
            "Number of successful samples (income): 1000/1000\n",
            "Number of successful samples (balance): 1000/1000\n"
          ]
        }
      ]
    },
    {
      "cell_type": "code",
      "source": [
        "#Remove NaN values for proper calculation\n",
        "valid_income_coefs = bootstrap_income_coefs[~np.isnan(bootstrap_income_coefs)]\n",
        "valid_balance_coefs = bootstrap_balance_coefs[~np.isnan(bootstrap_balance_coefs)]\n",
        "\n",
        "print(f'Income coefficient range: [{valid_income_coefs.min():.8f}. {valid_income_coefs.max():.8f}]')\n",
        "print(f'Balance coefficient range: [{valid_balance_coefs.min():.8f}, {valid_balance_coefs.max():.8f}]')"
      ],
      "metadata": {
        "colab": {
          "base_uri": "https://localhost:8080/"
        },
        "id": "2HYu1QMBKn7H",
        "outputId": "09863c26-b3e1-4de7-dfd6-4c6cb6387c6f"
      },
      "execution_count": null,
      "outputs": [
        {
          "output_type": "stream",
          "name": "stdout",
          "text": [
            "Income coefficient range: [0.00000323. 0.00003811]\n",
            "Balance coefficient range: [0.00486480, 0.00633398]\n"
          ]
        }
      ]
    },
    {
      "cell_type": "code",
      "source": [
        "\n",
        "# Calculate bootstrap standard errors (standard deviation of bootstrap estimates)\n",
        "bootstrap_se_income = np.std(bootstrap_income_coefs, ddof=1) #ddof=1 for sample standard deviation\n",
        "bootstrap_se_balance = np.std(bootstrap_balance_coefs, ddof=1)\n",
        "\n",
        "print(f'\\nBootstrap Results:')\n",
        "print(f'Income Coefficient Rnage: [{bootstrap_income_coefs.min():.8f}, {bootstrap_income_coefs.max():.8f}]')\n",
        "print(f'Balance Coefficient Rnage: [{bootstrap_balance_coefs.min():.8f}, {bootstrap_balance_coefs.max():.8f}]')\n",
        "\n",
        "print(f'\\nBootstrap Standard Error:')\n",
        "print(f'Income: {bootstrap_se_income:.6f}')\n",
        "print(f'Balance: {bootstrap_se_balance:.6f}')\n"
      ],
      "metadata": {
        "colab": {
          "base_uri": "https://localhost:8080/"
        },
        "id": "78MmHu-BKkPh",
        "outputId": "4a99cd89-0c75-4c40-ff01-db1fa4ebcdf9"
      },
      "execution_count": null,
      "outputs": [
        {
          "output_type": "stream",
          "name": "stdout",
          "text": [
            "\n",
            "Bootstrap Results:\n",
            "Income Coefficient Rnage: [0.00000323, 0.00003811]\n",
            "Balance Coefficient Rnage: [0.00486480, 0.00633398]\n",
            "\n",
            "Bootstrap Standard Error:\n",
            "Income: 0.000005\n",
            "Balance: 0.000232\n"
          ]
        }
      ]
    },
    {
      "cell_type": "code",
      "source": [
        "# Create subplots\n",
        "fig, (ax1, ax2) = plt.subplots(1, 2, figsize=(12, 5))\n",
        "\n",
        "# Plot income coefficient distribution (only valid values)\n",
        "ax1.hist(valid_income_coefs, bins=30, alpha=0.7, color='skyblue', edgecolor='black')\n",
        "ax1.axvline(valid_income_coefs.mean(), color='red', linestyle='--', label=f'Mean: {valid_income_coefs.mean():.8f}')\n",
        "ax1.axvline(glm_results.params['income'], color='green', linestyle='--', label=f'Original: {glm_results.params[\"income\"]:.8f}')\n",
        "ax1.set_xlabel('Income Coefficient')\n",
        "ax1.set_ylabel('Frequency')\n",
        "ax1.set_title('Bootstrap Distribution: Income Coefficient')\n",
        "ax1.legend()\n",
        "ax1.grid(True, alpha=0.3)\n",
        "\n",
        "# Plot balance coefficient distribution (only valid values)\n",
        "ax2.hist(valid_balance_coefs, bins=30, alpha=0.7, color='lightcoral', edgecolor='black')\n",
        "ax2.axvline(valid_balance_coefs.mean(), color='red', linestyle='--', label=f'Mean: {valid_balance_coefs.mean():.8f}')\n",
        "ax2.axvline(glm_results.params['balance'], color='green', linestyle='--', label=f'Original: {glm_results.params[\"balance\"]:.8f}')\n",
        "ax2.set_xlabel('Balance Coefficient')\n",
        "ax2.set_ylabel('Frequency')\n",
        "ax2.set_title('Bootstrap Distribution: Balance Coefficient')\n",
        "ax2.legend()\n",
        "ax2.grid(True, alpha=0.3)\n",
        "\n",
        "plt.tight_layout()\n",
        "plt.show()\n",
        "\n",
        "# Print summary statistics\n",
        "print(\"\\n📋 Bootstrap Summary Statistics:\")\n",
        "print(f\"{'':<20} {'Income Coef':<15} {'Balance Coef':<15}\")\n",
        "print(f\"{'-'*20} {'-'*15} {'-'*15}\")\n",
        "print(f\"{'Mean':<20} {valid_income_coefs.mean():.8f} {valid_balance_coefs.mean():.8f}\")\n",
        "print(f\"{'Std Error (SE)':<20} {bootstrap_se_income:.8f} {bootstrap_se_balance:.8f}\")\n",
        "print(f\"{'95% CI Lower':<20} {np.percentile(valid_income_coefs, 2.5):.8f} {np.percentile(valid_balance_coefs, 2.5):.8f}\")\n",
        "print(f\"{'95% CI Upper':<20} {np.percentile(valid_income_coefs, 97.5):.8f} {np.percentile(valid_balance_coefs, 97.5):.8f}\")"
      ],
      "metadata": {
        "colab": {
          "base_uri": "https://localhost:8080/",
          "height": 419
        },
        "id": "I8PCU1D3MW15",
        "outputId": "2542737f-fcf4-4d49-ecb3-b31519766a79"
      },
      "execution_count": null,
      "outputs": [
        {
          "output_type": "display_data",
          "data": {
            "text/plain": [
              "<Figure size 1200x500 with 2 Axes>"
            ],
            "image/png": "[encoded data removed]"
          },
          "metadata": {}
        },
        {
          "output_type": "stream",
          "name": "stdout",
          "text": [
            "\n",
            "📋 Bootstrap Summary Statistics:\n",
            "                     Income Coef     Balance Coef   \n",
            "-------------------- --------------- ---------------\n",
            "Mean                 0.00002084 0.00565361\n",
            "Std Error (SE)       0.00000497 0.00023198\n",
            "95% CI Lower         0.00001104 0.00520840\n",
            "95% CI Upper         0.00003070 0.00610872\n"
          ]
        }
      ]
    },
    {
      "cell_type": "code",
      "source": [
        "#7.\n",
        "!pip install ISLP"
      ],
      "metadata": {
        "colab": {
          "base_uri": "https://localhost:8080/"
        },
        "id": "taNfRMO4zPKO",
        "outputId": "13a0baf7-b12e-4b51-9457-dfd54df216f8"
      },
      "execution_count": null,
      "outputs": [
        {
          "output_type": "stream",
          "name": "stdout",
          "text": [
            "Collecting ISLP\n",
            "  Downloading ISLP-0.4.0-py3-none-any.whl.metadata (7.0 kB)\n",
            "Requirement already satisfied: numpy>=1.7.1 in /usr/local/lib/python3.12/dist-packages (from ISLP) (2.0.2)\n",
            "Requirement already satisfied: scipy>=0.9 in /usr/local/lib/python3.12/dist-packages (from ISLP) (1.16.1)\n",
            "Requirement already satisfied: pandas>=0.20 in /usr/local/lib/python3.12/dist-packages (from ISLP) (2.2.2)\n",
            "Requirement already satisfied: lxml in /usr/local/lib/python3.12/dist-packages (from ISLP) (5.4.0)\n",
            "Requirement already satisfied: scikit-learn>=1.2 in /usr/local/lib/python3.12/dist-packages (from ISLP) (1.6.1)\n",
            "Requirement already satisfied: joblib in /usr/local/lib/python3.12/dist-packages (from ISLP) (1.5.1)\n",
            "Requirement already satisfied: statsmodels>=0.13 in /usr/local/lib/python3.12/dist-packages (from ISLP) (0.14.5)\n",
            "Collecting lifelines (from ISLP)\n",
            "  Downloading lifelines-0.30.0-py3-none-any.whl.metadata (3.2 kB)\n",
            "Collecting pygam (from ISLP)\n",
            "  Downloading pygam-0.10.1-py3-none-any.whl.metadata (9.7 kB)\n",
            "Requirement already satisfied: torch in /usr/local/lib/python3.12/dist-packages (from ISLP) (2.8.0+cu126)\n",
            "Collecting pytorch-lightning (from ISLP)\n",
            "  Downloading pytorch_lightning-2.5.3-py3-none-any.whl.metadata (20 kB)\n",
            "Collecting torchmetrics (from ISLP)\n",
            "  Downloading torchmetrics-1.8.1-py3-none-any.whl.metadata (22 kB)\n",
            "Requirement already satisfied: python-dateutil>=2.8.2 in /usr/local/lib/python3.12/dist-packages (from pandas>=0.20->ISLP) (2.9.0.post0)\n",
            "Requirement already satisfied: pytz>=2020.1 in /usr/local/lib/python3.12/dist-packages (from pandas>=0.20->ISLP) (2025.2)\n",
            "Requirement already satisfied: tzdata>=2022.7 in /usr/local/lib/python3.12/dist-packages (from pandas>=0.20->ISLP) (2025.2)\n",
            "Requirement already satisfied: threadpoolctl>=3.1.0 in /usr/local/lib/python3.12/dist-packages (from scikit-learn>=1.2->ISLP) (3.6.0)\n",
            "Requirement already satisfied: patsy>=0.5.6 in /usr/local/lib/python3.12/dist-packages (from statsmodels>=0.13->ISLP) (1.0.1)\n",
            "Requirement already satisfied: packaging>=21.3 in /usr/local/lib/python3.12/dist-packages (from statsmodels>=0.13->ISLP) (25.0)\n",
            "Requirement already satisfied: matplotlib>=3.0 in /usr/local/lib/python3.12/dist-packages (from lifelines->ISLP) (3.10.0)\n",
            "Requirement already satisfied: autograd>=1.5 in /usr/local/lib/python3.12/dist-packages (from lifelines->ISLP) (1.8.0)\n",
            "Collecting autograd-gamma>=0.3 (from lifelines->ISLP)\n",
            "  Downloading autograd-gamma-0.5.0.tar.gz (4.0 kB)\n",
            "  Preparing metadata (setup.py) ... \u001b[?25l\u001b[?25hdone\n",
            "Collecting formulaic>=0.2.2 (from lifelines->ISLP)\n",
            "  Downloading formulaic-1.2.0-py3-none-any.whl.metadata (7.0 kB)\n",
            "Requirement already satisfied: progressbar2<5,>=4.2.0 in /usr/local/lib/python3.12/dist-packages (from pygam->ISLP) (4.5.0)\n",
            "Requirement already satisfied: tqdm>=4.57.0 in /usr/local/lib/python3.12/dist-packages (from pytorch-lightning->ISLP) (4.67.1)\n",
            "Requirement already satisfied: PyYAML>5.4 in /usr/local/lib/python3.12/dist-packages (from pytorch-lightning->ISLP) (6.0.2)\n",
            "Requirement already satisfied: fsspec>=2022.5.0 in /usr/local/lib/python3.12/dist-packages (from fsspec[http]>=2022.5.0->pytorch-lightning->ISLP) (2025.3.0)\n",
            "Requirement already satisfied: typing-extensions>4.5.0 in /usr/local/lib/python3.12/dist-packages (from pytorch-lightning->ISLP) (4.14.1)\n",
            "Collecting lightning-utilities>=0.10.0 (from pytorch-lightning->ISLP)\n",
            "  Downloading lightning_utilities-0.15.2-py3-none-any.whl.metadata (5.7 kB)\n",
            "Requirement already satisfied: filelock in /usr/local/lib/python3.12/dist-packages (from torch->ISLP) (3.19.1)\n",
            "Requirement already satisfied: setuptools in /usr/local/lib/python3.12/dist-packages (from torch->ISLP) (75.2.0)\n",
            "Requirement already satisfied: sympy>=1.13.3 in /usr/local/lib/python3.12/dist-packages (from torch->ISLP) (1.13.3)\n",
            "Requirement already satisfied: networkx in /usr/local/lib/python3.12/dist-packages (from torch->ISLP) (3.5)\n",
            "Requirement already satisfied: jinja2 in /usr/local/lib/python3.12/dist-packages (from torch->ISLP) (3.1.6)\n",
            "Requirement already satisfied: nvidia-cuda-nvrtc-cu12==12.6.77 in /usr/local/lib/python3.12/dist-packages (from torch->ISLP) (12.6.77)\n",
            "Requirement already satisfied: nvidia-cuda-runtime-cu12==12.6.77 in /usr/local/lib/python3.12/dist-packages (from torch->ISLP) (12.6.77)\n",
            "Requirement already satisfied: nvidia-cuda-cupti-cu12==12.6.80 in /usr/local/lib/python3.12/dist-packages (from torch->ISLP) (12.6.80)\n",
            "Requirement already satisfied: nvidia-cudnn-cu12==9.10.2.21 in /usr/local/lib/python3.12/dist-packages (from torch->ISLP) (9.10.2.21)\n",
            "Requirement already satisfied: nvidia-cublas-cu12==12.6.4.1 in /usr/local/lib/python3.12/dist-packages (from torch->ISLP) (12.6.4.1)\n",
            "Requirement already satisfied: nvidia-cufft-cu12==11.3.0.4 in /usr/local/lib/python3.12/dist-packages (from torch->ISLP) (11.3.0.4)\n",
            "Requirement already satisfied: nvidia-curand-cu12==10.3.7.77 in /usr/local/lib/python3.12/dist-packages (from torch->ISLP) (10.3.7.77)\n",
            "Requirement already satisfied: nvidia-cusolver-cu12==11.7.1.2 in /usr/local/lib/python3.12/dist-packages (from torch->ISLP) (11.7.1.2)\n",
            "Requirement already satisfied: nvidia-cusparse-cu12==12.5.4.2 in /usr/local/lib/python3.12/dist-packages (from torch->ISLP) (12.5.4.2)\n",
            "Requirement already satisfied: nvidia-cusparselt-cu12==0.7.1 in /usr/local/lib/python3.12/dist-packages (from torch->ISLP) (0.7.1)\n",
            "Requirement already satisfied: nvidia-nccl-cu12==2.27.3 in /usr/local/lib/python3.12/dist-packages (from torch->ISLP) (2.27.3)\n",
            "Requirement already satisfied: nvidia-nvtx-cu12==12.6.77 in /usr/local/lib/python3.12/dist-packages (from torch->ISLP) (12.6.77)\n",
            "Requirement already satisfied: nvidia-nvjitlink-cu12==12.6.85 in /usr/local/lib/python3.12/dist-packages (from torch->ISLP) (12.6.85)\n",
            "Requirement already satisfied: nvidia-cufile-cu12==1.11.1.6 in /usr/local/lib/python3.12/dist-packages (from torch->ISLP) (1.11.1.6)\n",
            "Requirement already satisfied: triton==3.4.0 in /usr/local/lib/python3.12/dist-packages (from torch->ISLP) (3.4.0)\n",
            "Collecting interface-meta>=1.2.0 (from formulaic>=0.2.2->lifelines->ISLP)\n",
            "  Downloading interface_meta-1.3.0-py3-none-any.whl.metadata (6.7 kB)\n",
            "Requirement already satisfied: narwhals>=1.17 in /usr/local/lib/python3.12/dist-packages (from formulaic>=0.2.2->lifelines->ISLP) (2.1.2)\n",
            "Requirement already satisfied: wrapt>=1.0 in /usr/local/lib/python3.12/dist-packages (from formulaic>=0.2.2->lifelines->ISLP) (1.17.3)\n",
            "Requirement already satisfied: aiohttp!=4.0.0a0,!=4.0.0a1 in /usr/local/lib/python3.12/dist-packages (from fsspec[http]>=2022.5.0->pytorch-lightning->ISLP) (3.12.15)\n",
            "Requirement already satisfied: contourpy>=1.0.1 in /usr/local/lib/python3.12/dist-packages (from matplotlib>=3.0->lifelines->ISLP) (1.3.3)\n",
            "Requirement already satisfied: cycler>=0.10 in /usr/local/lib/python3.12/dist-packages (from matplotlib>=3.0->lifelines->ISLP) (0.12.1)\n",
            "Requirement already satisfied: fonttools>=4.22.0 in /usr/local/lib/python3.12/dist-packages (from matplotlib>=3.0->lifelines->ISLP) (4.59.1)\n",
            "Requirement already satisfied: kiwisolver>=1.3.1 in /usr/local/lib/python3.12/dist-packages (from matplotlib>=3.0->lifelines->ISLP) (1.4.9)\n",
            "Requirement already satisfied: pillow>=8 in /usr/local/lib/python3.12/dist-packages (from matplotlib>=3.0->lifelines->ISLP) (11.3.0)\n",
            "Requirement already satisfied: pyparsing>=2.3.1 in /usr/local/lib/python3.12/dist-packages (from matplotlib>=3.0->lifelines->ISLP) (3.2.3)\n",
            "Requirement already satisfied: python-utils>=3.8.1 in /usr/local/lib/python3.12/dist-packages (from progressbar2<5,>=4.2.0->pygam->ISLP) (3.9.1)\n",
            "Requirement already satisfied: six>=1.5 in /usr/local/lib/python3.12/dist-packages (from python-dateutil>=2.8.2->pandas>=0.20->ISLP) (1.17.0)\n",
            "Requirement already satisfied: mpmath<1.4,>=1.1.0 in /usr/local/lib/python3.12/dist-packages (from sympy>=1.13.3->torch->ISLP) (1.3.0)\n",
            "Requirement already satisfied: MarkupSafe>=2.0 in /usr/local/lib/python3.12/dist-packages (from jinja2->torch->ISLP) (3.0.2)\n",
            "Requirement already satisfied: aiohappyeyeballs>=2.5.0 in /usr/local/lib/python3.12/dist-packages (from aiohttp!=4.0.0a0,!=4.0.0a1->fsspec[http]>=2022.5.0->pytorch-lightning->ISLP) (2.6.1)\n",
            "Requirement already satisfied: aiosignal>=1.4.0 in /usr/local/lib/python3.12/dist-packages (from aiohttp!=4.0.0a0,!=4.0.0a1->fsspec[http]>=2022.5.0->pytorch-lightning->ISLP) (1.4.0)\n",
            "Requirement already satisfied: attrs>=17.3.0 in /usr/local/lib/python3.12/dist-packages (from aiohttp!=4.0.0a0,!=4.0.0a1->fsspec[http]>=2022.5.0->pytorch-lightning->ISLP) (25.3.0)\n",
            "Requirement already satisfied: frozenlist>=1.1.1 in /usr/local/lib/python3.12/dist-packages (from aiohttp!=4.0.0a0,!=4.0.0a1->fsspec[http]>=2022.5.0->pytorch-lightning->ISLP) (1.7.0)\n",
            "Requirement already satisfied: multidict<7.0,>=4.5 in /usr/local/lib/python3.12/dist-packages (from aiohttp!=4.0.0a0,!=4.0.0a1->fsspec[http]>=2022.5.0->pytorch-lightning->ISLP) (6.6.4)\n",
            "Requirement already satisfied: propcache>=0.2.0 in /usr/local/lib/python3.12/dist-packages (from aiohttp!=4.0.0a0,!=4.0.0a1->fsspec[http]>=2022.5.0->pytorch-lightning->ISLP) (0.3.2)\n",
            "Requirement already satisfied: yarl<2.0,>=1.17.0 in /usr/local/lib/python3.12/dist-packages (from aiohttp!=4.0.0a0,!=4.0.0a1->fsspec[http]>=2022.5.0->pytorch-lightning->ISLP) (1.20.1)\n",
            "Requirement already satisfied: idna>=2.0 in /usr/local/lib/python3.12/dist-packages (from yarl<2.0,>=1.17.0->aiohttp!=4.0.0a0,!=4.0.0a1->fsspec[http]>=2022.5.0->pytorch-lightning->ISLP) (3.10)\n",
            "Downloading ISLP-0.4.0-py3-none-any.whl (3.6 MB)\n",
            "\u001b[2K   \u001b[90m━━━━━━━━━━━━━━━━━━━━━━━━━━━━━━━━━━━━━━━━\u001b[0m \u001b[32m3.6/3.6 MB\u001b[0m \u001b[31m17.4 MB/s\u001b[0m eta \u001b[36m0:00:00\u001b[0m\n",
            "\u001b[?25hDownloading lifelines-0.30.0-py3-none-any.whl (349 kB)\n",
            "\u001b[2K   \u001b[90m━━━━━━━━━━━━━━━━━━━━━━━━━━━━━━━━━━━━━━━━\u001b[0m \u001b[32m349.3/349.3 kB\u001b[0m \u001b[31m22.7 MB/s\u001b[0m eta \u001b[36m0:00:00\u001b[0m\n",
            "\u001b[?25hDownloading pygam-0.10.1-py3-none-any.whl (80 kB)\n",
            "\u001b[2K   \u001b[90m━━━━━━━━━━━━━━━━━━━━━━━━━━━━━━━━━━━━━━━━\u001b[0m \u001b[32m80.2/80.2 kB\u001b[0m \u001b[31m5.3 MB/s\u001b[0m eta \u001b[36m0:00:00\u001b[0m\n",
            "\u001b[?25hDownloading pytorch_lightning-2.5.3-py3-none-any.whl (828 kB)\n",
            "\u001b[2K   \u001b[90m━━━━━━━━━━━━━━━━━━━━━━━━━━━━━━━━━━━━━━━━\u001b[0m \u001b[32m828.2/828.2 kB\u001b[0m \u001b[31m40.7 MB/s\u001b[0m eta \u001b[36m0:00:00\u001b[0m\n",
            "\u001b[?25hDownloading torchmetrics-1.8.1-py3-none-any.whl (982 kB)\n",
            "\u001b[2K   \u001b[90m━━━━━━━━━━━━━━━━━━━━━━━━━━━━━━━━━━━━━━━━\u001b[0m \u001b[32m983.0/983.0 kB\u001b[0m \u001b[31m45.4 MB/s\u001b[0m eta \u001b[36m0:00:00\u001b[0m\n",
            "\u001b[?25hDownloading formulaic-1.2.0-py3-none-any.whl (117 kB)\n",
            "\u001b[2K   \u001b[90m━━━━━━━━━━━━━━━━━━━━━━━━━━━━━━━━━━━━━━━━\u001b[0m \u001b[32m117.2/117.2 kB\u001b[0m \u001b[31m8.8 MB/s\u001b[0m eta \u001b[36m0:00:00\u001b[0m\n",
            "\u001b[?25hDownloading lightning_utilities-0.15.2-py3-none-any.whl (29 kB)\n",
            "Downloading interface_meta-1.3.0-py3-none-any.whl (14 kB)\n",
            "Building wheels for collected packages: autograd-gamma\n",
            "  Building wheel for autograd-gamma (setup.py) ... \u001b[?25l\u001b[?25hdone\n",
            "  Created wheel for autograd-gamma: filename=autograd_gamma-0.5.0-py3-none-any.whl size=4030 sha256=a597382767dccb67f20cc7877042e680f8857f1735568414d180e07094ab3406\n",
            "  Stored in directory: /root/.cache/pip/wheels/50/37/21/0a719b9d89c635e89ff24bd93b862882ad675279552013b2fb\n",
            "Successfully built autograd-gamma\n",
            "Installing collected packages: lightning-utilities, interface-meta, autograd-gamma, pygam, formulaic, torchmetrics, lifelines, pytorch-lightning, ISLP\n",
            "Successfully installed ISLP-0.4.0 autograd-gamma-0.5.0 formulaic-1.2.0 interface-meta-1.3.0 lifelines-0.30.0 lightning-utilities-0.15.2 pygam-0.10.1 pytorch-lightning-2.5.3 torchmetrics-1.8.1\n"
          ]
        }
      ]
    },
    {
      "cell_type": "code",
      "source": [
        "from ISLP import load_data\n",
        "from ISLP.models import (ModelSpec as MS, summarize)\n",
        "from ISLP import confusion_table\n",
        "from ISLP.models import contrast"
      ],
      "metadata": {
        "id": "dAek3bwHzdSZ"
      },
      "execution_count": null,
      "outputs": []
    },
    {
      "cell_type": "code",
      "source": [
        "#Load and Prepare the Weekly Data\n",
        "weekly = load_data('Weekly')\n",
        "weekly.head()"
      ],
      "metadata": {
        "colab": {
          "base_uri": "https://localhost:8080/",
          "height": 206
        },
        "id": "LonX2asCzirW",
        "outputId": "082cc5f3-f1e5-4828-9638-16a55955ce89"
      },
      "execution_count": null,
      "outputs": [
        {
          "output_type": "execute_result",
          "data": {
            "text/plain": [
              "   Year   Lag1   Lag2   Lag3   Lag4   Lag5    Volume  Today Direction\n",
              "0  1990  0.816  1.572 -3.936 -0.229 -3.484  0.154976 -0.270      Down\n",
              "1  1990 -0.270  0.816  1.572 -3.936 -0.229  0.148574 -2.576      Down\n",
              "2  1990 -2.576 -0.270  0.816  1.572 -3.936  0.159837  3.514        Up\n",
              "3  1990  3.514 -2.576 -0.270  0.816  1.572  0.161630  0.712        Up\n",
              "4  1990  0.712  3.514 -2.576 -0.270  0.816  0.153728  1.178        Up"
            ],
            "text/html": [
              "\n",
              "  <div id=\"df-7bf76f03-93b6-409f-a446-070e457340e7\" class=\"colab-df-container\">\n",
              "    <div>\n",
              "<style scoped>\n",
              "    .dataframe tbody tr th:only-of-type {\n",
              "        vertical-align: middle;\n",
              "    }\n",
              "\n",
              "    .dataframe tbody tr th {\n",
              "        vertical-align: top;\n",
              "    }\n",
              "\n",
              "    .dataframe thead th {\n",
              "        text-align: right;\n",
              "    }\n",
              "</style>\n",
              "<table border=\"1\" class=\"dataframe\">\n",
              "  <thead>\n",
              "    <tr style=\"text-align: right;\">\n",
              "      <th></th>\n",
              "      <th>Year</th>\n",
              "      <th>Lag1</th>\n",
              "      <th>Lag2</th>\n",
              "      <th>Lag3</th>\n",
              "      <th>Lag4</th>\n",
              "      <th>Lag5</th>\n",
              "      <th>Volume</th>\n",
              "      <th>Today</th>\n",
              "      <th>Direction</th>\n",
              "    </tr>\n",
              "  </thead>\n",
              "  <tbody>\n",
              "    <tr>\n",
              "      <th>0</th>\n",
              "      <td>1990</td>\n",
              "      <td>0.816</td>\n",
              "      <td>1.572</td>\n",
              "      <td>-3.936</td>\n",
              "      <td>-0.229</td>\n",
              "      <td>-3.484</td>\n",
              "      <td>0.154976</td>\n",
              "      <td>-0.270</td>\n",
              "      <td>Down</td>\n",
              "    </tr>\n",
              "    <tr>\n",
              "      <th>1</th>\n",
              "      <td>1990</td>\n",
              "      <td>-0.270</td>\n",
              "      <td>0.816</td>\n",
              "      <td>1.572</td>\n",
              "      <td>-3.936</td>\n",
              "      <td>-0.229</td>\n",
              "      <td>0.148574</td>\n",
              "      <td>-2.576</td>\n",
              "      <td>Down</td>\n",
              "    </tr>\n",
              "    <tr>\n",
              "      <th>2</th>\n",
              "      <td>1990</td>\n",
              "      <td>-2.576</td>\n",
              "      <td>-0.270</td>\n",
              "      <td>0.816</td>\n",
              "      <td>1.572</td>\n",
              "      <td>-3.936</td>\n",
              "      <td>0.159837</td>\n",
              "      <td>3.514</td>\n",
              "      <td>Up</td>\n",
              "    </tr>\n",
              "    <tr>\n",
              "      <th>3</th>\n",
              "      <td>1990</td>\n",
              "      <td>3.514</td>\n",
              "      <td>-2.576</td>\n",
              "      <td>-0.270</td>\n",
              "      <td>0.816</td>\n",
              "      <td>1.572</td>\n",
              "      <td>0.161630</td>\n",
              "      <td>0.712</td>\n",
              "      <td>Up</td>\n",
              "    </tr>\n",
              "    <tr>\n",
              "      <th>4</th>\n",
              "      <td>1990</td>\n",
              "      <td>0.712</td>\n",
              "      <td>3.514</td>\n",
              "      <td>-2.576</td>\n",
              "      <td>-0.270</td>\n",
              "      <td>0.816</td>\n",
              "      <td>0.153728</td>\n",
              "      <td>1.178</td>\n",
              "      <td>Up</td>\n",
              "    </tr>\n",
              "  </tbody>\n",
              "</table>\n",
              "</div>\n",
              "    <div class=\"colab-df-buttons\">\n",
              "\n",
              "  <div class=\"colab-df-container\">\n",
              "    <button class=\"colab-df-convert\" onclick=\"convertToInteractive('df-7bf76f03-93b6-409f-a446-070e457340e7')\"\n",
              "            title=\"Convert this dataframe to an interactive table.\"\n",
              "            style=\"display:none;\">\n",
              "\n",
              "  <svg xmlns=\"http://www.w3.org/2000/svg\" height=\"24px\" viewBox=\"0 -960 960 960\">\n",
              "    <path d=\"M120-120v-720h720v720H120Zm60-500h600v-160H180v160Zm220 220h160v-160H400v160Zm0 220h160v-160H400v160ZM180-400h160v-160H180v160Zm440 0h160v-160H620v160ZM180-180h160v-160H180v160Zm440 0h160v-160H620v160Z\"/>\n",
              "  </svg>\n",
              "    </button>\n",
              "\n",
              "  <style>\n",
              "    .colab-df-container {\n",
              "      display:flex;\n",
              "      gap: 12px;\n",
              "    }\n",
              "\n",
              "    .colab-df-convert {\n",
              "      background-color: #E8F0FE;\n",
              "      border: none;\n",
              "      border-radius: 50%;\n",
              "      cursor: pointer;\n",
              "      display: none;\n",
              "      fill: #1967D2;\n",
              "      height: 32px;\n",
              "      padding: 0 0 0 0;\n",
              "      width: 32px;\n",
              "    }\n",
              "\n",
              "    .colab-df-convert:hover {\n",
              "      background-color: #E2EBFA;\n",
              "      box-shadow: 0px 1px 2px rgba(60, 64, 67, 0.3), 0px 1px 3px 1px rgba(60, 64, 67, 0.15);\n",
              "      fill: #174EA6;\n",
              "    }\n",
              "\n",
              "    .colab-df-buttons div {\n",
              "      margin-bottom: 4px;\n",
              "    }\n",
              "\n",
              "    [theme=dark] .colab-df-convert {\n",
              "      background-color: #3B4455;\n",
              "      fill: #D2E3FC;\n",
              "    }\n",
              "\n",
              "    [theme=dark] .colab-df-convert:hover {\n",
              "      background-color: #434B5C;\n",
              "      box-shadow: 0px 1px 3px 1px rgba(0, 0, 0, 0.15);\n",
              "      filter: drop-shadow(0px 1px 2px rgba(0, 0, 0, 0.3));\n",
              "      fill: #FFFFFF;\n",
              "    }\n",
              "  </style>\n",
              "\n",
              "    <script>\n",
              "      const buttonEl =\n",
              "        document.querySelector('#df-7bf76f03-93b6-409f-a446-070e457340e7 button.colab-df-convert');\n",
              "      buttonEl.style.display =\n",
              "        google.colab.kernel.accessAllowed ? 'block' : 'none';\n",
              "\n",
              "      async function convertToInteractive(key) {\n",
              "        const element = document.querySelector('#df-7bf76f03-93b6-409f-a446-070e457340e7');\n",
              "        const dataTable =\n",
              "          await google.colab.kernel.invokeFunction('convertToInteractive',\n",
              "                                                    [key], {});\n",
              "        if (!dataTable) return;\n",
              "\n",
              "        const docLinkHtml = 'Like what you see? Visit the ' +\n",
              "          '<a target=\"_blank\" href=https://colab.research.google.com/notebooks/data_table.ipynb>data table notebook</a>'\n",
              "          + ' to learn more about interactive tables.';\n",
              "        element.innerHTML = '';\n",
              "        dataTable['output_type'] = 'display_data';\n",
              "        await google.colab.output.renderOutput(dataTable, element);\n",
              "        const docLink = document.createElement('div');\n",
              "        docLink.innerHTML = docLinkHtml;\n",
              "        element.appendChild(docLink);\n",
              "      }\n",
              "    </script>\n",
              "  </div>\n",
              "\n",
              "\n",
              "    <div id=\"df-fd071ffd-1eac-4652-a8e7-9bd71fa6b6d7\">\n",
              "      <button class=\"colab-df-quickchart\" onclick=\"quickchart('df-fd071ffd-1eac-4652-a8e7-9bd71fa6b6d7')\"\n",
              "                title=\"Suggest charts\"\n",
              "                style=\"display:none;\">\n",
              "\n",
              "<svg xmlns=\"http://www.w3.org/2000/svg\" height=\"24px\"viewBox=\"0 0 24 24\"\n",
              "     width=\"24px\">\n",
              "    <g>\n",
              "        <path d=\"M19 3H5c-1.1 0-2 .9-2 2v14c0 1.1.9 2 2 2h14c1.1 0 2-.9 2-2V5c0-1.1-.9-2-2-2zM9 17H7v-7h2v7zm4 0h-2V7h2v10zm4 0h-2v-4h2v4z\"/>\n",
              "    </g>\n",
              "</svg>\n",
              "      </button>\n",
              "\n",
              "<style>\n",
              "  .colab-df-quickchart {\n",
              "      --bg-color: #E8F0FE;\n",
              "      --fill-color: #1967D2;\n",
              "      --hover-bg-color: #E2EBFA;\n",
              "      --hover-fill-color: #174EA6;\n",
              "      --disabled-fill-color: #AAA;\n",
              "      --disabled-bg-color: #DDD;\n",
              "  }\n",
              "\n",
              "  [theme=dark] .colab-df-quickchart {\n",
              "      --bg-color: #3B4455;\n",
              "      --fill-color: #D2E3FC;\n",
              "      --hover-bg-color: #434B5C;\n",
              "      --hover-fill-color: #FFFFFF;\n",
              "      --disabled-bg-color: #3B4455;\n",
              "      --disabled-fill-color: #666;\n",
              "  }\n",
              "\n",
              "  .colab-df-quickchart {\n",
              "    background-color: var(--bg-color);\n",
              "    border: none;\n",
              "    border-radius: 50%;\n",
              "    cursor: pointer;\n",
              "    display: none;\n",
              "    fill: var(--fill-color);\n",
              "    height: 32px;\n",
              "    padding: 0;\n",
              "    width: 32px;\n",
              "  }\n",
              "\n",
              "  .colab-df-quickchart:hover {\n",
              "    background-color: var(--hover-bg-color);\n",
              "    box-shadow: 0 1px 2px rgba(60, 64, 67, 0.3), 0 1px 3px 1px rgba(60, 64, 67, 0.15);\n",
              "    fill: var(--button-hover-fill-color);\n",
              "  }\n",
              "\n",
              "  .colab-df-quickchart-complete:disabled,\n",
              "  .colab-df-quickchart-complete:disabled:hover {\n",
              "    background-color: var(--disabled-bg-color);\n",
              "    fill: var(--disabled-fill-color);\n",
              "    box-shadow: none;\n",
              "  }\n",
              "\n",
              "  .colab-df-spinner {\n",
              "    border: 2px solid var(--fill-color);\n",
              "    border-color: transparent;\n",
              "    border-bottom-color: var(--fill-color);\n",
              "    animation:\n",
              "      spin 1s steps(1) infinite;\n",
              "  }\n",
              "\n",
              "  @keyframes spin {\n",
              "    0% {\n",
              "      border-color: transparent;\n",
              "      border-bottom-color: var(--fill-color);\n",
              "      border-left-color: var(--fill-color);\n",
              "    }\n",
              "    20% {\n",
              "      border-color: transparent;\n",
              "      border-left-color: var(--fill-color);\n",
              "      border-top-color: var(--fill-color);\n",
              "    }\n",
              "    30% {\n",
              "      border-color: transparent;\n",
              "      border-left-color: var(--fill-color);\n",
              "      border-top-color: var(--fill-color);\n",
              "      border-right-color: var(--fill-color);\n",
              "    }\n",
              "    40% {\n",
              "      border-color: transparent;\n",
              "      border-right-color: var(--fill-color);\n",
              "      border-top-color: var(--fill-color);\n",
              "    }\n",
              "    60% {\n",
              "      border-color: transparent;\n",
              "      border-right-color: var(--fill-color);\n",
              "    }\n",
              "    80% {\n",
              "      border-color: transparent;\n",
              "      border-right-color: var(--fill-color);\n",
              "      border-bottom-color: var(--fill-color);\n",
              "    }\n",
              "    90% {\n",
              "      border-color: transparent;\n",
              "      border-bottom-color: var(--fill-color);\n",
              "    }\n",
              "  }\n",
              "</style>\n",
              "\n",
              "      <script>\n",
              "        async function quickchart(key) {\n",
              "          const quickchartButtonEl =\n",
              "            document.querySelector('#' + key + ' button');\n",
              "          quickchartButtonEl.disabled = true;  // To prevent multiple clicks.\n",
              "          quickchartButtonEl.classList.add('colab-df-spinner');\n",
              "          try {\n",
              "            const charts = await google.colab.kernel.invokeFunction(\n",
              "                'suggestCharts', [key], {});\n",
              "          } catch (error) {\n",
              "            console.error('Error during call to suggestCharts:', error);\n",
              "          }\n",
              "          quickchartButtonEl.classList.remove('colab-df-spinner');\n",
              "          quickchartButtonEl.classList.add('colab-df-quickchart-complete');\n",
              "        }\n",
              "        (() => {\n",
              "          let quickchartButtonEl =\n",
              "            document.querySelector('#df-fd071ffd-1eac-4652-a8e7-9bd71fa6b6d7 button');\n",
              "          quickchartButtonEl.style.display =\n",
              "            google.colab.kernel.accessAllowed ? 'block' : 'none';\n",
              "        })();\n",
              "      </script>\n",
              "    </div>\n",
              "    </div>\n",
              "  </div>\n"
            ],
            "application/vnd.google.colaboratory.intrinsic+json": {
              "type": "dataframe",
              "variable_name": "weekly",
              "summary": "{\n  \"name\": \"weekly\",\n  \"rows\": 1089,\n  \"fields\": [\n    {\n      \"column\": \"Year\",\n      \"properties\": {\n        \"dtype\": \"number\",\n        \"std\": 6,\n        \"min\": 1990,\n        \"max\": 2010,\n        \"num_unique_values\": 21,\n        \"samples\": [\n          1990,\n          2007,\n          2005\n        ],\n        \"semantic_type\": \"\",\n        \"description\": \"\"\n      }\n    },\n    {\n      \"column\": \"Lag1\",\n      \"properties\": {\n        \"dtype\": \"number\",\n        \"std\": 2.3570125221926577,\n        \"min\": -18.195,\n        \"max\": 12.026,\n        \"num_unique_values\": 1004,\n        \"samples\": [\n          0.467,\n          -3.238,\n          0.312\n        ],\n        \"semantic_type\": \"\",\n        \"description\": \"\"\n      }\n    },\n    {\n      \"column\": \"Lag2\",\n      \"properties\": {\n        \"dtype\": \"number\",\n        \"std\": 2.357254226866779,\n        \"min\": -18.195,\n        \"max\": 12.026,\n        \"num_unique_values\": 1005,\n        \"samples\": [\n          -4.988,\n          -2.132,\n          2.214\n        ],\n        \"semantic_type\": \"\",\n        \"description\": \"\"\n      }\n    },\n    {\n      \"column\": \"Lag3\",\n      \"properties\": {\n        \"dtype\": \"number\",\n        \"std\": 2.3605019825628317,\n        \"min\": -18.195,\n        \"max\": 12.026,\n        \"num_unique_values\": 1005,\n        \"samples\": [\n          5.893,\n          -4.992,\n          -1.435\n        ],\n        \"semantic_type\": \"\",\n        \"description\": \"\"\n      }\n    },\n    {\n      \"column\": \"Lag4\",\n      \"properties\": {\n        \"dtype\": \"number\",\n        \"std\": 2.360278850051408,\n        \"min\": -18.195,\n        \"max\": 12.026,\n        \"num_unique_values\": 1005,\n        \"samples\": [\n          1.3030000000000002,\n          -0.46,\n          -0.272\n        ],\n        \"semantic_type\": \"\",\n        \"description\": \"\"\n      }\n    },\n    {\n      \"column\": \"Lag5\",\n      \"properties\": {\n        \"dtype\": \"number\",\n        \"std\": 2.3612846754276995,\n        \"min\": -18.195,\n        \"max\": 12.026,\n        \"num_unique_values\": 1005,\n        \"samples\": [\n          -0.3879999999999999,\n          -2.418,\n          0.238\n        ],\n        \"semantic_type\": \"\",\n        \"description\": \"\"\n      }\n    },\n    {\n      \"column\": \"Volume\",\n      \"properties\": {\n        \"dtype\": \"number\",\n        \"std\": 1.6866364120354627,\n        \"min\": 0.087465,\n        \"max\": 9.328214,\n        \"num_unique_values\": 1089,\n        \"samples\": [\n          0.3488525,\n          0.223946,\n          0.7732600000000001\n        ],\n        \"semantic_type\": \"\",\n        \"description\": \"\"\n      }\n    },\n    {\n      \"column\": \"Today\",\n      \"properties\": {\n        \"dtype\": \"number\",\n        \"std\": 2.356927387980812,\n        \"min\": -18.195,\n        \"max\": 12.026,\n        \"num_unique_values\": 1003,\n        \"samples\": [\n          -0.46,\n          -3.238,\n          2.02\n        ],\n        \"semantic_type\": \"\",\n        \"description\": \"\"\n      }\n    },\n    {\n      \"column\": \"Direction\",\n      \"properties\": {\n        \"dtype\": \"category\",\n        \"num_unique_values\": 2,\n        \"samples\": [\n          \"Up\",\n          \"Down\"\n        ],\n        \"semantic_type\": \"\",\n        \"description\": \"\"\n      }\n    }\n  ]\n}"
            }
          },
          "metadata": {},
          "execution_count": 8
        }
      ]
    },
    {
      "cell_type": "code",
      "source": [
        "print(f'shape: {weekly.shape}')\n",
        "print(weekly.info)"
      ],
      "metadata": {
        "colab": {
          "base_uri": "https://localhost:8080/"
        },
        "id": "qqJhceTi0tce",
        "outputId": "6c500490-a548-4aa4-8f67-20691bb163a1"
      },
      "execution_count": null,
      "outputs": [
        {
          "output_type": "stream",
          "name": "stdout",
          "text": [
            "shape: (1089, 9)\n",
            "<bound method DataFrame.info of       Year   Lag1   Lag2   Lag3   Lag4   Lag5    Volume  Today Direction\n",
            "0     1990  0.816  1.572 -3.936 -0.229 -3.484  0.154976 -0.270      Down\n",
            "1     1990 -0.270  0.816  1.572 -3.936 -0.229  0.148574 -2.576      Down\n",
            "2     1990 -2.576 -0.270  0.816  1.572 -3.936  0.159837  3.514        Up\n",
            "3     1990  3.514 -2.576 -0.270  0.816  1.572  0.161630  0.712        Up\n",
            "4     1990  0.712  3.514 -2.576 -0.270  0.816  0.153728  1.178        Up\n",
            "...    ...    ...    ...    ...    ...    ...       ...    ...       ...\n",
            "1084  2010 -0.861  0.043 -2.173  3.599  0.015  3.205160  2.969        Up\n",
            "1085  2010  2.969 -0.861  0.043 -2.173  3.599  4.242568  1.281        Up\n",
            "1086  2010  1.281  2.969 -0.861  0.043 -2.173  4.835082  0.283        Up\n",
            "1087  2010  0.283  1.281  2.969 -0.861  0.043  4.454044  1.034        Up\n",
            "1088  2010  1.034  0.283  1.281  2.969 -0.861  2.707105  0.069        Up\n",
            "\n",
            "[1089 rows x 9 columns]>\n"
          ]
        }
      ]
    },
    {
      "cell_type": "code",
      "source": [
        "print(weekly['Direction'].value_counts())"
      ],
      "metadata": {
        "colab": {
          "base_uri": "https://localhost:8080/"
        },
        "id": "9rIXg2761RlW",
        "outputId": "e29198a9-3f90-4da0-f164-69e69754bf17"
      },
      "execution_count": null,
      "outputs": [
        {
          "output_type": "stream",
          "name": "stdout",
          "text": [
            "Direction\n",
            "Up      605\n",
            "Down    484\n",
            "Name: count, dtype: int64\n"
          ]
        }
      ]
    },
    {
      "cell_type": "code",
      "source": [
        "#convert Direction to numeric (up=1, Down=0)\n",
        "weekly['Direction'] = weekly['Direction'].map({'Up':1, 'Down':0})\n",
        "print(f'\\nDirection converted to numeric:{weekly['Direction'].value_counts()}')"
      ],
      "metadata": {
        "colab": {
          "base_uri": "https://localhost:8080/"
        },
        "id": "BO8fHJ7W1h4s",
        "outputId": "67c320d7-6370-46d1-a01c-ffcd7760fc66"
      },
      "execution_count": null,
      "outputs": [
        {
          "output_type": "stream",
          "name": "stdout",
          "text": [
            "\n",
            "Direction converted to numeric:Direction\n",
            "1    605\n",
            "0    484\n",
            "Name: count, dtype: int64\n"
          ]
        }
      ]
    },
    {
      "cell_type": "code",
      "source": [
        "# a. Fit model on all data\n",
        "X_all = weekly[['Lag1', 'Lag2']]\n",
        "X_all = sm.add_constant(X_all)\n",
        "y_all = weekly['Direction']\n",
        "\n",
        "model_all = sm.GLM(y_all, X_all, family=sm.families.Binomial()).fit()\n",
        "print('Model coefficient with all data')\n",
        "print(model_all.params)\n",
        "print(f'Intercept: {model_all.params['const']:.4f}')\n",
        "print(f'Lag1: {model_all.params['Lag1']:.4f}')\n",
        "print(f'Lag2: {model_all.params['Lag2']:.4f}')"
      ],
      "metadata": {
        "colab": {
          "base_uri": "https://localhost:8080/"
        },
        "id": "bRowrMvh2xty",
        "outputId": "6d7e6d4b-1073-4641-fc3e-5beae9a45b4f"
      },
      "execution_count": null,
      "outputs": [
        {
          "output_type": "stream",
          "name": "stdout",
          "text": [
            "Model coefficient with all data\n",
            "const    0.221224\n",
            "Lag1    -0.038722\n",
            "Lag2     0.060248\n",
            "dtype: float64\n",
            "Intercept: 0.2212\n",
            "Lag1: -0.0387\n",
            "Lag2: 0.0602\n"
          ]
        }
      ]
    },
    {
      "cell_type": "code",
      "source": [
        "#b. Fit model by excluding the first observation\n",
        "X_minus1 = weekly[['Lag1', 'Lag2']].iloc[1:] #exclude first row\n",
        "X_minus1 =sm.add_constant(X_minus1)\n",
        "y_minus1 = weekly['Direction'].iloc[1:]\n",
        "\n",
        "model_minus1 = sm.GLM(y_minus1, X_minus1, family=sm.families.Binomial()).fit()\n",
        "print('Model Coefficient without first observation:')\n",
        "print(f'Intercept: {model_minus1.params['const']:.4f}')\n",
        "print(f'Lag1: {model_minus1.params['Lag1']:.4f}')\n",
        "print(f'Lag2: {model_minus1.params['Lag2']:.4f}')"
      ],
      "metadata": {
        "colab": {
          "base_uri": "https://localhost:8080/"
        },
        "id": "bMdOxizu82dP",
        "outputId": "b60716d8-d8c7-4d25-fdf1-34f4e10292ee"
      },
      "execution_count": null,
      "outputs": [
        {
          "output_type": "stream",
          "name": "stdout",
          "text": [
            "Model Coefficient without first observation:\n",
            "Intercept: 0.2232\n",
            "Lag1: -0.0384\n",
            "Lag2: 0.0608\n"
          ]
        }
      ]
    },
    {
      "cell_type": "code",
      "source": [
        "#C. Predict the first observation\n",
        "first_obs = weekly[['Lag1', 'Lag2']].iloc[0:1]\n",
        "first_obs = sm.add_constant(first_obs, has_constant='add') #Making sure constant is added\n",
        "\n",
        "#Get predicted probobality\n",
        "probs_up = model_minus1.predict(first_obs).iloc[0]\n",
        "predicted_direction = 'Up' if probs_up > 0.5 else 'Down'\n",
        "actual_direction = weekly['Direction'].iloc[0]\n",
        "\n",
        "print(f'First observation - Lag1: {weekly['Lag1'].iloc[0]}, Lag2: {weekly['Lag2'].iloc[0]}')\n",
        "print(f'Preddicted probability of Up: {probs_up:.4f}')\n",
        "print(f'Predicted direction: {predicted_direction}')\n",
        "print(f'Actual direction: {actual_direction}')"
      ],
      "metadata": {
        "colab": {
          "base_uri": "https://localhost:8080/"
        },
        "id": "ptCiWV89CPbC",
        "outputId": "62df479b-e1ff-4147-c739-be4bed220cda"
      },
      "execution_count": null,
      "outputs": [
        {
          "output_type": "stream",
          "name": "stdout",
          "text": [
            "First observation - Lag1: 0.816, Lag2: 1.5719999999999998\n",
            "Preddicted probability of Up: 0.5714\n",
            "Predicted direction: Up\n",
            "Actual direction: 0\n"
          ]
        }
      ]
    },
    {
      "cell_type": "code",
      "source": [
        "# Check if correct\n",
        "correct = 1 if predicted_direction == actual_direction else 0\n",
        "print(f'Correctly Classified? {'Yes' if correct else 'No'} (Error={1-correct})')"
      ],
      "metadata": {
        "colab": {
          "base_uri": "https://localhost:8080/"
        },
        "id": "LcxKigkWFLF1",
        "outputId": "d4a398fe-93aa-43c6-a390-810bd2c771bb"
      },
      "execution_count": null,
      "outputs": [
        {
          "output_type": "stream",
          "name": "stdout",
          "text": [
            "Correctly Classified? No (Error=1)\n"
          ]
        }
      ]
    },
    {
      "cell_type": "markdown",
      "source": [
        "This demonstrates what LOOCV does:\n",
        "* Trained on: Observations 1 through n-1\n",
        "(all but the first)\n",
        "* Tested on: Observation 0 (the first one)\n",
        "* Result: We get one error measurement (0 or 1)\n",
        "\n",
        "LOOCV repeats this process for every single observation!"
      ],
      "metadata": {
        "id": "inBNPmkTGw7C"
      }
    },
    {
      "cell_type": "code",
      "source": [
        "# d. Full LOOCV\n",
        "n = len(weekly)\n",
        "errors = np.zeros(n)\n",
        "print(f'Running LOOCV for {n} observation...')\n",
        "\n",
        "for i in range(n):\n",
        "  if (i+1) % 50 == 0: #updating the progress\n",
        "    print(f'Processing observation {i+1}/{n}...')\n",
        "\n",
        "  #d-i: Fit model excluding ith observation\n",
        "  X_loo = weekly[['Lag1', 'Lag2']].drop(index=i)\n",
        "  X_loo =sm.add_constant(X_loo)\n",
        "  y_loo = weekly['Direction'].drop(index=i)\n",
        "\n",
        "  model_loo = sm.GLM(y_loo, X_loo, family=sm.families.Binomial()).fit()\n",
        "\n",
        "  # d-ii Compute probability for ith observation\n",
        "  obs_i = weekly[['Lag1', 'Lag2']].iloc[i:i+1]\n",
        "  obs_i = sm.add_constant(obs_i, has_constant='add')\n",
        "  probs_up = model_loo.predict(obs_i).iloc[0]\n",
        "\n",
        "  #d-ii Predict direction for ith observation\n",
        "  predicted_direction = 1 if probs_up > 0.5 else 0\n",
        "  actual_direction = weekly['Direction'].iloc[i]\n",
        "\n",
        "  # d-iv Determine if error was made\n",
        "  error = 1 if predicted_direction != actual_direction else 0\n",
        "  errors[i] = error\n",
        "\n",
        "print('LOOCV completed')"
      ],
      "metadata": {
        "colab": {
          "base_uri": "https://localhost:8080/"
        },
        "id": "Aw79ICrCHs_o",
        "outputId": "b545d581-4b32-4cf9-ad79-df74fb832c52"
      },
      "execution_count": null,
      "outputs": [
        {
          "output_type": "stream",
          "name": "stdout",
          "text": [
            "Running LOOCV for 1089 observation...\n",
            "Processing observation 50/1089...\n",
            "Processing observation 100/1089...\n",
            "Processing observation 150/1089...\n",
            "Processing observation 200/1089...\n",
            "Processing observation 250/1089...\n",
            "Processing observation 300/1089...\n",
            "Processing observation 350/1089...\n",
            "Processing observation 400/1089...\n",
            "Processing observation 450/1089...\n",
            "Processing observation 500/1089...\n",
            "Processing observation 550/1089...\n",
            "Processing observation 600/1089...\n",
            "Processing observation 650/1089...\n",
            "Processing observation 700/1089...\n",
            "Processing observation 750/1089...\n",
            "Processing observation 800/1089...\n",
            "Processing observation 850/1089...\n",
            "Processing observation 900/1089...\n",
            "Processing observation 950/1089...\n",
            "Processing observation 1000/1089...\n",
            "Processing observation 1050/1089...\n",
            "LOOCV completed\n"
          ]
        }
      ]
    },
    {
      "cell_type": "code",
      "source": [
        "#e - Compute LOOCV error estimate\n",
        "loocv_error = np.mean(errors)\n",
        "print(f'\\nLOOCV Results')\n",
        "print(f'Total errors: {int(np.sum(errors))}/{n}')\n",
        "print(f'LOOCV Error Rate: {loocv_error:.3%}')\n",
        "print(f'LOOCV Accuracy: {(1 - loocv_error):.3%}')"
      ],
      "metadata": {
        "colab": {
          "base_uri": "https://localhost:8080/"
        },
        "id": "_7DfTQ1iKQyI",
        "outputId": "0481d2a2-b33e-4b87-ea81-d12c2adbdf40"
      },
      "execution_count": null,
      "outputs": [
        {
          "output_type": "stream",
          "name": "stdout",
          "text": [
            "\n",
            "LOOCV Results\n",
            "Total errors: 490/1089\n",
            "LOOCV Error Rate: 44.995%\n",
            "LOOCV Accuracy: 55.005%\n"
          ]
        }
      ]
    },
    {
      "cell_type": "code",
      "source": [
        "from ast import BinOp\n",
        "#Compare with training error\n",
        "X_full = sm.add_constant(weekly[['Lag1', 'Lag2']])\n",
        "y_full = weekly['Direction']\n",
        "full_model = sm.GLM(y_full, X_full, family=sm.families.Binomial()).fit()\n",
        "train_predictions = (full_model.predict(X_full)>0.5).astype(int)\n",
        "train_error = np.mean(train_predictions != y_full)\n",
        "\n",
        "print(f'Training Error Rate: {train_error:.3%}')\n",
        "print(f'LOOCV Error Rate: {loocv_error:.3%}')\n",
        "print(f'Difference: {abs(train_error - loocv_error):.3%}')"
      ],
      "metadata": {
        "colab": {
          "base_uri": "https://localhost:8080/"
        },
        "id": "T1GAppIELcmN",
        "outputId": "954238b6-2d4f-4a48-8716-44a4c60548bd"
      },
      "execution_count": null,
      "outputs": [
        {
          "output_type": "stream",
          "name": "stdout",
          "text": [
            "Training Error Rate: 44.444%\n",
            "LOOCV Error Rate: 44.995%\n",
            "Difference: 0.551%\n"
          ]
        }
      ]
    },
    {
      "cell_type": "code",
      "source": [
        "#8. We will now perform cross-validation on a simulated data set.\n",
        " #Generate a simulated data set as follows:\n",
        "rng = np.random.default_rng(1)\n",
        "x = rng.normal(size=100)\n",
        "y = x - 2 * x**2 + rng.normal(size=100)\n",
        "\n",
        "#put in DataFrame\n",
        "data =pd.DataFrame({'X': x, 'Y':y})\n",
        "n = len(data)"
      ],
      "metadata": {
        "id": "OznjsIcfMBF2"
      },
      "execution_count": 18,
      "outputs": []
    },
    {
      "cell_type": "code",
      "source": [
        "print(f'Generated {len(x)} observations')\n",
        "print(f'X range: [{x.min():.3f}, {x.max():.3f}]')\n",
        "print(f'Y range: [{y.min():.3f}, {y.max():.3f}]')\n",
        "print(f'True relationship: Y = X - 2X² + ε')"
      ],
      "metadata": {
        "colab": {
          "base_uri": "https://localhost:8080/"
        },
        "id": "xamifvqO0Ucw",
        "outputId": "c38b4532-d781-410c-9c50-63e155aee2e9"
      },
      "execution_count": 19,
      "outputs": [
        {
          "output_type": "stream",
          "name": "stdout",
          "text": [
            "Generated 100 observations\n",
            "X range: [-2.711, 2.118]\n",
            "Y range: [-14.864, 2.097]\n",
            "True relationship: Y = X - 2X² + ε\n"
          ]
        }
      ]
    },
    {
      "cell_type": "code",
      "source": [
        "#b - Create scatterplot of X vs Y\n",
        "plt.figure(figsize=(10,6))\n",
        "plt.scatter(x, y, alpha=0.7, color='steelblue')\n",
        "plt.xlabel('X')\n",
        "plt.ylabel('Y')\n",
        "plt.title('Scatterplot: X vs Y (Y = X - 2X² + noise(ϵ)')\n",
        "plt.grid(True, alpha=0.3)\n",
        "\n",
        "#Add true relationship curve for reference\n",
        "x_curv = np.linspace(-2, 2, 100)\n",
        "y_curv = x_curv - 2 * x_curv**2\n",
        "plt.plot(x_curv, y_curv, color='magenta', linewidth=2, label='True relationship: X - 2X²')\n",
        "plt.legend()\n",
        "plt.show()"
      ],
      "metadata": {
        "colab": {
          "base_uri": "https://localhost:8080/",
          "height": 564
        },
        "id": "1h4SJilXCVLT",
        "outputId": "ec5bab6d-ee61-48aa-8fa1-2322a2a71ab7"
      },
      "execution_count": 20,
      "outputs": [
        {
          "output_type": "display_data",
          "data": {
            "text/plain": [
              "<Figure size 1000x600 with 1 Axes>"
            ],
            "image/png": "[encoded data removed]"
          },
          "metadata": {}
        }
      ]
    },
    {
      "cell_type": "code",
      "source": [
        "# test these 4 models:\n",
        "models_to_test = [1, 2, 3, 4]  # 1=linear, 2=quadratic, etc.\n",
        "results = []\n",
        "\n",
        "#Test each model\n",
        "for degree in models_to_test:\n",
        "    errors = []  # Will store errors here\n",
        "\n",
        "    print(f\"\\nTesting Model {degree} (Y = β₀ + β₁X + ... + β_{degree}X^{degree})\")\n",
        "\n",
        "    # For each observation, do leave-one-out\n",
        "    for i in range(len(data)):\n",
        "        # Training data: all EXCEPT the i-th observation\n",
        "        train_data = data.drop(i)\n",
        "        X_train = train_data[['X']]\n",
        "        y_train = train_data['Y']\n",
        "\n",
        "        # Test data: just the i-th observation\n",
        "        test_data = data.iloc[i]\n",
        "        X_test = [[test_data['X']]]  # Double brackets to keep it 2D\n",
        "        y_test = test_data['Y']\n",
        "\n",
        "        # Create polynomial features for this model\n",
        "        # For linear model (degree=1): [1, X]\n",
        "        # For quadratic (degree=2): [1, X, X²]\n",
        "        # For cubic (degree=3): [1, X, X², X³]\n",
        "        # etc.\n",
        "        X_train_poly = np.column_stack([X_train['X']**p for p in range(degree + 1)])\n",
        "        X_test_poly = np.column_stack([X_test[0][0]**p for p in range(degree + 1)])\n",
        "\n",
        "        # Fit linear regression\n",
        "        model = LR()\n",
        "        model.fit(X_train_poly, y_train)\n",
        "\n",
        "        # Predict and calculate error\n",
        "        y_pred = model.predict(X_test_poly)\n",
        "        error = (y_pred[0] - y_test)**2  # Squared error\n",
        "        errors.append(error)\n",
        "\n",
        "    # 8. Calculate average error for this model\n",
        "    avg_error = np.mean(errors)\n",
        "    results.append(avg_error)\n",
        "    print(f\"Model {degree} average error: {avg_error:.4f}\")\n",
        "\n",
        "# 9. Show final results\n",
        "print(\"\\n\" + \"=\"*50)\n",
        "print(\"FINAL RESULTS\")\n",
        "print(\"=\"*50)\n",
        "print(f\"{'Model':<15} {'Error':<10}\")\n",
        "print(\"-\"*25)\n",
        "for i, error in enumerate(results):\n",
        "    print(f\"Degree {i+1}:{error:>15.4f}\")\n",
        "\n",
        "# Find the best model\n",
        "best_index = np.argmin(results)\n",
        "print(f\"\\n BEST MODEL: Degree {best_index + 1} (Error: {results[best_index]:.4f})\")\n"
      ],
      "metadata": {
        "colab": {
          "base_uri": "https://localhost:8080/"
        },
        "id": "MQjTLfHphDXY",
        "outputId": "1fcf8f1a-9ae2-41e1-d8af-8de37b327527"
      },
      "execution_count": 22,
      "outputs": [
        {
          "output_type": "stream",
          "name": "stdout",
          "text": [
            "\n",
            "Testing Model 1 (Y = β₀ + β₁X + ... + β_1X^1)\n",
            "Model 1 average error: 6.6330\n",
            "\n",
            "Testing Model 2 (Y = β₀ + β₁X + ... + β_2X^2)\n",
            "Model 2 average error: 1.1229\n",
            "\n",
            "Testing Model 3 (Y = β₀ + β₁X + ... + β_3X^3)\n",
            "Model 3 average error: 1.3018\n",
            "\n",
            "Testing Model 4 (Y = β₀ + β₁X + ... + β_4X^4)\n",
            "Model 4 average error: 1.3324\n",
            "\n",
            "==================================================\n",
            "FINAL RESULTS\n",
            "==================================================\n",
            "Model           Error     \n",
            "-------------------------\n",
            "Degree 1:         6.6330\n",
            "Degree 2:         1.1229\n",
            "Degree 3:         1.3018\n",
            "Degree 4:         1.3324\n",
            "\n",
            " BEST MODEL: Degree 2 (Error: 1.1229)\n"
          ]
        }
      ]
    },
    {
      "cell_type": "markdown",
      "source": [
        "Let's repeat the exact same analysis from Part c, but with a different random seed. This helps us to understand if our results are consistent or if they depend on the specific random noise in our data."
      ],
      "metadata": {
        "id": "R8cXZmm2Ct7I"
      }
    },
    {
      "cell_type": "code",
      "source": [
        "#d. Set a DIFFERENT random seed (as instructed)\n",
        "np.random.seed(123)\n",
        "\n",
        "#Generate new data with same relationship but different noise\n",
        "rng2 = np.random.default_rng(123)\n",
        "x2 = rng2.normal(size=100)\n",
        "y2 = x2 - 2*x2**2 + rng2.normal(size=100)\n",
        "\n",
        "#Put in DataFrame\n",
        "data2 = pd.DataFrame({'X': x2, 'Y': y2})\n",
        "#print(f'Cretated new data with {len(data2)} observations')\n",
        "\n",
        "#Testing the same four models on this new data\n",
        "results2 = [] #store results for new data\n",
        "\n",
        "for degree in models_to_test:\n",
        "    errors = []\n",
        "\n",
        "    for i in range(len(data2)):\n",
        "        # Get the data\n",
        "        X_train = data2.drop(i)['X'].values\n",
        "        y_train = data2.drop(i)['Y'].values\n",
        "        X_test = data2.iloc[i]['X']\n",
        "        y_test = data2.iloc[i]['Y']\n",
        "\n",
        "        # Create polynomial features the simple way\n",
        "        X_train_poly = np.array([[x**p for p in range(degree + 1)] for x in X_train])\n",
        "        X_test_poly = np.array([[X_test**p for p in range(degree + 1)]])\n",
        "\n",
        "        # Fit and predict\n",
        "        model = LR()\n",
        "        model.fit(X_train_poly, y_train)\n",
        "        y_pred = model.predict(X_test_poly)\n",
        "        error = (y_pred[0] - y_test)**2\n",
        "        errors.append(error)\n",
        "\n",
        "    avg_error = np.mean(errors)\n",
        "    results2.append(avg_error)\n",
        "    print(f\"Model {degree}: {avg_error:.4f}\")"
      ],
      "metadata": {
        "colab": {
          "base_uri": "https://localhost:8080/"
        },
        "id": "z3t3iDt8C58O",
        "outputId": "f0dc61b4-efdf-49af-e12e-ddaea5509a50"
      },
      "execution_count": 28,
      "outputs": [
        {
          "output_type": "stream",
          "name": "stdout",
          "text": [
            "Model 1: 5.3630\n",
            "Model 2: 0.8871\n",
            "Model 3: 0.9129\n",
            "Model 4: 0.9561\n"
          ]
        }
      ]
    },
    {
      "cell_type": "code",
      "source": [],
      "metadata": {
        "id": "0edXukSbavXZ"
      },
      "execution_count": null,
      "outputs": []
    },
    {
      "cell_type": "markdown",
      "source": [
        "KEY INSIGHT:\n",
        "\n",
        "The results are conceptually the same - both identify the quadratic model as best.\n",
        "The exact numbers differ due to random variation, but the conclusions don't change.\n",
        "This is exactly what we want from a reliable statistical method!"
      ],
      "metadata": {
        "id": "Dm5Jbx45Ss6d"
      }
    },
    {
      "cell_type": "markdown",
      "source": [
        "Which of the models in (c) had the smallest LOOCV error? Is this what you expected? Explain your answer.\"\n",
        "\n",
        "The quadratic model (Degree 2) demonstrated the smallest LOOCV error in both experiments, with errors of 1.1229 (seed 42) and 0.8871 (seed 123).\n",
        "\n",
        "This is exactly what we expected, for several reasons:\n",
        "\n",
        "Data-Generating Process Match: The data was explicitly generated using the equation Y = X - 2X² + ε, which is precisely a quadratic relationship. The Degree 2 model therefore represents the true underlying pattern without approximation.\n",
        "\n",
        "Theoretical Expectation:\n",
        "\n",
        "Degree 1 (Linear): Cannot capture curvature → severe underfitting (83% higher error)\n",
        "\n",
        "Degree 2 (Quadratic): Perfect structural match → optimal performance\n",
        "\n",
        "Degrees 3-4 (Cubic/Quartic): Overparameterized → overfitting (13-16% higher error)\n",
        "\n",
        "Bias-Variance Tradeoff: The results exemplify the fundamental machine learning principle where Degree 2 achieves the optimal balance between bias (underfitting) and variance (overfitting).\n",
        "\n",
        "Robustness: The consistent superiority of Degree 2 across different random seeds confirms that this isn't a random artifact but a fundamental property of the data structure.\n",
        "\n",
        "The cross-validation results successfully identified the ground truth model complexity, demonstrating the power of LOOCV for model selection tasks."
      ],
      "metadata": {
        "id": "WZ8vGjE_VjyS"
      }
    },
    {
      "cell_type": "code",
      "source": [
        "# SUPER SIMPLE VERSION - EASIER TO DEBUG\n",
        "for degree in [1, 2, 3, 4]:\n",
        "    print(f\"\\n Analyzing Degree {degree} model...\")\n",
        "\n",
        "    # Create polynomial features\n",
        "    X_poly = np.column_stack([X**p for p in range(degree + 1)])\n",
        "\n",
        "    # Fit OLS model\n",
        "    model = sm.OLS(y, X_poly).fit()\n",
        "\n",
        "    print(f\"{'Term':<10} {'Coefficient':<12} {'P-value':<12} {'Significant':<12}\")\n",
        "    print(\"-\" * 50)\n",
        "\n",
        "    # Print each coefficient individually\n",
        "    for i in range(len(model.params)):\n",
        "        term_name = f\"X^{i}\" if i > 0 else \"Intercept\"\n",
        "        coef = model.params[i]\n",
        "        pval = model.pvalues[i]\n",
        "        sig = \"YES\" if pval < 0.05 else \"NO\"\n",
        "        print(f\"{term_name:<10} {coef:>10.4f} {pval:>10.4f} {sig:>12}\")"
      ],
      "metadata": {
        "colab": {
          "base_uri": "https://localhost:8080/"
        },
        "id": "wZngZBNvoFFl",
        "outputId": "e1a482c2-9eba-42c6-ba15-10c47471ff71"
      },
      "execution_count": 43,
      "outputs": [
        {
          "output_type": "stream",
          "name": "stdout",
          "text": [
            "\n",
            " Analyzing Degree 1 model...\n",
            "Term       Coefficient  P-value      Significant \n",
            "--------------------------------------------------\n",
            "Intercept     -1.4650     0.0000          YES\n",
            "X^1            1.9494     0.0000          YES\n",
            "\n",
            " Analyzing Degree 2 model...\n",
            "Term       Coefficient  P-value      Significant \n",
            "--------------------------------------------------\n",
            "Intercept     -0.0728     0.5428           NO\n",
            "X^1            0.9663     0.0000          YES\n",
            "X^2           -2.0047     0.0000          YES\n",
            "\n",
            " Analyzing Degree 3 model...\n",
            "Term       Coefficient  P-value      Significant \n",
            "--------------------------------------------------\n",
            "Intercept     -0.0572     0.6345           NO\n",
            "X^1            1.1146     0.0000          YES\n",
            "X^2           -2.0471     0.0000          YES\n",
            "X^3           -0.0643     0.2872           NO\n",
            "\n",
            " Analyzing Degree 4 model...\n",
            "Term       Coefficient  P-value      Significant \n",
            "--------------------------------------------------\n",
            "Intercept      0.1008     0.4596           NO\n",
            "X^1            0.9050     0.0000          YES\n",
            "X^2           -2.5059     0.0000          YES\n",
            "X^3            0.0338     0.6425           NO\n",
            "X^4            0.1042     0.0231          YES\n"
          ]
        }
      ]
    },
    {
      "cell_type": "markdown",
      "source": [
        "Estimate various population parameters and their uncertainty using both traditional formulas and bootstrap methods.\n",
        "We will now consider the Boston housing data set, from the ISLPlibrary.\n",
        " (a) Based on this data set, provide an estimate for the populationmean of medv. Call this estimate ˆµ.\n"
      ],
      "metadata": {
        "id": "Po1UjbcirZD2"
      }
    },
    {
      "cell_type": "code",
      "source": [
        "#Preparing data to load\n",
        "from google.colab import files\n",
        "uploaded = files.upload()"
      ],
      "metadata": {
        "colab": {
          "base_uri": "https://localhost:8080/",
          "height": 74
        },
        "id": "BGidb_BJZ1xQ",
        "outputId": "02091a80-877c-4853-d4bc-13607281c71e"
      },
      "execution_count": 29,
      "outputs": [
        {
          "output_type": "display_data",
          "data": {
            "text/plain": [
              "<IPython.core.display.HTML object>"
            ],
            "text/html": [
              "\n",
              "     <input type=\"file\" id=\"files-e323774d-4129-41e9-b801-837cdfd0e741\" name=\"files[]\" multiple disabled\n",
              "        style=\"border:none\" />\n",
              "     <output id=\"result-e323774d-4129-41e9-b801-837cdfd0e741\">\n",
              "      Upload widget is only available when the cell has been executed in the\n",
              "      current browser session. Please rerun this cell to enable.\n",
              "      </output>\n",
              "      <script>// Copyright 2017 Google LLC\n",
              "//\n",
              "// Licensed under the Apache License, Version 2.0 (the \"License\");\n",
              "// you may not use this file except in compliance with the License.\n",
              "// You may obtain a copy of the License at\n",
              "//\n",
              "//      http://www.apache.org/licenses/LICENSE-2.0\n",
              "//\n",
              "// Unless required by applicable law or agreed to in writing, software\n",
              "// distributed under the License is distributed on an \"AS IS\" BASIS,\n",
              "// WITHOUT WARRANTIES OR CONDITIONS OF ANY KIND, either express or implied.\n",
              "// See the License for the specific language governing permissions and\n",
              "// limitations under the License.\n",
              "\n",
              "/**\n",
              " * @fileoverview Helpers for google.colab Python module.\n",
              " */\n",
              "(function(scope) {\n",
              "function span(text, styleAttributes = {}) {\n",
              "  const element = document.createElement('span');\n",
              "  element.textContent = text;\n",
              "  for (const key of Object.keys(styleAttributes)) {\n",
              "    element.style[key] = styleAttributes[key];\n",
              "  }\n",
              "  return element;\n",
              "}\n",
              "\n",
              "// Max number of bytes which will be uploaded at a time.\n",
              "const MAX_PAYLOAD_SIZE = 100 * 1024;\n",
              "\n",
              "function _uploadFiles(inputId, outputId) {\n",
              "  const steps = uploadFilesStep(inputId, outputId);\n",
              "  const outputElement = document.getElementById(outputId);\n",
              "  // Cache steps on the outputElement to make it available for the next call\n",
              "  // to uploadFilesContinue from Python.\n",
              "  outputElement.steps = steps;\n",
              "\n",
              "  return _uploadFilesContinue(outputId);\n",
              "}\n",
              "\n",
              "// This is roughly an async generator (not supported in the browser yet),\n",
              "// where there are multiple asynchronous steps and the Python side is going\n",
              "// to poll for completion of each step.\n",
              "// This uses a Promise to block the python side on completion of each step,\n",
              "// then passes the result of the previous step as the input to the next step.\n",
              "function _uploadFilesContinue(outputId) {\n",
              "  const outputElement = document.getElementById(outputId);\n",
              "  const steps = outputElement.steps;\n",
              "\n",
              "  const next = steps.next(outputElement.lastPromiseValue);\n",
              "  return Promise.resolve(next.value.promise).then((value) => {\n",
              "    // Cache the last promise value to make it available to the next\n",
              "    // step of the generator.\n",
              "    outputElement.lastPromiseValue = value;\n",
              "    return next.value.response;\n",
              "  });\n",
              "}\n",
              "\n",
              "/**\n",
              " * Generator function which is called between each async step of the upload\n",
              " * process.\n",
              " * @param {string} inputId Element ID of the input file picker element.\n",
              " * @param {string} outputId Element ID of the output display.\n",
              " * @return {!Iterable<!Object>} Iterable of next steps.\n",
              " */\n",
              "function* uploadFilesStep(inputId, outputId) {\n",
              "  const inputElement = document.getElementById(inputId);\n",
              "  inputElement.disabled = false;\n",
              "\n",
              "  const outputElement = document.getElementById(outputId);\n",
              "  outputElement.innerHTML = '';\n",
              "\n",
              "  const pickedPromise = new Promise((resolve) => {\n",
              "    inputElement.addEventListener('change', (e) => {\n",
              "      resolve(e.target.files);\n",
              "    });\n",
              "  });\n",
              "\n",
              "  const cancel = document.createElement('button');\n",
              "  inputElement.parentElement.appendChild(cancel);\n",
              "  cancel.textContent = 'Cancel upload';\n",
              "  const cancelPromise = new Promise((resolve) => {\n",
              "    cancel.onclick = () => {\n",
              "      resolve(null);\n",
              "    };\n",
              "  });\n",
              "\n",
              "  // Wait for the user to pick the files.\n",
              "  const files = yield {\n",
              "    promise: Promise.race([pickedPromise, cancelPromise]),\n",
              "    response: {\n",
              "      action: 'starting',\n",
              "    }\n",
              "  };\n",
              "\n",
              "  cancel.remove();\n",
              "\n",
              "  // Disable the input element since further picks are not allowed.\n",
              "  inputElement.disabled = true;\n",
              "\n",
              "  if (!files) {\n",
              "    return {\n",
              "      response: {\n",
              "        action: 'complete',\n",
              "      }\n",
              "    };\n",
              "  }\n",
              "\n",
              "  for (const file of files) {\n",
              "    const li = document.createElement('li');\n",
              "    li.append(span(file.name, {fontWeight: 'bold'}));\n",
              "    li.append(span(\n",
              "        `(${file.type || 'n/a'}) - ${file.size} bytes, ` +\n",
              "        `last modified: ${\n",
              "            file.lastModifiedDate ? file.lastModifiedDate.toLocaleDateString() :\n",
              "                                    'n/a'} - `));\n",
              "    const percent = span('0% done');\n",
              "    li.appendChild(percent);\n",
              "\n",
              "    outputElement.appendChild(li);\n",
              "\n",
              "    const fileDataPromise = new Promise((resolve) => {\n",
              "      const reader = new FileReader();\n",
              "      reader.onload = (e) => {\n",
              "        resolve(e.target.result);\n",
              "      };\n",
              "      reader.readAsArrayBuffer(file);\n",
              "    });\n",
              "    // Wait for the data to be ready.\n",
              "    let fileData = yield {\n",
              "      promise: fileDataPromise,\n",
              "      response: {\n",
              "        action: 'continue',\n",
              "      }\n",
              "    };\n",
              "\n",
              "    // Use a chunked sending to avoid message size limits. See b/62115660.\n",
              "    let position = 0;\n",
              "    do {\n",
              "      const length = Math.min(fileData.byteLength - position, MAX_PAYLOAD_SIZE);\n",
              "      const chunk = new Uint8Array(fileData, position, length);\n",
              "      position += length;\n",
              "\n",
              "      const base64 = btoa(String.fromCharCode.apply(null, chunk));\n",
              "      yield {\n",
              "        response: {\n",
              "          action: 'append',\n",
              "          file: file.name,\n",
              "          data: base64,\n",
              "        },\n",
              "      };\n",
              "\n",
              "      let percentDone = fileData.byteLength === 0 ?\n",
              "          100 :\n",
              "          Math.round((position / fileData.byteLength) * 100);\n",
              "      percent.textContent = `${percentDone}% done`;\n",
              "\n",
              "    } while (position < fileData.byteLength);\n",
              "  }\n",
              "\n",
              "  // All done.\n",
              "  yield {\n",
              "    response: {\n",
              "      action: 'complete',\n",
              "    }\n",
              "  };\n",
              "}\n",
              "\n",
              "scope.google = scope.google || {};\n",
              "scope.google.colab = scope.google.colab || {};\n",
              "scope.google.colab._files = {\n",
              "  _uploadFiles,\n",
              "  _uploadFilesContinue,\n",
              "};\n",
              "})(self);\n",
              "</script> "
            ]
          },
          "metadata": {}
        },
        {
          "output_type": "stream",
          "name": "stdout",
          "text": [
            "Saving Boston.csv to Boston.csv\n"
          ]
        }
      ]
    },
    {
      "cell_type": "code",
      "source": [
        "#Load date\n",
        "boston = pd.read_csv('Boston.csv')\n",
        "boston.shape"
      ],
      "metadata": {
        "colab": {
          "base_uri": "https://localhost:8080/"
        },
        "id": "VcDI6OiBrrIB",
        "outputId": "376c310f-b2c1-4e2c-824c-a7f02db1b841"
      },
      "execution_count": 46,
      "outputs": [
        {
          "output_type": "execute_result",
          "data": {
            "text/plain": [
              "(506, 14)"
            ]
          },
          "metadata": {},
          "execution_count": 46
        }
      ]
    },
    {
      "cell_type": "code",
      "source": [
        "## Focus on the medv variable - median for home value in $1000s\n",
        "print(boston['medv'].describe())"
      ],
      "metadata": {
        "colab": {
          "base_uri": "https://localhost:8080/"
        },
        "id": "zhYqZ83isbDB",
        "outputId": "6b4247ab-9e53-4559-d402-bb87cd6dabb6"
      },
      "execution_count": 47,
      "outputs": [
        {
          "output_type": "stream",
          "name": "stdout",
          "text": [
            "count    506.000000\n",
            "mean      22.532806\n",
            "std        9.197104\n",
            "min        5.000000\n",
            "25%       17.025000\n",
            "50%       21.200000\n",
            "75%       25.000000\n",
            "max       50.000000\n",
            "Name: medv, dtype: float64\n"
          ]
        }
      ]
    },
    {
      "cell_type": "code",
      "source": [
        "#a: Estimate population mean of medv\n",
        "## Calculate sample mean as estimate of population mean\n",
        "mu_hat = boston['medv'].mean()\n",
        "\n",
        "print(f'Estimate population mean (μ̂^): {mu_hat:.4f}')\n"
      ],
      "metadata": {
        "colab": {
          "base_uri": "https://localhost:8080/"
        },
        "id": "a90X97ECtjm1",
        "outputId": "31bb2724-c8f2-4f97-9863-2f7dd8650374"
      },
      "execution_count": 50,
      "outputs": [
        {
          "output_type": "stream",
          "name": "stdout",
          "text": [
            "Estimate population mean (μ̂^): 22.5328\n"
          ]
        }
      ]
    },
    {
      "cell_type": "code",
      "source": [
        "#b - Estimate standard error using traditional formula\n",
        "n = len(boston)\n",
        "std_dev = boston['medv'].std()\n",
        "se_traditional = std_dev / np.sqrt(n)\n",
        "\n",
        "print(f'Sample size(n): {n}')\n",
        "print(f'Sample standard deviation (σ): {std_dev:.4f}')\n",
        "print(f\"Standard error (σ/√n): {se_traditional:.4f}\")"
      ],
      "metadata": {
        "colab": {
          "base_uri": "https://localhost:8080/"
        },
        "id": "REmNK2_3u1SO",
        "outputId": "f9729717-deff-4143-e0c6-e480ab77be8e"
      },
      "execution_count": 51,
      "outputs": [
        {
          "output_type": "stream",
          "name": "stdout",
          "text": [
            "Sample size(n): 506\n",
            "Sample standard deviation (σ): 9.1971\n",
            "Standard error (σ/√n): 0.4089\n"
          ]
        }
      ]
    },
    {
      "cell_type": "code",
      "source": [
        "from os import replace\n",
        "#c - Standard Error using Bootstrap\n",
        "## Set random seed for reproducibility\n",
        "np.random.seed(42)\n",
        "\n",
        "# Bootstrap parameters\n",
        "n_bootstrap = 10000\n",
        "bootstrap_means = []\n",
        "\n",
        "print(f\"Running {n_bootstrap} bootstrap samples...\")\n",
        "\n",
        "for i in range(n_bootstrap):\n",
        "  #smaple with replacement\n",
        "  bootstrap_smaple = boston['medv'].sample(n=n, replace=True)\n",
        "\n",
        "  #Calculate mean for this sample\n",
        "  bootstrap_means.append(bootstrap_smaple.mean())\n",
        "\n",
        "    # Progress update\n",
        "  if (i+1) % 1000 == 0:\n",
        "      print(f\"Processed {i + 1}/{n_bootstrap} samples...\")\n",
        "\n",
        "# Calculate bootstrap standard error (std dev of bootstrap means)\n",
        "se_bootstrap = np.std(bootstrap_means, ddof=1)\n",
        "\n",
        "print(f\"Bootstrap standard error: {se_bootstrap:.4f}\")\n",
        "print(f\"Traditional standard error: {se_traditional:.4f}\")\n",
        "print(f\"Difference: {abs(se_bootstrap - se_traditional):.4f}\")\n",
        "print(f\"Ratio (Bootstrap/Traditional): {se_bootstrap/se_traditional:.4f}\")\n"
      ],
      "metadata": {
        "colab": {
          "base_uri": "https://localhost:8080/"
        },
        "id": "i40wgYEhwUXc",
        "outputId": "a3a4ec9f-4e08-4658-ba31-998abcbb902c"
      },
      "execution_count": 57,
      "outputs": [
        {
          "output_type": "stream",
          "name": "stdout",
          "text": [
            "Running 10000 bootstrap samples...\n",
            "Processed 1000/10000 samples...\n",
            "Processed 2000/10000 samples...\n",
            "Processed 3000/10000 samples...\n",
            "Processed 4000/10000 samples...\n",
            "Processed 5000/10000 samples...\n",
            "Processed 6000/10000 samples...\n",
            "Processed 7000/10000 samples...\n",
            "Processed 8000/10000 samples...\n",
            "Processed 9000/10000 samples...\n",
            "Processed 10000/10000 samples...\n",
            "Bootstrap standard error: 0.4052\n",
            "Traditional standard error: 0.4089\n",
            "Difference: 0.0037\n",
            "Ratio (Bootstrap/Traditional): 0.9910\n"
          ]
        }
      ]
    },
    {
      "cell_type": "markdown",
      "source": [
        "COMPARISON:\n",
        "- Bootstrap SE (0.4089) and traditional SE (0.4089) are very close\n",
        "- This suggests the traditional formula works well for this data\n",
        "- Bootstrap provides an empirical alternative that doesn't rely on formulas\n",
        "- The small difference is due to sampling variation in bootstrap"
      ],
      "metadata": {
        "id": "-Pmtv_QxzbIx"
      }
    },
    {
      "cell_type": "code",
      "source": [
        "# Visualize the distribution\n",
        "plt.figure(figsize=(10,6))\n",
        "plt.hist(boston['medv'], bins=30, alpha=0.7, color='steelblue', edgecolor='black')\n",
        "plt.axvline(boston['medv'].mean(), color='red', linestyle='--', label=f'Mean: {boston[\"medv\"].mean():.2f}')\n",
        "plt.xlabel('Median Home Value ($1000s)')\n",
        "plt.ylabel('Frequency')\n",
        "plt.title('Distribution of Median Home Values in Boston Suburbs')\n",
        "plt.legend()\n",
        "plt.grid(True, alpha=0.3)\n",
        "plt.show()"
      ],
      "metadata": {
        "colab": {
          "base_uri": "https://localhost:8080/",
          "height": 564
        },
        "id": "vwTAkkBws00U",
        "outputId": "c297d4b2-28d8-45cf-e953-87c8f9d18b35"
      },
      "execution_count": 48,
      "outputs": [
        {
          "output_type": "display_data",
          "data": {
            "text/plain": [
              "<Figure size 1000x600 with 1 Axes>"
            ],
            "image/png": "[encoded data removed]"
          },
          "metadata": {}
        }
      ]
    },
    {
      "cell_type": "code",
      "source": [
        "#d - Confidence interval\n",
        "# Traditional CI using formula\n",
        "ci_traditional_lower = mu_hat - 2 * se_traditional\n",
        "ci_traditional_upper = mu_hat + 2 * se_traditional\n",
        "\n",
        "# Bootstrap CI (using percentile method)\n",
        "ci_bootstrap_lower = np.percentile(bootstrap_means, 2.5)\n",
        "ci_bootstrap_upper = np.percentile(bootstrap_means, 97.5)\n",
        "\n",
        "print(f\"{'Method':<15} {'Lower':<10} {'Upper':<10} {'Width':<10}\")\n",
        "print(\"-\" * 45)\n",
        "print(f\"{'Traditional':<15} {ci_traditional_lower:<10.4f} {ci_traditional_upper:<10.4f} {ci_traditional_upper-ci_traditional_lower:<10.4f}\")\n",
        "print(f\"{'Bootstrap':<15} {ci_bootstrap_lower:<10.4f} {ci_bootstrap_upper:<10.4f} {ci_bootstrap_upper-ci_bootstrap_lower:<10.4f}\")"
      ],
      "metadata": {
        "colab": {
          "base_uri": "https://localhost:8080/"
        },
        "id": "smp1RFm5zg8R",
        "outputId": "f8dc6a9e-caf5-487f-8879-3244d2580057"
      },
      "execution_count": 58,
      "outputs": [
        {
          "output_type": "stream",
          "name": "stdout",
          "text": [
            "Method          Lower      Upper      Width     \n",
            "---------------------------------------------\n",
            "Traditional     21.7151    23.3505    1.6354    \n",
            "Bootstrap       21.7700    23.3577    1.5878    \n"
          ]
        }
      ]
    },
    {
      "cell_type": "code",
      "source": [
        "#e -  Calculate sample median as estimate of population median\n",
        "mu_med_hat = boston['medv'].median()\n",
        "print(f\"Estimate of population median (μ̂_med): {mu_med_hat:.4f}\")\n",
        "\n",
        "# Compare with mean\n",
        "print(f\"Sample mean: {mu_hat:.4f}\")\n",
        "print(f\"Sample median: {mu_med_hat:.4f}\")\n",
        "print(f\"Difference: {abs(mu_hat - mu_med_hat):.4f}\")"
      ],
      "metadata": {
        "colab": {
          "base_uri": "https://localhost:8080/"
        },
        "id": "T65x6SeD084q",
        "outputId": "4b11c475-f556-4e3c-dcec-9d79cf3a1353"
      },
      "execution_count": 60,
      "outputs": [
        {
          "output_type": "stream",
          "name": "stdout",
          "text": [
            "Estimate of population median (μ̂_med): 21.2000\n",
            "Sample mean: 22.5328\n",
            "Sample median: 21.2000\n",
            "Difference: 1.3328\n"
          ]
        }
      ]
    },
    {
      "cell_type": "code",
      "source": [
        "from os import replace\n",
        "#f - Standard Error of Median using Bootstrap\n",
        "bootstrap_medians = []\n",
        "\n",
        "for i in range(n_bootstrap):\n",
        "  # Sample with replacement\n",
        "  bootstrap_smaple = boston['medv'].sample(n=n, replace=True)\n",
        "\n",
        "  #Calculate median for this sample\n",
        "  bootstrap_medians.append(bootstrap_smaple.median())\n",
        "\n",
        "  # Progress update\n",
        "  if (i+1) % 1000 == 0:\n",
        "    print(f'Processed {i+1}/{n_bootstrap} samples...')\n",
        "\n",
        " #Calculate bootstrap standard error for median\n",
        "se_median_bootstrap = np.std(bootstrap_medians, ddof=1)\n",
        "\n",
        "print(f\"Bootstrap standard error of median: {se_median_bootstrap:.4f}\")\n",
        "print(f\"Bootstrap standard error of mean: {se_bootstrap:.4f}\")\n",
        "print(f\"Ratio (Median SE/Mean SE): {se_median_bootstrap/se_bootstrap:.4f}\")"
      ],
      "metadata": {
        "colab": {
          "base_uri": "https://localhost:8080/"
        },
        "id": "lMrmLm-k2_-X",
        "outputId": "097861ed-32de-4b6c-ac45-270516026cb1"
      },
      "execution_count": 62,
      "outputs": [
        {
          "output_type": "stream",
          "name": "stdout",
          "text": [
            "Processed 1000/10000 samples...\n",
            "Processed 2000/10000 samples...\n",
            "Processed 3000/10000 samples...\n",
            "Processed 4000/10000 samples...\n",
            "Processed 5000/10000 samples...\n",
            "Processed 6000/10000 samples...\n",
            "Processed 7000/10000 samples...\n",
            "Processed 8000/10000 samples...\n",
            "Processed 9000/10000 samples...\n",
            "Processed 10000/10000 samples...\n",
            "Bootstrap standard error of median: 0.3763\n",
            "Bootstrap standard error of mean: 0.4052\n",
            "Ratio (Median SE/Mean SE): 0.9287\n"
          ]
        }
      ]
    },
    {
      "cell_type": "code",
      "source": [
        "#g - Estimate 10th Percentile\n",
        "# Calculate sample 10th percentile\n",
        "mu_01_hat = np.percentile(boston['medv'], 10)\n",
        "print(f\"Estimate of 10th percentile (μ̂_0.1): {mu_01_hat:.4f}\")\n",
        "\n",
        "# Show other key percentiles for context\n",
        "percentiles = [5, 10, 25, 50, 75, 90, 95]\n",
        "percentile_values = np.percentile(boston['medv'], percentiles)\n",
        "\n",
        "print(f\"{'Percentile':<12} {'Value':<10}\")\n",
        "print(\"-\" * 22)\n",
        "for p, val in zip(percentiles, percentile_values):\n",
        "    print(f\"{p}%: {val:>12.4f}\")"
      ],
      "metadata": {
        "id": "ncV5Zzm75z8L",
        "outputId": "d2c732a2-f71d-4c1b-b6eb-bbfe40b5a0db",
        "colab": {
          "base_uri": "https://localhost:8080/"
        }
      },
      "execution_count": 64,
      "outputs": [
        {
          "output_type": "stream",
          "name": "stdout",
          "text": [
            "Estimate of 10th percentile (μ̂_0.1): 12.7500\n",
            "Percentile   Value     \n",
            "----------------------\n",
            "5%:      10.2000\n",
            "10%:      12.7500\n",
            "25%:      17.0250\n",
            "50%:      21.2000\n",
            "75%:      25.0000\n",
            "90%:      34.8000\n",
            "95%:      43.4000\n"
          ]
        }
      ]
    },
    {
      "cell_type": "code",
      "source": [
        "# h - Standard Error of 10th Percentile using Bootstrap\n",
        "# Bootstrap for 10th percentile\n",
        "bootstrap_10th = []\n",
        "print(f\"Running {n_bootstrap} bootstrap samples for 10th percentile...\")\n",
        "\n",
        "for i in range(n_bootstrap):\n",
        "    # Sample with replacement\n",
        "    bootstrap_sample = boston['medv'].sample(n=n, replace=True)\n",
        "    # Calculate 10th percentile for this sample\n",
        "    bootstrap_10th.append(np.percentile(bootstrap_sample, 10))\n",
        "\n",
        "    # Progress update\n",
        "    if (i + 1) % 1000 == 0:\n",
        "        print(f\"Processed {i + 1}/{n_bootstrap} samples...\")\n",
        "\n",
        " # Calculate bootstrap standard error for 10th percentile\n",
        "se_10th_bootstrap = np.std(bootstrap_10th, ddof=1)\n",
        "\n",
        "print(f\"Bootstrap standard error of 10th percentile: {se_10th_bootstrap:.4f}\")\n",
        "print(f\"Comparison:\")\n",
        "print(f\"  - Mean SE: {se_bootstrap:.4f}\")\n",
        "print(f\"  - Median SE: {se_median_bootstrap:.4f}\")\n",
        "print(f\"  - 10th percentile SE: {se_10th_bootstrap:.4f}\")\n",
        "\n",
        "# 95% CI for 10th percentile\n",
        "ci_10th_lower = np.percentile(bootstrap_10th, 2.5)\n",
        "ci_10th_upper = np.percentile(bootstrap_10th, 97.5)\n",
        "\n",
        "print(f\"\\n95% Confidence Interval for 10th percentile:\")\n",
        "print(f\"[{ci_10th_lower:.4f}, {ci_10th_upper:.4f}]\")\n",
        "print(f\"Width: {ci_10th_upper - ci_10th_lower:.4f}\")"
      ],
      "metadata": {
        "id": "9ou-8Gbh7UWc",
        "outputId": "1d3ab823-3101-4806-b3d8-b678179d981a",
        "colab": {
          "base_uri": "https://localhost:8080/"
        }
      },
      "execution_count": 67,
      "outputs": [
        {
          "output_type": "stream",
          "name": "stdout",
          "text": [
            "Running 10000 bootstrap samples for 10th percentile...\n",
            "Processed 1000/10000 samples...\n",
            "Processed 2000/10000 samples...\n",
            "Processed 3000/10000 samples...\n",
            "Processed 4000/10000 samples...\n",
            "Processed 5000/10000 samples...\n",
            "Processed 6000/10000 samples...\n",
            "Processed 7000/10000 samples...\n",
            "Processed 8000/10000 samples...\n",
            "Processed 9000/10000 samples...\n",
            "Processed 10000/10000 samples...\n",
            "Bootstrap standard error of 10th percentile: 0.5055\n",
            "Comparison:\n",
            "  - Mean SE: 0.4052\n",
            "  - Median SE: 0.3763\n",
            "  - 10th percentile SE: 0.5055\n",
            "\n",
            "95% Confidence Interval for 10th percentile:\n",
            "[11.7500, 13.5000]\n",
            "Width: 1.7500\n"
          ]
        }
      ]
    },
    {
      "cell_type": "markdown",
      "source": [
        "COMMENT ON FINDINGS:\n",
        "- The standard error of the 10th percentile (0.5022) is higher than both the mean and median SE\n",
        "- This indicates more uncertainty in estimating extreme percentiles\n",
        "- The 95% CI [11.89, 13.74] shows considerable uncertainty about the true 10th percentile\n",
        "- Extreme percentiles are harder to estimate precisely because they rely on fewer data points\n",
        "- This demonstrates the value of bootstrap for estimating uncertainty of statistics\n",
        "  that don't have simple formulas for standard errors\n",
        "\n"
      ],
      "metadata": {
        "id": "XJESwhv49srI"
      }
    }
  ]
}
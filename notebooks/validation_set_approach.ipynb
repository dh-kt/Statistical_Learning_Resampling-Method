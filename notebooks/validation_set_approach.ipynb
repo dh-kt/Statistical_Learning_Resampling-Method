{
  "nbformat": 4,
  "nbformat_minor": 0,
  "metadata": {
    "colab": {
      "provenance": [],
      "authorship_tag": "ABX9TyPabNJoZ+wA3hkEX2himfWd",
      "include_colab_link": true
    },
    "kernelspec": {
      "name": "python3",
      "display_name": "Python 3"
    },
    "language_info": {
      "name": "python"
    }
  },
  "cells": [
    {
      "cell_type": "markdown",
      "metadata": {
        "id": "view-in-github",
        "colab_type": "text"
      },
      "source": [
        "<a href=\"https://colab.research.google.com/github/dh-kt/Statistical_Learning_Resampling-Method/blob/main/notebooks/validation_set_approach.ipynb\" target=\"_parent\"><img src=\"https://colab.research.google.com/assets/colab-badge.svg\" alt=\"Open In Colab\"/></a>"
      ]
    },
    {
      "cell_type": "code",
      "execution_count": 1,
      "metadata": {
        "id": "nE8vg5tszy7U"
      },
      "outputs": [],
      "source": [
        "# Import necessary libraries\n",
        "import numpy as np\n",
        "import pandas as pd\n",
        "import matplotlib.pyplot as plt\n",
        "import seaborn as sns\n",
        "\n",
        "# For statistical modeling\n",
        "import statsmodels.api as sm\n",
        "import statsmodels.formula.api as smf\n",
        "\n",
        "# For machine learning (we'll use this for train/test split)\n",
        "from sklearn.model_selection import train_test_split\n",
        "from sklearn.metrics import confusion_matrix, classification_report\n"
      ]
    },
    {
      "cell_type": "code",
      "source": [
        "# Set random seed for reproducibility\n",
        "np.random.seed(42)\n",
        "print(\" All libraries imported successfully!\")"
      ],
      "metadata": {
        "colab": {
          "base_uri": "https://localhost:8080/"
        },
        "id": "UVTWfYJf0Vq1",
        "outputId": "2e8578f5-7c5a-4cb8-ef54-bffcdfe9e508"
      },
      "execution_count": 2,
      "outputs": [
        {
          "output_type": "stream",
          "name": "stdout",
          "text": [
            " All libraries imported successfully!\n"
          ]
        }
      ]
    },
    {
      "cell_type": "code",
      "source": [
        "#Preparing data to load\n",
        "from google.colab import files\n",
        "uploaded = files.upload()"
      ],
      "metadata": {
        "colab": {
          "base_uri": "https://localhost:8080/",
          "height": 74
        },
        "id": "nghh_dHh0o0s",
        "outputId": "6ce9cc06-ce90-4fc0-e280-45b70a6ef28f"
      },
      "execution_count": 3,
      "outputs": [
        {
          "output_type": "display_data",
          "data": {
            "text/plain": [
              "<IPython.core.display.HTML object>"
            ],
            "text/html": [
              "\n",
              "     <input type=\"file\" id=\"files-73f0dfc8-8f60-421e-8f51-b3e2da39cf57\" name=\"files[]\" multiple disabled\n",
              "        style=\"border:none\" />\n",
              "     <output id=\"result-73f0dfc8-8f60-421e-8f51-b3e2da39cf57\">\n",
              "      Upload widget is only available when the cell has been executed in the\n",
              "      current browser session. Please rerun this cell to enable.\n",
              "      </output>\n",
              "      <script>// Copyright 2017 Google LLC\n",
              "//\n",
              "// Licensed under the Apache License, Version 2.0 (the \"License\");\n",
              "// you may not use this file except in compliance with the License.\n",
              "// You may obtain a copy of the License at\n",
              "//\n",
              "//      http://www.apache.org/licenses/LICENSE-2.0\n",
              "//\n",
              "// Unless required by applicable law or agreed to in writing, software\n",
              "// distributed under the License is distributed on an \"AS IS\" BASIS,\n",
              "// WITHOUT WARRANTIES OR CONDITIONS OF ANY KIND, either express or implied.\n",
              "// See the License for the specific language governing permissions and\n",
              "// limitations under the License.\n",
              "\n",
              "/**\n",
              " * @fileoverview Helpers for google.colab Python module.\n",
              " */\n",
              "(function(scope) {\n",
              "function span(text, styleAttributes = {}) {\n",
              "  const element = document.createElement('span');\n",
              "  element.textContent = text;\n",
              "  for (const key of Object.keys(styleAttributes)) {\n",
              "    element.style[key] = styleAttributes[key];\n",
              "  }\n",
              "  return element;\n",
              "}\n",
              "\n",
              "// Max number of bytes which will be uploaded at a time.\n",
              "const MAX_PAYLOAD_SIZE = 100 * 1024;\n",
              "\n",
              "function _uploadFiles(inputId, outputId) {\n",
              "  const steps = uploadFilesStep(inputId, outputId);\n",
              "  const outputElement = document.getElementById(outputId);\n",
              "  // Cache steps on the outputElement to make it available for the next call\n",
              "  // to uploadFilesContinue from Python.\n",
              "  outputElement.steps = steps;\n",
              "\n",
              "  return _uploadFilesContinue(outputId);\n",
              "}\n",
              "\n",
              "// This is roughly an async generator (not supported in the browser yet),\n",
              "// where there are multiple asynchronous steps and the Python side is going\n",
              "// to poll for completion of each step.\n",
              "// This uses a Promise to block the python side on completion of each step,\n",
              "// then passes the result of the previous step as the input to the next step.\n",
              "function _uploadFilesContinue(outputId) {\n",
              "  const outputElement = document.getElementById(outputId);\n",
              "  const steps = outputElement.steps;\n",
              "\n",
              "  const next = steps.next(outputElement.lastPromiseValue);\n",
              "  return Promise.resolve(next.value.promise).then((value) => {\n",
              "    // Cache the last promise value to make it available to the next\n",
              "    // step of the generator.\n",
              "    outputElement.lastPromiseValue = value;\n",
              "    return next.value.response;\n",
              "  });\n",
              "}\n",
              "\n",
              "/**\n",
              " * Generator function which is called between each async step of the upload\n",
              " * process.\n",
              " * @param {string} inputId Element ID of the input file picker element.\n",
              " * @param {string} outputId Element ID of the output display.\n",
              " * @return {!Iterable<!Object>} Iterable of next steps.\n",
              " */\n",
              "function* uploadFilesStep(inputId, outputId) {\n",
              "  const inputElement = document.getElementById(inputId);\n",
              "  inputElement.disabled = false;\n",
              "\n",
              "  const outputElement = document.getElementById(outputId);\n",
              "  outputElement.innerHTML = '';\n",
              "\n",
              "  const pickedPromise = new Promise((resolve) => {\n",
              "    inputElement.addEventListener('change', (e) => {\n",
              "      resolve(e.target.files);\n",
              "    });\n",
              "  });\n",
              "\n",
              "  const cancel = document.createElement('button');\n",
              "  inputElement.parentElement.appendChild(cancel);\n",
              "  cancel.textContent = 'Cancel upload';\n",
              "  const cancelPromise = new Promise((resolve) => {\n",
              "    cancel.onclick = () => {\n",
              "      resolve(null);\n",
              "    };\n",
              "  });\n",
              "\n",
              "  // Wait for the user to pick the files.\n",
              "  const files = yield {\n",
              "    promise: Promise.race([pickedPromise, cancelPromise]),\n",
              "    response: {\n",
              "      action: 'starting',\n",
              "    }\n",
              "  };\n",
              "\n",
              "  cancel.remove();\n",
              "\n",
              "  // Disable the input element since further picks are not allowed.\n",
              "  inputElement.disabled = true;\n",
              "\n",
              "  if (!files) {\n",
              "    return {\n",
              "      response: {\n",
              "        action: 'complete',\n",
              "      }\n",
              "    };\n",
              "  }\n",
              "\n",
              "  for (const file of files) {\n",
              "    const li = document.createElement('li');\n",
              "    li.append(span(file.name, {fontWeight: 'bold'}));\n",
              "    li.append(span(\n",
              "        `(${file.type || 'n/a'}) - ${file.size} bytes, ` +\n",
              "        `last modified: ${\n",
              "            file.lastModifiedDate ? file.lastModifiedDate.toLocaleDateString() :\n",
              "                                    'n/a'} - `));\n",
              "    const percent = span('0% done');\n",
              "    li.appendChild(percent);\n",
              "\n",
              "    outputElement.appendChild(li);\n",
              "\n",
              "    const fileDataPromise = new Promise((resolve) => {\n",
              "      const reader = new FileReader();\n",
              "      reader.onload = (e) => {\n",
              "        resolve(e.target.result);\n",
              "      };\n",
              "      reader.readAsArrayBuffer(file);\n",
              "    });\n",
              "    // Wait for the data to be ready.\n",
              "    let fileData = yield {\n",
              "      promise: fileDataPromise,\n",
              "      response: {\n",
              "        action: 'continue',\n",
              "      }\n",
              "    };\n",
              "\n",
              "    // Use a chunked sending to avoid message size limits. See b/62115660.\n",
              "    let position = 0;\n",
              "    do {\n",
              "      const length = Math.min(fileData.byteLength - position, MAX_PAYLOAD_SIZE);\n",
              "      const chunk = new Uint8Array(fileData, position, length);\n",
              "      position += length;\n",
              "\n",
              "      const base64 = btoa(String.fromCharCode.apply(null, chunk));\n",
              "      yield {\n",
              "        response: {\n",
              "          action: 'append',\n",
              "          file: file.name,\n",
              "          data: base64,\n",
              "        },\n",
              "      };\n",
              "\n",
              "      let percentDone = fileData.byteLength === 0 ?\n",
              "          100 :\n",
              "          Math.round((position / fileData.byteLength) * 100);\n",
              "      percent.textContent = `${percentDone}% done`;\n",
              "\n",
              "    } while (position < fileData.byteLength);\n",
              "  }\n",
              "\n",
              "  // All done.\n",
              "  yield {\n",
              "    response: {\n",
              "      action: 'complete',\n",
              "    }\n",
              "  };\n",
              "}\n",
              "\n",
              "scope.google = scope.google || {};\n",
              "scope.google.colab = scope.google.colab || {};\n",
              "scope.google.colab._files = {\n",
              "  _uploadFiles,\n",
              "  _uploadFilesContinue,\n",
              "};\n",
              "})(self);\n",
              "</script> "
            ]
          },
          "metadata": {}
        },
        {
          "output_type": "stream",
          "name": "stdout",
          "text": [
            "Saving Default.csv to Default.csv\n"
          ]
        }
      ]
    },
    {
      "cell_type": "code",
      "source": [
        "#Load data\n",
        "default = pd.read_csv('Default.csv')\n",
        "\n",
        "#Inspect data\n",
        "print('Data Info:')\n",
        "print(default.head())\n",
        "print('\\n')"
      ],
      "metadata": {
        "colab": {
          "base_uri": "https://localhost:8080/"
        },
        "id": "q8F9EzXl1JL8",
        "outputId": "fe81231c-28e4-43c4-d1bc-f40ed25496bf"
      },
      "execution_count": 4,
      "outputs": [
        {
          "output_type": "stream",
          "name": "stdout",
          "text": [
            "Data Info:\n",
            "  default student      balance        income\n",
            "0      No      No   729.526495  44361.625074\n",
            "1      No     Yes   817.180407  12106.134700\n",
            "2      No      No  1073.549164  31767.138947\n",
            "3      No      No   529.250605  35704.493935\n",
            "4      No      No   785.655883  38463.495879\n",
            "\n",
            "\n"
          ]
        }
      ]
    },
    {
      "cell_type": "code",
      "source": [
        "#check for missing values\n",
        "print('Mising Values:')\n",
        "print(default.isnull().sum())"
      ],
      "metadata": {
        "colab": {
          "base_uri": "https://localhost:8080/"
        },
        "id": "NqUCIULs_O6u",
        "outputId": "2747e187-3d55-4ac3-e01c-06ccbbbbba46"
      },
      "execution_count": 5,
      "outputs": [
        {
          "output_type": "stream",
          "name": "stdout",
          "text": [
            "Mising Values:\n",
            "default    0\n",
            "student    0\n",
            "balance    0\n",
            "income     0\n",
            "dtype: int64\n"
          ]
        }
      ]
    },
    {
      "cell_type": "code",
      "source": [
        "# Convert 'default' from string to numeric (0 and 1)\n",
        "default['default'] = default['default'].map({'No':0, 'Yes':1})\n",
        "default['stuent'] = default['student'].map({'No':0, 'Yes':1})"
      ],
      "metadata": {
        "id": "C7FD36x-8mWh"
      },
      "execution_count": 6,
      "outputs": []
    },
    {
      "cell_type": "code",
      "source": [
        "#Check the structure of the data\n",
        "print(\"Data Info:\")\n",
        "print(default.info())\n",
        "print(\"\\n\")"
      ],
      "metadata": {
        "colab": {
          "base_uri": "https://localhost:8080/"
        },
        "id": "GSd2muqPBF0T",
        "outputId": "120e001b-53e0-41bf-c347-9b5a2b626c91"
      },
      "execution_count": 7,
      "outputs": [
        {
          "output_type": "stream",
          "name": "stdout",
          "text": [
            "Data Info:\n",
            "<class 'pandas.core.frame.DataFrame'>\n",
            "RangeIndex: 10000 entries, 0 to 9999\n",
            "Data columns (total 5 columns):\n",
            " #   Column   Non-Null Count  Dtype  \n",
            "---  ------   --------------  -----  \n",
            " 0   default  10000 non-null  int64  \n",
            " 1   student  10000 non-null  object \n",
            " 2   balance  10000 non-null  float64\n",
            " 3   income   10000 non-null  float64\n",
            " 4   stuent   10000 non-null  int64  \n",
            "dtypes: float64(2), int64(2), object(1)\n",
            "memory usage: 390.8+ KB\n",
            "None\n",
            "\n",
            "\n"
          ]
        }
      ]
    },
    {
      "cell_type": "code",
      "source": [
        "#Statistics Summary of the data\n",
        "print(\"\\n Summary Statistics:\")\n",
        "print(default.describe())"
      ],
      "metadata": {
        "colab": {
          "base_uri": "https://localhost:8080/"
        },
        "id": "K7bcov0B4t3x",
        "outputId": "cde98fd0-ad7d-4de3-bd95-983845e2411f"
      },
      "execution_count": 8,
      "outputs": [
        {
          "output_type": "stream",
          "name": "stdout",
          "text": [
            "\n",
            " Summary Statistics:\n",
            "            default       balance        income        stuent\n",
            "count  10000.000000  10000.000000  10000.000000  10000.000000\n",
            "mean       0.033300    835.374886  33516.981876      0.294400\n",
            "std        0.179428    483.714985  13336.639563      0.455795\n",
            "min        0.000000      0.000000    771.967729      0.000000\n",
            "25%        0.000000    481.731105  21340.462903      0.000000\n",
            "50%        0.000000    823.636973  34552.644802      0.000000\n",
            "75%        0.000000   1166.308386  43807.729272      1.000000\n",
            "max        1.000000   2654.322576  73554.233495      1.000000\n"
          ]
        }
      ]
    },
    {
      "cell_type": "code",
      "source": [
        "# Let's also check if there are any other categorical columns that might need conversion\n",
        "print('\\n Other categorical columns:')\n",
        "categorical_cols = default.select_dtypes(include=['object']).columns\n",
        "print(categorical_cols)"
      ],
      "metadata": {
        "colab": {
          "base_uri": "https://localhost:8080/"
        },
        "id": "3F0FPZAN2F1k",
        "outputId": "30fc1aa9-5613-4434-93d5-02e853b00c7a"
      },
      "execution_count": 9,
      "outputs": [
        {
          "output_type": "stream",
          "name": "stdout",
          "text": [
            "\n",
            " Other categorical columns:\n",
            "Index(['student'], dtype='object')\n"
          ]
        }
      ]
    },
    {
      "cell_type": "code",
      "source": [
        "df = default.select_dtypes(include='number')"
      ],
      "metadata": {
        "id": "ie5sXgmHELP2"
      },
      "execution_count": 10,
      "outputs": []
    },
    {
      "cell_type": "code",
      "source": [
        "# Fit logistic regression model using income and balance to predict default\n",
        "logit_model = smf.logit(formula='default ~ income + balance', data=df)\n",
        "fitted_model = logit_model.fit()\n",
        "\n",
        "#Display the model summary\n",
        "print(fitted_model.summary())"
      ],
      "metadata": {
        "colab": {
          "base_uri": "https://localhost:8080/"
        },
        "id": "wPmjZWSp5hGQ",
        "outputId": "b91b87a6-c340-499b-9938-c745d765c925"
      },
      "execution_count": 11,
      "outputs": [
        {
          "output_type": "stream",
          "name": "stdout",
          "text": [
            "Optimization terminated successfully.\n",
            "         Current function value: 0.078948\n",
            "         Iterations 10\n",
            "                           Logit Regression Results                           \n",
            "==============================================================================\n",
            "Dep. Variable:                default   No. Observations:                10000\n",
            "Model:                          Logit   Df Residuals:                     9997\n",
            "Method:                           MLE   Df Model:                            2\n",
            "Date:                Fri, 22 Aug 2025   Pseudo R-squ.:                  0.4594\n",
            "Time:                        05:33:45   Log-Likelihood:                -789.48\n",
            "converged:                       True   LL-Null:                       -1460.3\n",
            "Covariance Type:            nonrobust   LLR p-value:                4.541e-292\n",
            "==============================================================================\n",
            "                 coef    std err          z      P>|z|      [0.025      0.975]\n",
            "------------------------------------------------------------------------------\n",
            "Intercept    -11.5405      0.435    -26.544      0.000     -12.393     -10.688\n",
            "income      2.081e-05   4.99e-06      4.174      0.000     1.1e-05    3.06e-05\n",
            "balance        0.0056      0.000     24.835      0.000       0.005       0.006\n",
            "==============================================================================\n",
            "\n",
            "Possibly complete quasi-separation: A fraction 0.14 of observations can be\n",
            "perfectly predicted. This might indicate that there is complete\n",
            "quasi-separation. In this case some parameters will not be identified.\n"
          ]
        }
      ]
    },
    {
      "cell_type": "code",
      "source": [
        "# Calculate odds ratios for practical interpretation\n",
        "odds_ratios = np.exp(fitted_model.params)\n",
        "print(\"\\n📊 Odds Ratios (more interpretable):\")\n",
        "print(f\"Income: 1 unit increase → {odds_ratios['income']:.6f}x odds of default\")\n",
        "print(f\"Balance: 1 unit increase → {odds_ratios['balance']:.6f}x odds of default\")\n",
        "print(f\"For every $1000 increase in balance: {np.exp(0.0056*1000):.2f}x odds of default\")"
      ],
      "metadata": {
        "colab": {
          "base_uri": "https://localhost:8080/"
        },
        "collapsed": true,
        "id": "4sSU4ps0UyA5",
        "outputId": "173eb029-0904-4b83-fe2c-ea486dad68ab"
      },
      "execution_count": 12,
      "outputs": [
        {
          "output_type": "stream",
          "name": "stdout",
          "text": [
            "\n",
            "📊 Odds Ratios (more interpretable):\n",
            "Income: 1 unit increase → 1.000021x odds of default\n",
            "Balance: 1 unit increase → 1.005663x odds of default\n",
            "For every $1000 increase in balance: 270.43x odds of default\n"
          ]
        }
      ]
    },
    {
      "cell_type": "markdown",
      "source": [
        "Model Results Interpretation\n",
        "1. Model Convergence & Fit\n",
        "Optimization terminated successfully after 10 iterations\n",
        "\n",
        "Current function value: 0.0789 (lower is better, indicating good model fit)\n",
        "\n",
        "Pseudo R-squared: 0.4594 - The model explains approximately 45.94% of the variance in default status, which is considered quite strong for a logistic regression model\n",
        "\n",
        "2. Statistical Significance\n",
        "All predictors are highly statistically significant (p-value < 0.001):\n",
        "\n",
        "Income: p-value = 0.000\n",
        "  \n",
        "Balance: p-value = 0.000\n",
        "\n",
        "Intercept: p-value = 0.000\n",
        "\n",
        "3. Coefficient Interpretation\n",
        "Intercept: -11.5405 - The log-odds of default when both income and balance are zero (theoretical baseline)\n",
        "\n",
        "Income: 2.081e-05 - For each $1 increase in income, the log-odds of default increase by 0.00002081\n",
        "\n",
        "Balance: 0.0056 - For each $1 increase in credit card balance, the log-odds of default increase by 0.0056\n",
        "4. mportant Note: Quasi-Separation Warning\n",
        "The warning about \"quasi-separation\" indicates that:\n",
        "\n",
        "14% of observations can be perfectly predicted - this is actually good news!\n",
        "\n",
        "It means our model is very effective at distinguishing defaulters from non-defaulters\n",
        "\n",
        "No action needed - this is expected behavior for a well-performing classification model\n",
        "\n",
        "5. Conclusion\n",
        "The logistic regression model successfully identifies both income and balance as highly significant predictors of credit card default. Credit card balance appears to be the much stronger predictor in practical terms."
      ],
      "metadata": {
        "id": "CseF10uUbL43"
      }
    },
    {
      "cell_type": "markdown",
      "source": [],
      "metadata": {
        "id": "TXOM71vPgCar"
      }
    },
    {
      "cell_type": "markdown",
      "source": [
        "#b.\tUsing the validation set approach, estimate the test error of this model\n",
        "he goal is to:\n",
        "\n",
        "Split our data into training set (to build the model)\n",
        "\n",
        "And validation set (to test the model's performance)\n",
        "\n",
        "This gives us an estimate of the test error (how well the model generalizes)"
      ],
      "metadata": {
        "id": "gKLuEG4rgFM0"
      }
    },
    {
      "cell_type": "code",
      "source": [
        "# Split the Data into Training and Validation Sets\n",
        "X = default[['income', 'balance']] #Features\n",
        "y = default['default']              # Target variable\n",
        "\n",
        "X_train, X_val, y_train, y_val = train_test_split(X, y, test_size=0.3, random_state=42, stratify=y)\n",
        "\n",
        "print('Data Split Results:')\n",
        "print(f'Original data shape: {X.shape}')\n",
        "print(f'Training set shape: {X_train.shape} (70%)')\n",
        "print(f'Validation set shape: {X_val.shape} (30%)')\n",
        "print(f'Training default rate: {y_train.mean():.3%}')\n",
        "print(f'Vaidation default rate: {y_val.mean():.3%}')"
      ],
      "metadata": {
        "colab": {
          "base_uri": "https://localhost:8080/"
        },
        "id": "olDxGavJXDJG",
        "outputId": "5cb6389a-c5ba-442e-ecf7-1f2454e91ebe"
      },
      "execution_count": 13,
      "outputs": [
        {
          "output_type": "stream",
          "name": "stdout",
          "text": [
            "Data Split Results:\n",
            "Original data shape: (10000, 2)\n",
            "Training set shape: (7000, 2) (70%)\n",
            "Validation set shape: (3000, 2) (30%)\n",
            "Training default rate: 3.329%\n",
            "Vaidation default rate: 3.333%\n"
          ]
        }
      ]
    },
    {
      "cell_type": "code",
      "source": [
        "# Fit the model on train Data only\n",
        "X_train_sm = sm.add_constant(X_train)\n",
        "train_model = sm.Logit(y_train, X_train_sm).fit()\n",
        "\n",
        "print('Model fitted on training!')\n",
        "print(train_model.summary())"
      ],
      "metadata": {
        "colab": {
          "base_uri": "https://localhost:8080/"
        },
        "id": "peR4zatMjTmK",
        "outputId": "96026ff9-0f6a-4efb-d1d8-89a3cedfd376"
      },
      "execution_count": 14,
      "outputs": [
        {
          "output_type": "stream",
          "name": "stdout",
          "text": [
            "Optimization terminated successfully.\n",
            "         Current function value: 0.078461\n",
            "         Iterations 10\n",
            "Model fitted on training!\n",
            "                           Logit Regression Results                           \n",
            "==============================================================================\n",
            "Dep. Variable:                default   No. Observations:                 7000\n",
            "Model:                          Logit   Df Residuals:                     6997\n",
            "Method:                           MLE   Df Model:                            2\n",
            "Date:                Fri, 22 Aug 2025   Pseudo R-squ.:                  0.4625\n",
            "Time:                        05:34:04   Log-Likelihood:                -549.22\n",
            "converged:                       True   LL-Null:                       -1021.9\n",
            "Covariance Type:            nonrobust   LLR p-value:                5.290e-206\n",
            "==============================================================================\n",
            "                 coef    std err          z      P>|z|      [0.025      0.975]\n",
            "------------------------------------------------------------------------------\n",
            "const        -11.5977      0.523    -22.157      0.000     -12.624     -10.572\n",
            "income      1.851e-05   5.91e-06      3.134      0.002    6.93e-06    3.01e-05\n",
            "balance        0.0058      0.000     20.729      0.000       0.005       0.006\n",
            "==============================================================================\n",
            "\n",
            "Possibly complete quasi-separation: A fraction 0.15 of observations can be\n",
            "perfectly predicted. This might indicate that there is complete\n",
            "quasi-separation. In this case some parameters will not be identified.\n"
          ]
        }
      ]
    },
    {
      "cell_type": "code",
      "source": [
        "#Make Predictions on Validation Set\n",
        "X_val_sm = sm.add_constant(X_val)\n",
        "\n",
        "#Convert probabilities to class predictions (Using 0.5 thread)\n",
        "val_predictions_probs = train_model.predict(X_val_sm)\n",
        "\n",
        "val_predictions = (val_predictions_probs > 0.5).astype(int)\n",
        "\n",
        "print('First 10 prediction probabilities: ', val_predictions_probs[:10].round(3))\n",
        "print('First 10 class predictions; ', val_predictions[:10])\n",
        "print('First 10 actual values: ', y_val.values[:10])"
      ],
      "metadata": {
        "colab": {
          "base_uri": "https://localhost:8080/"
        },
        "id": "E2nxsIyLl3hP",
        "outputId": "282000fe-6d34-4144-8671-e3b00c51b399"
      },
      "execution_count": 15,
      "outputs": [
        {
          "output_type": "stream",
          "name": "stdout",
          "text": [
            "First 10 prediction probabilities:  7288    0.011\n",
            "6310    0.002\n",
            "3912    0.000\n",
            "6386    0.528\n",
            "5633    0.004\n",
            "7212    0.000\n",
            "8705    0.698\n",
            "8622    0.002\n",
            "542     0.011\n",
            "8083    0.015\n",
            "dtype: float64\n",
            "First 10 class predictions;  7288    0\n",
            "6310    0\n",
            "3912    0\n",
            "6386    1\n",
            "5633    0\n",
            "7212    0\n",
            "8705    1\n",
            "8622    0\n",
            "542     0\n",
            "8083    0\n",
            "dtype: int64\n",
            "First 10 actual values:  [0 0 0 0 0 0 1 0 0 0]\n"
          ]
        }
      ]
    },
    {
      "cell_type": "code",
      "source": [
        "#Calculate Validation Error Rate\n",
        "#Misclassification error\n",
        "error_rate = np.mean(val_predictions != y_val)\n",
        "accuracy = 1- error_rate\n",
        "\n",
        "#Confusion Matrix\n",
        "cm = confusion_matrix(y_val, val_predictions)\n",
        "tn, fp, fn, tp = cm.ravel()\n",
        "\n",
        "print(f'Validation Error Rate: {error_rate:.3%}')\n",
        "print(f'Validation Accuracy: {accuracy:.3%}')\n",
        "print(f'\\nConfusion Matrix:')\n",
        "print(cm)\n",
        "print(f'\\nTrue Negative:{tn} | False Positive: {fp}')\n",
        "print(f'False Negative: {fp} | True Positive: {tp}')"
      ],
      "metadata": {
        "colab": {
          "base_uri": "https://localhost:8080/"
        },
        "id": "EKwvZw-GoksW",
        "outputId": "86e5863f-c9f2-4221-f277-f9e75f902449"
      },
      "execution_count": 16,
      "outputs": [
        {
          "output_type": "stream",
          "name": "stdout",
          "text": [
            "Validation Error Rate: 2.867%\n",
            "Validation Accuracy: 97.133%\n",
            "\n",
            "Confusion Matrix:\n",
            "[[2881   19]\n",
            " [  67   33]]\n",
            "\n",
            "True Negative:2881 | False Positive: 19\n",
            "False Negative: 19 | True Positive: 33\n"
          ]
        }
      ]
    },
    {
      "cell_type": "code",
      "source": [
        "#Additional Metrics\n",
        "if tp + fp > 0: # Aviod division by zero\n",
        "  precision = tp / (tp+fp)\n",
        "  recall = tp / (tp+fn)\n",
        "  f1_score = 2 * (precision * recall) / (precision + recall)\n",
        "\n",
        "  print(f'\\nAdditional Metrics:')\n",
        "  print(f'Precision: {precision:.3%}') # of predicted, how many were correct?\n",
        "  print(f'Recall: {recall:.3%}')  # Of actual defaults, how many did we catch?\n",
        "  print(f'F1-Score: {f1_score:.3%}')"
      ],
      "metadata": {
        "colab": {
          "base_uri": "https://localhost:8080/"
        },
        "id": "PC-ZmPWzqdQj",
        "outputId": "d5dad8c2-99b9-4a24-8c61-60188169a8ef"
      },
      "execution_count": 17,
      "outputs": [
        {
          "output_type": "stream",
          "name": "stdout",
          "text": [
            "\n",
            "Additional Metrics:\n",
            "Precision: 63.462%\n",
            "Recall: 33.000%\n",
            "F1-Score: 43.421%\n"
          ]
        }
      ]
    },
    {
      "cell_type": "code",
      "source": [
        "#Training predictions\n",
        "train_predictions_probs = train_model.predict(X_train_sm)\n",
        "train_predictions = (train_predictions_probs > 0.5).astype(int)\n",
        "train_error = np.mean(train_predictions != y_train)\n",
        "\n",
        "print(f'Training Error Rate: {train_error:.3%}')\n",
        "print(f'Validation Error Rate: {error_rate:.3%}')\n",
        "print(f'Difference: {abs(train_error - error_rate):.3%}')\n",
        "\n",
        "if abs(train_error - error_rate) < 0.01:\n",
        "  print('Good generalization: Similar training and validation error\")')\n",
        "else:\n",
        "  print('Potential overfitting: Large gap between training and validation error\")')"
      ],
      "metadata": {
        "colab": {
          "base_uri": "https://localhost:8080/"
        },
        "id": "u_Vgn9QDsI8C",
        "outputId": "d8d2c3f5-11eb-4530-f2e1-f1ca233eda91"
      },
      "execution_count": 18,
      "outputs": [
        {
          "output_type": "stream",
          "name": "stdout",
          "text": [
            "Training Error Rate: 2.571%\n",
            "Validation Error Rate: 2.867%\n",
            "Difference: 0.295%\n",
            "Good generalization: Similar training and validation error\")\n"
          ]
        }
      ]
    },
    {
      "cell_type": "markdown",
      "source": [
        "## **Validation Set Approach Results**\n",
        "\n",
        "### **Key Findings:**\n",
        "- **Validation Error Rate:** 2.867%\n",
        "- **Validation Accuracy:** 97.133%\n",
        "- **The model demonstrates excellent generalization** with only a 0.295% difference between training and validation error\n",
        "\n",
        "### **Model Performance Breakdown:**\n",
        "\n",
        "**Overall Performance:**\n",
        "-**97.133% Accuracy:** The model correctly predicts default status for the vast majority of customers\n",
        "-**2.867% Error Rate:** Very low misclassification rate\n",
        "\n",
        "**Default Prediction Capability (Class 1):**\n",
        "- **Precision: 63.462%** - When the model predicts \"default\", it's correct about 63% of the time\n",
        "- **Recall: 33.000%** - The model detects only 33% of actual defaults\n",
        "- **F1-Score: 43.421%** - Balanced measure of precision and recall\n",
        "\n",
        "**Non-Default Prediction Capability (Class 0):**\n",
        "- **Excellent performance** with 2881 true negatives and only 19 false positives\n",
        "\n",
        "### **Business Implications:**\n",
        "- The model is **highly effective at identifying low-risk customers** (97%+ accuracy)\n",
        "- However, it **misses about 67% of actual defaults** (low recall) - this could be costly for the business\n",
        "- When it does flag someone as high-risk, it's correct about 63% of the time\n",
        "\n",
        "### **Recommendations:**\n",
        "1. **Address class imbalance** - Only 3.3% of accounts default, making them hard to detect\n",
        "2. **Adjust classification threshold** - Lowering the threshold from 0.5 to 0.3 might catch more defaults\n",
        "3. **Collect additional features** - Income and balance alone may not be sufficient to predict default reliably\n",
        "4. **Use as first screening tool** - The model is excellent for identifying low-risk customers automatically\n",
        "\n",
        "### **Next Steps:**\n",
        "- Experiment with different probability thresholds\n",
        "- Try techniques for imbalanced data (SMOTE, class weights)\n",
        "- Implement k-Fold Cross-Validation for more robust error estimation"
      ],
      "metadata": {
        "id": "4xTDVxvMuDUy"
      }
    },
    {
      "cell_type": "code",
      "source": [
        "# =============================================================================\n",
        "# PART a: Repeat validation set approach with different random splits\n",
        "# =============================================================================\n",
        "\n",
        "print(\" PART a: Multiple Validation Splits\")\n",
        "print(\"=\" * 50)\n",
        "\n",
        "# We'll test 3 different random seeds\n",
        "random_seeds = [42, 123, 789]\n",
        "results = []\n",
        "\n",
        "for i, seed in enumerate(random_seeds, 1):\n",
        "    print(f\"\\n Split {i} (Random State = {seed})\")\n",
        "    print(\"-\" * 30)\n",
        "\n",
        "    # Split with different random seed\n",
        "    X_train, X_val, y_train, y_val = train_test_split(\n",
        "        X, y, test_size=0.3, random_state=seed, stratify=y\n",
        "    )\n",
        "\n",
        "    # Fit model\n",
        "    X_train_sm = sm.add_constant(X_train)\n",
        "    model = sm.Logit(y_train, X_train_sm).fit(disp=0)  # disp=0 suppresses output\n",
        "\n",
        "    # Predictions - RESET INDEX TO FIX THE ERROR!\n",
        "    X_val_sm = sm.add_constant(X_val)\n",
        "    val_predictions_proba = model.predict(X_val_sm)\n",
        "    val_predictions = (val_predictions_proba > 0.5).astype(int)\n",
        "\n",
        "    # FIX: Reset indices to ensure proper alignment\n",
        "    y_val_reset = y_val.reset_index(drop=True)\n",
        "    val_predictions_reset = pd.Series(val_predictions).reset_index(drop=True)\n",
        "\n",
        "    # Calculate metrics with reset indices\n",
        "    error_rate = np.mean(val_predictions_reset != y_val_reset)\n",
        "    accuracy = 1 - error_rate\n",
        "    cm = confusion_matrix(y_val_reset, val_predictions_reset)\n",
        "    tn, fp, fn, tp = cm.ravel()\n",
        "\n",
        "    if tp + fp > 0:\n",
        "        precision = tp / (tp + fp)\n",
        "        recall = tp / (tp + fn)\n",
        "        f1 = 2 * (precision * recall) / (precision + recall)\n",
        "    else:\n",
        "        precision = recall = f1 = 0\n",
        "\n",
        "    # Store results\n",
        "    results.append({\n",
        "        'split': i,\n",
        "        'random_state': seed,\n",
        "        'error_rate': error_rate,\n",
        "        'accuracy': accuracy,\n",
        "        'precision': precision,\n",
        "        'recall': recall,\n",
        "        'f1_score': f1,\n",
        "        'tp': tp,\n",
        "        'fp': fp,\n",
        "        'fn': fn,\n",
        "        'tn': tn\n",
        "    })\n",
        "\n",
        "    # Print results\n",
        "    print(f\"Error Rate: {error_rate:.3%}\")\n",
        "    print(f\"Accuracy: {accuracy:.3%}\")\n",
        "    print(f\"Precision: {precision:.3%}\")\n",
        "    print(f\"Recall: {recall:.3%}\")\n",
        "    print(f\"F1-Score: {f1:.3%}\")\n",
        "    print(f\"Confusion Matrix:\\n{cm}\")\n",
        "\n",
        "# Create summary DataFrame\n",
        "results_df = pd.DataFrame(results)\n",
        "print(\"\\n\" + \"=\"*50)\n",
        "print(\"📊 SUMMARY OF ALL SPLITS\")\n",
        "print(\"=\"*50)\n",
        "print(results_df.round(4))\n",
        "\n",
        "# Calculate averages\n",
        "print(f\"\\n📈 AVERAGE PERFORMANCE ACROSS ALL SPLITS:\")\n",
        "print(f\"Average Error Rate: {results_df['error_rate'].mean():.3%}\")\n",
        "print(f\"Average Accuracy: {results_df['accuracy'].mean():.3%}\")\n",
        "print(f\"Average Precision: {results_df['precision'].mean():.3%}\")\n",
        "print(f\"Average Recall: {results_df['recall'].mean():.3%}\")\n",
        "print(f\"Average F1-Score: {results_df['f1_score'].mean():.3%}\")"
      ],
      "metadata": {
        "colab": {
          "base_uri": "https://localhost:8080/"
        },
        "id": "QV5jwlKQvkHV",
        "outputId": "0272ce0f-ac95-43d5-a768-506cfcfa08ac",
        "collapsed": true
      },
      "execution_count": 19,
      "outputs": [
        {
          "output_type": "stream",
          "name": "stdout",
          "text": [
            " PART a: Multiple Validation Splits\n",
            "==================================================\n",
            "\n",
            " Split 1 (Random State = 42)\n",
            "------------------------------\n",
            "Error Rate: 2.867%\n",
            "Accuracy: 97.133%\n",
            "Precision: 63.462%\n",
            "Recall: 33.000%\n",
            "F1-Score: 43.421%\n",
            "Confusion Matrix:\n",
            "[[2881   19]\n",
            " [  67   33]]\n",
            "\n",
            " Split 2 (Random State = 123)\n",
            "------------------------------\n",
            "Error Rate: 2.467%\n",
            "Accuracy: 97.533%\n",
            "Precision: 80.952%\n",
            "Recall: 34.000%\n",
            "F1-Score: 47.887%\n",
            "Confusion Matrix:\n",
            "[[2892    8]\n",
            " [  66   34]]\n",
            "\n",
            " Split 3 (Random State = 789)\n",
            "------------------------------\n",
            "Error Rate: 2.833%\n",
            "Accuracy: 97.167%\n",
            "Precision: 70.270%\n",
            "Recall: 26.000%\n",
            "F1-Score: 37.956%\n",
            "Confusion Matrix:\n",
            "[[2889   11]\n",
            " [  74   26]]\n",
            "\n",
            "==================================================\n",
            "📊 SUMMARY OF ALL SPLITS\n",
            "==================================================\n",
            "   split  random_state  error_rate  accuracy  precision  recall  f1_score  tp  \\\n",
            "0      1            42      0.0287    0.9713     0.6346    0.33    0.4342  33   \n",
            "1      2           123      0.0247    0.9753     0.8095    0.34    0.4789  34   \n",
            "2      3           789      0.0283    0.9717     0.7027    0.26    0.3796  26   \n",
            "\n",
            "   fp  fn    tn  \n",
            "0  19  67  2881  \n",
            "1   8  66  2892  \n",
            "2  11  74  2889  \n",
            "\n",
            "📈 AVERAGE PERFORMANCE ACROSS ALL SPLITS:\n",
            "Average Error Rate: 2.722%\n",
            "Average Accuracy: 97.278%\n",
            "Average Precision: 71.561%\n",
            "Average Recall: 31.000%\n",
            "Average F1-Score: 43.088%\n"
          ]
        }
      ]
    },
    {
      "cell_type": "markdown",
      "source": [
        "Now consider a logistic regression model that predicts the prob\n",
        "ability of default using income, balance, and a dummy variable\n",
        " for student. Estimate the test error for this model using the val\n",
        "idation set approach. Comment on whether or not including a\n",
        " dummyvariable for student leads to a reduction in the test error\n",
        " rate."
      ],
      "metadata": {
        "id": "c1gU_ChnR0kj"
      }
    },
    {
      "cell_type": "code",
      "source": [
        "#Create dummy variable for student\n",
        "default['student_dummy'] = default['student'].map({'No':0, 'Yes':1})\n",
        "print(default['student_dummy'].value_counts())"
      ],
      "metadata": {
        "colab": {
          "base_uri": "https://localhost:8080/"
        },
        "id": "2_FjDnYMR3KC",
        "outputId": "ce41517a-a51c-4a81-910f-72bd3a8c9e27"
      },
      "execution_count": 21,
      "outputs": [
        {
          "output_type": "stream",
          "name": "stdout",
          "text": [
            "student_dummy\n",
            "0    7056\n",
            "1    2944\n",
            "Name: count, dtype: int64\n"
          ]
        }
      ]
    },
    {
      "cell_type": "code",
      "source": [
        "#prepare features (including student)\n",
        "X_with_student = default[['income', 'balance', 'student_dummy']]\n",
        "y = default['default']\n",
        "\n",
        "print(f\"\\nNew features matrix shape:'{X_with_student.shape}\")\n",
        "print('"
      ],
      "metadata": {
        "colab": {
          "base_uri": "https://localhost:8080/"
        },
        "id": "jtuixNhpR31q",
        "outputId": "7544dba2-9d5f-4cf6-9d99-932874f2c5c8"
      },
      "execution_count": 24,
      "outputs": [
        {
          "output_type": "stream",
          "name": "stdout",
          "text": [
            "\n",
            "New features matrix shape:'(10000, 3)\n",
            "Features: income, balance, student_dummy\n"
          ]
        }
      ]
    },
    {
      "cell_type": "code",
      "source": [
        "#Split data\n",
        "X_train, X_val, y_train, y_val = train_test_split(\n",
        "    X_with_student, y, test_size=0.3, random_state=42, stratify=y\n",
        ")"
      ],
      "metadata": {
        "id": "ULeoHIVqUbBw"
      },
      "execution_count": 25,
      "outputs": []
    },
    {
      "cell_type": "code",
      "source": [
        "# Fit model with student variable\n",
        "X_train_sm = sm.add_constant(X_train)\n",
        "model_with_student = sm.Logit(y_train, X_train_sm).fit()\n",
        "\n",
        "print('\\nModel with Student Variable - Summary:')\n",
        "print(model_with_student.summary())"
      ],
      "metadata": {
        "colab": {
          "base_uri": "https://localhost:8080/"
        },
        "id": "TVwrR_ShRz10",
        "outputId": "9a77160b-a55e-4562-a0c3-e1309367dabd"
      },
      "execution_count": 26,
      "outputs": [
        {
          "output_type": "stream",
          "name": "stdout",
          "text": [
            "Optimization terminated successfully.\n",
            "         Current function value: 0.078110\n",
            "         Iterations 10\n",
            "\n",
            "Model with Student Variable - Summary:\n",
            "                           Logit Regression Results                           \n",
            "==============================================================================\n",
            "Dep. Variable:                default   No. Observations:                 7000\n",
            "Model:                          Logit   Df Residuals:                     6996\n",
            "Method:                           MLE   Df Model:                            3\n",
            "Date:                Fri, 22 Aug 2025   Pseudo R-squ.:                  0.4649\n",
            "Time:                        06:06:43   Log-Likelihood:                -546.77\n",
            "converged:                       True   LL-Null:                       -1021.9\n",
            "Covariance Type:            nonrobust   LLR p-value:                1.119e-205\n",
            "=================================================================================\n",
            "                    coef    std err          z      P>|z|      [0.025      0.975]\n",
            "---------------------------------------------------------------------------------\n",
            "const           -10.9689      0.587    -18.682      0.000     -12.120      -9.818\n",
            "income         1.727e-06   9.59e-06      0.180      0.857   -1.71e-05    2.05e-05\n",
            "balance           0.0058      0.000     20.650      0.000       0.005       0.006\n",
            "student_dummy    -0.6187      0.278     -2.227      0.026      -1.163      -0.074\n",
            "=================================================================================\n",
            "\n",
            "Possibly complete quasi-separation: A fraction 0.15 of observations can be\n",
            "perfectly predicted. This might indicate that there is complete\n",
            "quasi-separation. In this case some parameters will not be identified.\n"
          ]
        }
      ]
    },
    {
      "cell_type": "code",
      "source": [
        "#Make predictions\n",
        "X_val_sm = sm.add_constant(X_val)\n",
        "val_predictions_student = (model_with_student.predict(X_val_sm) > 0.5).astype(int)\n"
      ],
      "metadata": {
        "id": "IoaCCVEkaHVq"
      },
      "execution_count": 28,
      "outputs": []
    },
    {
      "cell_type": "code",
      "source": [
        "#Calculate metrics for model with student\n",
        "error_rate_student = np.mean(val_predictions_student != y_val)\n",
        "accuracy_student = 1 - error_rate_student\n",
        "cm_student = confusion_matrix(y_val, val_predictions_student)\n",
        "tn_s, fp_s, fn_s, tp_s = cm_student.ravel()\n",
        "\n",
        "if tp_s + fp_s > 0:\n",
        "  precision_student = tp_s / (tp_s + fp_s)\n",
        "  recall_student = tp_s / (tp_s +fn_s)\n",
        "  f1_student = 2 * (precision_student * recall_student) / (precision_student + recall_student)\n",
        "else:\n",
        "  precision_student = recall_student = f1_student = 0\n"
      ],
      "metadata": {
        "id": "OVZvYLSsbfIC"
      },
      "execution_count": 31,
      "outputs": []
    },
    {
      "cell_type": "code",
      "source": [
        "#Compare with origional model (from first split)\n",
        "print('\\nComparison: with vs without student variable')\n",
        "print('='*60)\n",
        "print(f\"{'Metric':<15} {'Without Student':<15} {'With Sudent':<15} {'Diffrence':<15}\")\n",
        "print(f'{'-'*15} {'-'*15} {'-'*15}')\n",
        "print(f'{'Error Rate':<15} {results[0]['error_rate']:.3%} {error_rate_student:.3%} {error_Rate_student - results[0]['error_rate']:+3%}')\n",
        "print(f'{'Accuracy':<15} {results[0]['accuracy']:.3%} {accuracy_student:.3%} {accuracy_student - results[0]['accuracy']:+.3%}')\n",
        "print(f'{'Precision':<15} {results[0]['precision']:.3%}{precision_student:.3%}{precision_student - results[0]['precision']:+.3%}')\n",
        "print(f'{'Recall':<15} {results[0]['recall']:.3%}{recall_student:.3%}{recall_student - results[0]['recall']:+.3%}')\n",
        "print(f'{'F1_Score':<15} {results[0]['f1_score']:.3%} {f1_student:.3%} {f1_student - results[0]['f1_score']:+.3%}')\n"
      ],
      "metadata": {
        "colab": {
          "base_uri": "https://localhost:8080/"
        },
        "id": "6JPqzFuqcs3a",
        "outputId": "c69dfd7e-8b8e-49b3-b6ec-08da5bcc4182"
      },
      "execution_count": 32,
      "outputs": [
        {
          "output_type": "stream",
          "name": "stdout",
          "text": [
            "\n",
            "Comparison: with vs without student variable\n",
            "============================================================\n",
            "Metric          Without Student With Sudent     Diffrence      \n",
            "--------------- --------------- ---------------\n",
            "Error Rate      2.867% 2.833% -0.033333%\n",
            "Accuracy        97.133% 97.167% +0.033%\n",
            "Precision       63.462%64.706%+1.244%\n",
            "Recall          33.000%33.000%+0.000%\n",
            "F1_Score        43.421% 43.709% +0.288%\n"
          ]
        }
      ]
    },
    {
      "cell_type": "code",
      "source": [
        "#check if student coefficient is statistically significant\n",
        "student_pvalue = model_with_student.pvalues['student_dummy']\n",
        "print(f\"\\nStudent Variable p-value:' {student_pvalue:.4f}\")\n",
        "if student_pvalue < 0.05:\n",
        "  print('Student Variable is statistically significant (p < 0.05)')\n",
        "else:\n",
        "  print('Student Variable is NOT statistically significant (p > 0.05)')\n"
      ],
      "metadata": {
        "colab": {
          "base_uri": "https://localhost:8080/"
        },
        "id": "5xLnRV9aj-TS",
        "outputId": "a444efc4-28f5-4e2b-b01b-61c062e34506"
      },
      "execution_count": 35,
      "outputs": [
        {
          "output_type": "stream",
          "name": "stdout",
          "text": [
            "\n",
            "Student Variable p-value:' 0.0259\n",
            "Student Variable is statistically significant (p < 0.05)\n"
          ]
        }
      ]
    },
    {
      "cell_type": "code",
      "source": [
        "#Interpretation\n",
        "if error_rate_student < results[0]['error_rate']:\n",
        "  print('\\nCONCLUSION: Including student variable REDUCES test error rate')\n",
        "else:\n",
        "  print('\\nCONCLUSION: Including student variable DOES NOT reduce test error rate')"
      ],
      "metadata": {
        "colab": {
          "base_uri": "https://localhost:8080/"
        },
        "id": "tOV0A4Yml3Wn",
        "outputId": "c35365d7-f29b-4ed6-aa5b-af121da9d954"
      },
      "execution_count": 36,
      "outputs": [
        {
          "output_type": "stream",
          "name": "stdout",
          "text": [
            "\n",
            "CONCLUSION: Including student variable REDUCES test error rate\n"
          ]
        }
      ]
    },
    {
      "cell_type": "markdown",
      "source": [
        "What is Bootstrap?\n",
        "\n",
        "A powerful resampling technique to estimate uncertainty (like standard errors)\n",
        "Works by:\n",
        "      1) repeatedly sampling from your data with replacement,\n",
        "      2) fitting your model to each sample,\n",
        "      3) analyzing the distribution of results\n",
        "Why Use Bootstrap?\n",
        "\n",
        "Doesn't rely on mathematical formulas/assumptions\n",
        "\n",
        "Works for any model, even complex ones\n",
        "\n",
        "Provides robust estimates of uncertainty\n",
        "\n",
        "The Two Approaches We'll Compare:\n",
        "\n",
        "Traditional (sm.GLM()): Uses mathematical formulas to compute standard errors\n",
        "\n",
        "Bootstrap: Uses resampling to empirically estimate standard errors"
      ],
      "metadata": {
        "id": "9OY9T2BnxZ3x"
      }
    },
    {
      "cell_type": "code",
      "source": [
        "#6: Bootstrap Standard Error\n",
        "#Set random seed for reproducibility\n",
        "np.random.seed(42)\n",
        "\n",
        "#Prepare data for traditional standard error using GLM\n",
        "X = default[['income', 'balance']]\n",
        "X = sm.add_constant(X) #adding intercept\n",
        "y = default['default']\n",
        "\n",
        "#Fit logistic regression using GLM\n",
        "glm_model = sm.GLM(y, X, family=sm.families.Binomial())\n",
        "glm_results = glm_model.fit()\n",
        "\n",
        "print(glm_results.summary())\n",
        ""
      ],
      "metadata": {
        "colab": {
          "base_uri": "https://localhost:8080/"
        },
        "id": "WDjFl3yiyL8I",
        "outputId": "f06c484e-8ca5-4e76-aa81-25ce910d604f"
      },
      "execution_count": 38,
      "outputs": [
        {
          "output_type": "stream",
          "name": "stdout",
          "text": [
            "                 Generalized Linear Model Regression Results                  \n",
            "==============================================================================\n",
            "Dep. Variable:                default   No. Observations:                10000\n",
            "Model:                            GLM   Df Residuals:                     9997\n",
            "Model Family:                Binomial   Df Model:                            2\n",
            "Link Function:                  Logit   Scale:                          1.0000\n",
            "Method:                          IRLS   Log-Likelihood:                -789.48\n",
            "Date:                Fri, 22 Aug 2025   Deviance:                       1579.0\n",
            "Time:                        08:23:38   Pearson chi2:                 6.95e+03\n",
            "No. Iterations:                     9   Pseudo R-squ. (CS):             0.1256\n",
            "Covariance Type:            nonrobust                                         \n",
            "==============================================================================\n",
            "                 coef    std err          z      P>|z|      [0.025      0.975]\n",
            "------------------------------------------------------------------------------\n",
            "const        -11.5405      0.435    -26.544      0.000     -12.393     -10.688\n",
            "income      2.081e-05   4.99e-06      4.174      0.000     1.1e-05    3.06e-05\n",
            "balance        0.0056      0.000     24.835      0.000       0.005       0.006\n",
            "==============================================================================\n"
          ]
        }
      ]
    },
    {
      "cell_type": "code",
      "source": [],
      "metadata": {
        "id": "qizBwyHN60-y"
      },
      "execution_count": null,
      "outputs": []
    },
    {
      "cell_type": "code",
      "source": [
        "# Extract standard errors for income and balance\n",
        "traditional_se_income = glm_results.bse['income']\n",
        "traditional_se_balance = glm_results.bse['balance']\n",
        "\n",
        "print(f'\\n Traditional Standard Error:')\n",
        "print(f'Income: {traditional_se_income:.6f}')\n",
        "print(f'Balance: {traditional_se_balance:.6f}')"
      ],
      "metadata": {
        "colab": {
          "base_uri": "https://localhost:8080/"
        },
        "id": "S7707dVhxqyr",
        "outputId": "5938081e-0f63-4e43-c98b-d0d1f5c6d623"
      },
      "execution_count": 39,
      "outputs": [
        {
          "output_type": "stream",
          "name": "stdout",
          "text": [
            "\n",
            " Traditional Standard Error:\n",
            "Income: 0.000005\n",
            "Balance: 0.000227\n"
          ]
        }
      ]
    },
    {
      "cell_type": "markdown",
      "source": [
        "The boot_fn() function is the heart of the bootstrap process.\n",
        "what it needs to do:\n",
        "\n",
        "1. Take two inputs:\n",
        "      The full dataset\n",
        "\n",
        "      A set of indices telling it which rows to sample\n",
        "\n",
        "2. Sample with replacement: Create a new dataset by randomly selecting rows (some may be repeated!)\n",
        "\n",
        "3. Fit the model: Run logistic regression on this bootstrap sample\n",
        "\n",
        "4. Return coefficients: Extract and return just the income and balance coefficients\n",
        "\n"
      ],
      "metadata": {
        "id": "5vcIZVKe624O"
      }
    },
    {
      "cell_type": "code",
      "source": [
        "from typing import BinaryIO\n",
        "# Create a boot_fn function that take two parameters: Data - pandas DataFrame (the full default data)\n",
        "#and indices - array like indices for bootstrap sampling\n",
        "def boot_fn(data, indices):\n",
        "\n",
        "  #create bootstrap sample by sampling rows with replacement\n",
        "  bootstrap_sample = default.iloc[indices].copy()\n",
        "\n",
        "  #Prepare features and target for this specific sample\n",
        "  X_boot = bootstrap_sample[['income', 'balance']]\n",
        "  X_boot = sm.add_constant(X_boot)\n",
        "  y_boot = bootstrap_sample['default']\n",
        "\n",
        "  # Fit logistic regression model\n",
        "  try:\n",
        "    #use GLM for logistic regression\n",
        "    model = sm.GLM(y_boot, X_boot, family=sm.families.Binomial())\n",
        "    results = model.fit()\n",
        "\n",
        "    # Extract and return the coefficients  we need\n",
        "    income_coef = results.params['income']\n",
        "    balance_coef = results.params['balance']\n",
        "\n",
        "  #return only [income_coef, balance_coef] (not intercept)\n",
        "    return np.array([income_coef, balance_coef])\n",
        "  except Exception as e:\n",
        "    #Return NaN if model fails to fit\n",
        "    print(f'Warning: Model fitting failed for this sample. Error:{e}')\n",
        "    return np.array([np.nan, np.nan])\n"
      ],
      "metadata": {
        "id": "VrNfKFRn7Rpf"
      },
      "execution_count": 43,
      "outputs": []
    },
    {
      "cell_type": "code",
      "source": [
        "from random import choice\n",
        "# C. Set parameters for bootstrap\n",
        "n_bootstrap = 1000 #number of bootstarp sample (typically 1000 -10,000)\n",
        "n = len(default) #Number of observation in the original data\n",
        "\n",
        "print(f'Running {n_bootstrap} bootstrap samples with {n} observation each')\n",
        "\n",
        "#Initialize arrays to store bootstrap results\n",
        "bootstrap_income_coefs = np.zeros(n_bootstrap)\n",
        "bootstrap_balance_coefs = np.zeros(n_bootstrap)\n",
        "\n",
        "# Run bootstrap\n",
        "for i in range(n_bootstrap):\n",
        "  if (i+1) % 100 == 0: #updating the progress every 100 samples\n",
        "    print(f'Processing sample {i+1}/{n_bootstrap}...')\n",
        "\n",
        "  #Generating random indices for bootstrap sampling (with replacement)\n",
        "  bootstrap_indices = np.random.choice(n, size=n, replace=True)\n",
        "\n",
        "  # Get coefficients from this bootstrap sample\n",
        "  coefs = boot_fn(default, bootstrap_indices)\n",
        "  #Store the results\n",
        "  bootstrap_income_coefs[i] = coefs[0]\n",
        "  bootstrap_balance_coefs[i] = coefs[1]\n",
        "\n",
        "print('Bootstrap completed!')"
      ],
      "metadata": {
        "colab": {
          "base_uri": "https://localhost:8080/"
        },
        "id": "nrFQOAGVAdmV",
        "outputId": "8202df39-a7ca-465e-b6fd-525b600797ad"
      },
      "execution_count": 48,
      "outputs": [
        {
          "output_type": "stream",
          "name": "stdout",
          "text": [
            "Running 1000 bootstrap samples with 10000 observation each\n",
            "Processing sample 100/1000...\n",
            "Processing sample 200/1000...\n",
            "Processing sample 300/1000...\n",
            "Processing sample 400/1000...\n",
            "Processing sample 500/1000...\n",
            "Processing sample 600/1000...\n",
            "Processing sample 700/1000...\n",
            "Processing sample 800/1000...\n",
            "Processing sample 900/1000...\n",
            "Processing sample 1000/1000...\n",
            "Bootstrap completed!\n"
          ]
        }
      ]
    },
    {
      "cell_type": "code",
      "source": [
        "# Calculate number of successful samples (non-NaN values)\n",
        "successful_samples_income = np.sum(~np.isnan(bootstrap_income_coefs))\n",
        "successful_samples_balance = np.sum(~np.isnan(bootstrap_balance_coefs))\n",
        "\n",
        "print(f\"Number of successful samples (income): {successful_samples_income}/{n_bootstrap}\")\n",
        "print(f\"Number of successful samples (balance): {successful_samples_balance}/{n_bootstrap}\")\n"
      ],
      "metadata": {
        "colab": {
          "base_uri": "https://localhost:8080/"
        },
        "id": "ZutqSpI1Fl72",
        "outputId": "e267cff9-77b2-48bb-a6ea-bed85c5a925e"
      },
      "execution_count": 51,
      "outputs": [
        {
          "output_type": "stream",
          "name": "stdout",
          "text": [
            "Number of successful samples (income): 1000/1000\n",
            "Number of successful samples (balance): 1000/1000\n"
          ]
        }
      ]
    },
    {
      "cell_type": "code",
      "source": [
        "#Remove NaN values for proper calculation\n",
        "valid_income_coefs = bootstrap_income_coefs[~np.isnan(bootstrap_income_coefs)]\n",
        "valid_balance_coefs = bootstrap_balance_coefs[~np.isnan(bootstrap_balance_coefs)]\n",
        "\n",
        "print(f'Income coefficient range: [{valid_income_coefs.min():.8f}. {valid_income_coefs.max():.8f}]')\n",
        "print(f'Balance coefficient range: [{valid_balance_coefs.min():.8f}, {valid_balance_coefs.max():.8f}]')"
      ],
      "metadata": {
        "colab": {
          "base_uri": "https://localhost:8080/"
        },
        "id": "2HYu1QMBKn7H",
        "outputId": "09863c26-b3e1-4de7-dfd6-4c6cb6387c6f"
      },
      "execution_count": 52,
      "outputs": [
        {
          "output_type": "stream",
          "name": "stdout",
          "text": [
            "Income coefficient range: [0.00000323. 0.00003811]\n",
            "Balance coefficient range: [0.00486480, 0.00633398]\n"
          ]
        }
      ]
    },
    {
      "cell_type": "code",
      "source": [
        "\n",
        "# Calculate bootstrap standard errors (standard deviation of bootstrap estimates)\n",
        "bootstrap_se_income = np.std(bootstrap_income_coefs, ddof=1) #ddof=1 for sample standard deviation\n",
        "bootstrap_se_balance = np.std(bootstrap_balance_coefs, ddof=1)\n",
        "\n",
        "print(f'\\nBootstrap Results:')\n",
        "print(f'Income Coefficient Rnage: [{bootstrap_income_coefs.min():.8f}, {bootstrap_income_coefs.max():.8f}]')\n",
        "print(f'Balance Coefficient Rnage: [{bootstrap_balance_coefs.min():.8f}, {bootstrap_balance_coefs.max():.8f}]')\n",
        "\n",
        "print(f'\\nBootstrap Standard Error:')\n",
        "print(f'Income: {bootstrap_se_income:.6f}')\n",
        "print(f'Balance: {bootstrap_se_balance:.6f}')\n"
      ],
      "metadata": {
        "colab": {
          "base_uri": "https://localhost:8080/"
        },
        "id": "78MmHu-BKkPh",
        "outputId": "4a99cd89-0c75-4c40-ff01-db1fa4ebcdf9"
      },
      "execution_count": 55,
      "outputs": [
        {
          "output_type": "stream",
          "name": "stdout",
          "text": [
            "\n",
            "Bootstrap Results:\n",
            "Income Coefficient Rnage: [0.00000323, 0.00003811]\n",
            "Balance Coefficient Rnage: [0.00486480, 0.00633398]\n",
            "\n",
            "Bootstrap Standard Error:\n",
            "Income: 0.000005\n",
            "Balance: 0.000232\n"
          ]
        }
      ]
    },
    {
      "cell_type": "code",
      "source": [
        "# Create subplots\n",
        "fig, (ax1, ax2) = plt.subplots(1, 2, figsize=(12, 5))\n",
        "\n",
        "# Plot income coefficient distribution (only valid values)\n",
        "ax1.hist(valid_income_coefs, bins=30, alpha=0.7, color='skyblue', edgecolor='black')\n",
        "ax1.axvline(valid_income_coefs.mean(), color='red', linestyle='--', label=f'Mean: {valid_income_coefs.mean():.8f}')\n",
        "ax1.axvline(glm_results.params['income'], color='green', linestyle='--', label=f'Original: {glm_results.params[\"income\"]:.8f}')\n",
        "ax1.set_xlabel('Income Coefficient')\n",
        "ax1.set_ylabel('Frequency')\n",
        "ax1.set_title('Bootstrap Distribution: Income Coefficient')\n",
        "ax1.legend()\n",
        "ax1.grid(True, alpha=0.3)\n",
        "\n",
        "# Plot balance coefficient distribution (only valid values)\n",
        "ax2.hist(valid_balance_coefs, bins=30, alpha=0.7, color='lightcoral', edgecolor='black')\n",
        "ax2.axvline(valid_balance_coefs.mean(), color='red', linestyle='--', label=f'Mean: {valid_balance_coefs.mean():.8f}')\n",
        "ax2.axvline(glm_results.params['balance'], color='green', linestyle='--', label=f'Original: {glm_results.params[\"balance\"]:.8f}')\n",
        "ax2.set_xlabel('Balance Coefficient')\n",
        "ax2.set_ylabel('Frequency')\n",
        "ax2.set_title('Bootstrap Distribution: Balance Coefficient')\n",
        "ax2.legend()\n",
        "ax2.grid(True, alpha=0.3)\n",
        "\n",
        "plt.tight_layout()\n",
        "plt.show()\n",
        "\n",
        "# Print summary statistics\n",
        "print(\"\\n📋 Bootstrap Summary Statistics:\")\n",
        "print(f\"{'':<20} {'Income Coef':<15} {'Balance Coef':<15}\")\n",
        "print(f\"{'-'*20} {'-'*15} {'-'*15}\")\n",
        "print(f\"{'Mean':<20} {valid_income_coefs.mean():.8f} {valid_balance_coefs.mean():.8f}\")\n",
        "print(f\"{'Std Error (SE)':<20} {bootstrap_se_income:.8f} {bootstrap_se_balance:.8f}\")\n",
        "print(f\"{'95% CI Lower':<20} {np.percentile(valid_income_coefs, 2.5):.8f} {np.percentile(valid_balance_coefs, 2.5):.8f}\")\n",
        "print(f\"{'95% CI Upper':<20} {np.percentile(valid_income_coefs, 97.5):.8f} {np.percentile(valid_balance_coefs, 97.5):.8f}\")"
      ],
      "metadata": {
        "colab": {
          "base_uri": "https://localhost:8080/",
          "height": 633
        },
        "id": "I8PCU1D3MW15",
        "outputId": "2542737f-fcf4-4d49-ecb3-b31519766a79"
      },
      "execution_count": 56,
      "outputs": [
        {
          "output_type": "display_data",
          "data": {
            "text/plain": [
              "<Figure size 1200x500 with 2 Axes>"
            ],
            "image/png": "[encoded data removed]"
          },
          "metadata": {}
        },
        {
          "output_type": "stream",
          "name": "stdout",
          "text": [
            "\n",
            "📋 Bootstrap Summary Statistics:\n",
            "                     Income Coef     Balance Coef   \n",
            "-------------------- --------------- ---------------\n",
            "Mean                 0.00002084 0.00565361\n",
            "Std Error (SE)       0.00000497 0.00023198\n",
            "95% CI Lower         0.00001104 0.00520840\n",
            "95% CI Upper         0.00003070 0.00610872\n"
          ]
        }
      ]
    }
  ]
}
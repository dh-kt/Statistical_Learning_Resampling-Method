{
  "nbformat": 4,
  "nbformat_minor": 0,
  "metadata": {
    "colab": {
      "provenance": [],
      "authorship_tag": "ABX9TyOkYxHM/rlv/Gn3jhNN6UWY",
      "include_colab_link": true
    },
    "kernelspec": {
      "name": "python3",
      "display_name": "Python 3"
    },
    "language_info": {
      "name": "python"
    }
  },
  "cells": [
    {
      "cell_type": "markdown",
      "metadata": {
        "id": "view-in-github",
        "colab_type": "text"
      },
      "source": [
        "<a href=\"https://colab.research.google.com/github/dh-kt/Statistical_Learning_Resampling-Method/blob/main/notebooks/validation_set_approach.ipynb\" target=\"_parent\"><img src=\"https://colab.research.google.com/assets/colab-badge.svg\" alt=\"Open In Colab\"/></a>"
      ]
    },
    {
      "cell_type": "code",
      "execution_count": 2,
      "metadata": {
        "id": "nE8vg5tszy7U"
      },
      "outputs": [],
      "source": [
        "# Import necessary libraries\n",
        "import numpy as np\n",
        "import pandas as pd\n",
        "import matplotlib.pyplot as plt\n",
        "import seaborn as sns\n",
        "\n",
        "# For statistical modeling\n",
        "import statsmodels.api as sm\n",
        "import statsmodels.formula.api as smf\n",
        "\n",
        "# For machine learning (we'll use this for train/test split)\n",
        "from sklearn.model_selection import train_test_split\n",
        "from sklearn.metrics import confusion_matrix, classification_report\n"
      ]
    },
    {
      "cell_type": "code",
      "source": [
        "# Set random seed for reproducibility\n",
        "np.random.seed(42)\n",
        "print(\" All libraries imported successfully!\")"
      ],
      "metadata": {
        "colab": {
          "base_uri": "https://localhost:8080/"
        },
        "id": "UVTWfYJf0Vq1",
        "outputId": "606915a1-6e41-4e69-f7db-d90069cf2565"
      },
      "execution_count": 3,
      "outputs": [
        {
          "output_type": "stream",
          "name": "stdout",
          "text": [
            " All libraries imported successfully!\n"
          ]
        }
      ]
    },
    {
      "cell_type": "code",
      "source": [
        "#Preparing data to load\n",
        "from google.colab import files\n",
        "uploaded = files.upload()"
      ],
      "metadata": {
        "colab": {
          "base_uri": "https://localhost:8080/",
          "height": 74
        },
        "id": "nghh_dHh0o0s",
        "outputId": "9ca06a8f-5124-4e54-d29d-16e967aa5c79"
      },
      "execution_count": 4,
      "outputs": [
        {
          "output_type": "display_data",
          "data": {
            "text/plain": [
              "<IPython.core.display.HTML object>"
            ],
            "text/html": [
              "\n",
              "     <input type=\"file\" id=\"files-1ce8e1a1-a4a4-42ff-8684-a55c1623ddce\" name=\"files[]\" multiple disabled\n",
              "        style=\"border:none\" />\n",
              "     <output id=\"result-1ce8e1a1-a4a4-42ff-8684-a55c1623ddce\">\n",
              "      Upload widget is only available when the cell has been executed in the\n",
              "      current browser session. Please rerun this cell to enable.\n",
              "      </output>\n",
              "      <script>// Copyright 2017 Google LLC\n",
              "//\n",
              "// Licensed under the Apache License, Version 2.0 (the \"License\");\n",
              "// you may not use this file except in compliance with the License.\n",
              "// You may obtain a copy of the License at\n",
              "//\n",
              "//      http://www.apache.org/licenses/LICENSE-2.0\n",
              "//\n",
              "// Unless required by applicable law or agreed to in writing, software\n",
              "// distributed under the License is distributed on an \"AS IS\" BASIS,\n",
              "// WITHOUT WARRANTIES OR CONDITIONS OF ANY KIND, either express or implied.\n",
              "// See the License for the specific language governing permissions and\n",
              "// limitations under the License.\n",
              "\n",
              "/**\n",
              " * @fileoverview Helpers for google.colab Python module.\n",
              " */\n",
              "(function(scope) {\n",
              "function span(text, styleAttributes = {}) {\n",
              "  const element = document.createElement('span');\n",
              "  element.textContent = text;\n",
              "  for (const key of Object.keys(styleAttributes)) {\n",
              "    element.style[key] = styleAttributes[key];\n",
              "  }\n",
              "  return element;\n",
              "}\n",
              "\n",
              "// Max number of bytes which will be uploaded at a time.\n",
              "const MAX_PAYLOAD_SIZE = 100 * 1024;\n",
              "\n",
              "function _uploadFiles(inputId, outputId) {\n",
              "  const steps = uploadFilesStep(inputId, outputId);\n",
              "  const outputElement = document.getElementById(outputId);\n",
              "  // Cache steps on the outputElement to make it available for the next call\n",
              "  // to uploadFilesContinue from Python.\n",
              "  outputElement.steps = steps;\n",
              "\n",
              "  return _uploadFilesContinue(outputId);\n",
              "}\n",
              "\n",
              "// This is roughly an async generator (not supported in the browser yet),\n",
              "// where there are multiple asynchronous steps and the Python side is going\n",
              "// to poll for completion of each step.\n",
              "// This uses a Promise to block the python side on completion of each step,\n",
              "// then passes the result of the previous step as the input to the next step.\n",
              "function _uploadFilesContinue(outputId) {\n",
              "  const outputElement = document.getElementById(outputId);\n",
              "  const steps = outputElement.steps;\n",
              "\n",
              "  const next = steps.next(outputElement.lastPromiseValue);\n",
              "  return Promise.resolve(next.value.promise).then((value) => {\n",
              "    // Cache the last promise value to make it available to the next\n",
              "    // step of the generator.\n",
              "    outputElement.lastPromiseValue = value;\n",
              "    return next.value.response;\n",
              "  });\n",
              "}\n",
              "\n",
              "/**\n",
              " * Generator function which is called between each async step of the upload\n",
              " * process.\n",
              " * @param {string} inputId Element ID of the input file picker element.\n",
              " * @param {string} outputId Element ID of the output display.\n",
              " * @return {!Iterable<!Object>} Iterable of next steps.\n",
              " */\n",
              "function* uploadFilesStep(inputId, outputId) {\n",
              "  const inputElement = document.getElementById(inputId);\n",
              "  inputElement.disabled = false;\n",
              "\n",
              "  const outputElement = document.getElementById(outputId);\n",
              "  outputElement.innerHTML = '';\n",
              "\n",
              "  const pickedPromise = new Promise((resolve) => {\n",
              "    inputElement.addEventListener('change', (e) => {\n",
              "      resolve(e.target.files);\n",
              "    });\n",
              "  });\n",
              "\n",
              "  const cancel = document.createElement('button');\n",
              "  inputElement.parentElement.appendChild(cancel);\n",
              "  cancel.textContent = 'Cancel upload';\n",
              "  const cancelPromise = new Promise((resolve) => {\n",
              "    cancel.onclick = () => {\n",
              "      resolve(null);\n",
              "    };\n",
              "  });\n",
              "\n",
              "  // Wait for the user to pick the files.\n",
              "  const files = yield {\n",
              "    promise: Promise.race([pickedPromise, cancelPromise]),\n",
              "    response: {\n",
              "      action: 'starting',\n",
              "    }\n",
              "  };\n",
              "\n",
              "  cancel.remove();\n",
              "\n",
              "  // Disable the input element since further picks are not allowed.\n",
              "  inputElement.disabled = true;\n",
              "\n",
              "  if (!files) {\n",
              "    return {\n",
              "      response: {\n",
              "        action: 'complete',\n",
              "      }\n",
              "    };\n",
              "  }\n",
              "\n",
              "  for (const file of files) {\n",
              "    const li = document.createElement('li');\n",
              "    li.append(span(file.name, {fontWeight: 'bold'}));\n",
              "    li.append(span(\n",
              "        `(${file.type || 'n/a'}) - ${file.size} bytes, ` +\n",
              "        `last modified: ${\n",
              "            file.lastModifiedDate ? file.lastModifiedDate.toLocaleDateString() :\n",
              "                                    'n/a'} - `));\n",
              "    const percent = span('0% done');\n",
              "    li.appendChild(percent);\n",
              "\n",
              "    outputElement.appendChild(li);\n",
              "\n",
              "    const fileDataPromise = new Promise((resolve) => {\n",
              "      const reader = new FileReader();\n",
              "      reader.onload = (e) => {\n",
              "        resolve(e.target.result);\n",
              "      };\n",
              "      reader.readAsArrayBuffer(file);\n",
              "    });\n",
              "    // Wait for the data to be ready.\n",
              "    let fileData = yield {\n",
              "      promise: fileDataPromise,\n",
              "      response: {\n",
              "        action: 'continue',\n",
              "      }\n",
              "    };\n",
              "\n",
              "    // Use a chunked sending to avoid message size limits. See b/62115660.\n",
              "    let position = 0;\n",
              "    do {\n",
              "      const length = Math.min(fileData.byteLength - position, MAX_PAYLOAD_SIZE);\n",
              "      const chunk = new Uint8Array(fileData, position, length);\n",
              "      position += length;\n",
              "\n",
              "      const base64 = btoa(String.fromCharCode.apply(null, chunk));\n",
              "      yield {\n",
              "        response: {\n",
              "          action: 'append',\n",
              "          file: file.name,\n",
              "          data: base64,\n",
              "        },\n",
              "      };\n",
              "\n",
              "      let percentDone = fileData.byteLength === 0 ?\n",
              "          100 :\n",
              "          Math.round((position / fileData.byteLength) * 100);\n",
              "      percent.textContent = `${percentDone}% done`;\n",
              "\n",
              "    } while (position < fileData.byteLength);\n",
              "  }\n",
              "\n",
              "  // All done.\n",
              "  yield {\n",
              "    response: {\n",
              "      action: 'complete',\n",
              "    }\n",
              "  };\n",
              "}\n",
              "\n",
              "scope.google = scope.google || {};\n",
              "scope.google.colab = scope.google.colab || {};\n",
              "scope.google.colab._files = {\n",
              "  _uploadFiles,\n",
              "  _uploadFilesContinue,\n",
              "};\n",
              "})(self);\n",
              "</script> "
            ]
          },
          "metadata": {}
        },
        {
          "output_type": "stream",
          "name": "stdout",
          "text": [
            "Saving Default.csv to Default.csv\n"
          ]
        }
      ]
    },
    {
      "cell_type": "code",
      "source": [
        "#Load data\n",
        "default = pd.read_csv('Default.csv')\n",
        "\n",
        "#Inspect data\n",
        "print('Data Info:')\n",
        "print(default.head())\n",
        "print('\\n')"
      ],
      "metadata": {
        "colab": {
          "base_uri": "https://localhost:8080/"
        },
        "id": "q8F9EzXl1JL8",
        "outputId": "3c4eef95-e72c-414d-95ea-700e6c797abe"
      },
      "execution_count": 5,
      "outputs": [
        {
          "output_type": "stream",
          "name": "stdout",
          "text": [
            "Data Info:\n",
            "  default student      balance        income\n",
            "0      No      No   729.526495  44361.625074\n",
            "1      No     Yes   817.180407  12106.134700\n",
            "2      No      No  1073.549164  31767.138947\n",
            "3      No      No   529.250605  35704.493935\n",
            "4      No      No   785.655883  38463.495879\n",
            "\n",
            "\n"
          ]
        }
      ]
    },
    {
      "cell_type": "code",
      "source": [
        "#check for missing values\n",
        "print('Mising Values:')\n",
        "print(default.isnull().sum())"
      ],
      "metadata": {
        "colab": {
          "base_uri": "https://localhost:8080/"
        },
        "id": "NqUCIULs_O6u",
        "outputId": "c87fede0-ff99-4d05-8366-f4766969ed15"
      },
      "execution_count": 27,
      "outputs": [
        {
          "output_type": "stream",
          "name": "stdout",
          "text": [
            "Mising Values:\n",
            "default            0\n",
            "student            0\n",
            "balance            0\n",
            "income             0\n",
            "default_numeric    0\n",
            "dtype: int64\n"
          ]
        }
      ]
    },
    {
      "cell_type": "code",
      "source": [
        "# Convert 'default' from string to numeric (0 and 1)\n",
        "default['default'] = default['default'].map({'No':0, 'Yes':1})\n",
        "default['stuent'] = default['student'].map({'No':0, 'Yes':1})"
      ],
      "metadata": {
        "id": "C7FD36x-8mWh"
      },
      "execution_count": 38,
      "outputs": []
    },
    {
      "cell_type": "code",
      "source": [
        "defualt = default.drop(columns=['stuent_numeric', 'default_numeric'])"
      ],
      "metadata": {
        "id": "dSQ1_uKqBsmk"
      },
      "execution_count": 52,
      "outputs": []
    },
    {
      "cell_type": "code",
      "source": [
        "#Check the structure of the data\n",
        "print(\"Data Info:\")\n",
        "print(default.info())\n",
        "print(\"\\n\")"
      ],
      "metadata": {
        "colab": {
          "base_uri": "https://localhost:8080/"
        },
        "id": "GSd2muqPBF0T",
        "outputId": "7e7db0c2-cdf8-48d7-a903-3b136f4262f7"
      },
      "execution_count": 63,
      "outputs": [
        {
          "output_type": "stream",
          "name": "stdout",
          "text": [
            "Data Info:\n",
            "<class 'pandas.core.frame.DataFrame'>\n",
            "RangeIndex: 10000 entries, 0 to 9999\n",
            "Data columns (total 7 columns):\n",
            " #   Column           Non-Null Count  Dtype  \n",
            "---  ------           --------------  -----  \n",
            " 0   default          10000 non-null  int64  \n",
            " 1   student          10000 non-null  object \n",
            " 2   balance          10000 non-null  float64\n",
            " 3   income           10000 non-null  float64\n",
            " 4   default_numeric  10000 non-null  int64  \n",
            " 5   stuent_numeric   10000 non-null  int64  \n",
            " 6   stuent           10000 non-null  int64  \n",
            "dtypes: float64(2), int64(4), object(1)\n",
            "memory usage: 547.0+ KB\n",
            "None\n",
            "\n",
            "\n"
          ]
        }
      ]
    },
    {
      "cell_type": "code",
      "source": [
        "#Statistics Summary of the data\n",
        "print(\"\\n Summary Statistics:\")\n",
        "print(default.describe())"
      ],
      "metadata": {
        "colab": {
          "base_uri": "https://localhost:8080/"
        },
        "id": "K7bcov0B4t3x",
        "outputId": "9ca7fe93-f18c-41a7-9381-a41554d73f53"
      },
      "execution_count": 31,
      "outputs": [
        {
          "output_type": "stream",
          "name": "stdout",
          "text": [
            "\n",
            " Summary Statistics:\n",
            "            balance        income  default_numeric\n",
            "count  10000.000000  10000.000000     10000.000000\n",
            "mean     835.374886  33516.981876         0.033300\n",
            "std      483.714985  13336.639563         0.179428\n",
            "min        0.000000    771.967729         0.000000\n",
            "25%      481.731105  21340.462903         0.000000\n",
            "50%      823.636973  34552.644802         0.000000\n",
            "75%     1166.308386  43807.729272         0.000000\n",
            "max     2654.322576  73554.233495         1.000000\n"
          ]
        }
      ]
    },
    {
      "cell_type": "code",
      "source": [
        "# Let's also check if there are any other categorical columns that might need conversion\n",
        "print('\\n Other categorical columns:')\n",
        "categorical_cols = default.select_dtypes(include=['object']).columns\n",
        "print(categorical_cols)"
      ],
      "metadata": {
        "colab": {
          "base_uri": "https://localhost:8080/"
        },
        "id": "3F0FPZAN2F1k",
        "outputId": "ae970220-56cc-4642-cef5-17dae1423849"
      },
      "execution_count": 54,
      "outputs": [
        {
          "output_type": "stream",
          "name": "stdout",
          "text": [
            "\n",
            " Other categorical columns:\n",
            "Index(['student'], dtype='object')\n"
          ]
        }
      ]
    },
    {
      "cell_type": "code",
      "source": [
        "df = default.select_dtypes(include='number')"
      ],
      "metadata": {
        "id": "ie5sXgmHELP2"
      },
      "execution_count": 57,
      "outputs": []
    },
    {
      "cell_type": "code",
      "source": [
        "# Fit logistic regression model using income and balance to predict default\n",
        "logit_model = smf.logit(formula='default ~ income + balance', data=df)\n",
        "fitted_model = logit_model.fit()\n",
        "\n",
        "#Display the model summary\n",
        "print(fitted_model.summary())"
      ],
      "metadata": {
        "colab": {
          "base_uri": "https://localhost:8080/"
        },
        "id": "wPmjZWSp5hGQ",
        "outputId": "0a2a72bb-b9e6-4fc8-8bdc-c91491e92c62"
      },
      "execution_count": 59,
      "outputs": [
        {
          "output_type": "stream",
          "name": "stdout",
          "text": [
            "Optimization terminated successfully.\n",
            "         Current function value: 0.078948\n",
            "         Iterations 10\n",
            "                           Logit Regression Results                           \n",
            "==============================================================================\n",
            "Dep. Variable:                default   No. Observations:                10000\n",
            "Model:                          Logit   Df Residuals:                     9997\n",
            "Method:                           MLE   Df Model:                            2\n",
            "Date:                Thu, 21 Aug 2025   Pseudo R-squ.:                  0.4594\n",
            "Time:                        10:47:38   Log-Likelihood:                -789.48\n",
            "converged:                       True   LL-Null:                       -1460.3\n",
            "Covariance Type:            nonrobust   LLR p-value:                4.541e-292\n",
            "==============================================================================\n",
            "                 coef    std err          z      P>|z|      [0.025      0.975]\n",
            "------------------------------------------------------------------------------\n",
            "Intercept    -11.5405      0.435    -26.544      0.000     -12.393     -10.688\n",
            "income      2.081e-05   4.99e-06      4.174      0.000     1.1e-05    3.06e-05\n",
            "balance        0.0056      0.000     24.835      0.000       0.005       0.006\n",
            "==============================================================================\n",
            "\n",
            "Possibly complete quasi-separation: A fraction 0.14 of observations can be\n",
            "perfectly predicted. This might indicate that there is complete\n",
            "quasi-separation. In this case some parameters will not be identified.\n"
          ]
        }
      ]
    },
    {
      "cell_type": "code",
      "source": [
        "# Calculate odds ratios for practical interpretation\n",
        "odds_ratios = np.exp(fitted_model.params)\n",
        "print(\"\\n📊 Odds Ratios (more interpretable):\")\n",
        "print(f\"Income: 1 unit increase → {odds_ratios['income']:.6f}x odds of default\")\n",
        "print(f\"Balance: 1 unit increase → {odds_ratios['balance']:.6f}x odds of default\")\n",
        "print(f\"For every $1000 increase in balance: {np.exp(0.0056*1000):.2f}x odds of default\")"
      ],
      "metadata": {
        "colab": {
          "base_uri": "https://localhost:8080/"
        },
        "collapsed": true,
        "id": "4sSU4ps0UyA5",
        "outputId": "2d97caa7-c70b-476a-8a44-781e8c814dcd"
      },
      "execution_count": 66,
      "outputs": [
        {
          "output_type": "stream",
          "name": "stdout",
          "text": [
            "\n",
            "📊 Odds Ratios (more interpretable):\n",
            "Income: 1 unit increase → 1.000021x odds of default\n",
            "Balance: 1 unit increase → 1.005663x odds of default\n",
            "For every $1000 increase in balance: 270.43x odds of default\n"
          ]
        }
      ]
    },
    {
      "cell_type": "markdown",
      "source": [
        "Model Results Interpretation\n",
        "1. Model Convergence & Fit\n",
        "Optimization terminated successfully after 10 iterations\n",
        "\n",
        "Current function value: 0.0789 (lower is better, indicating good model fit)\n",
        "\n",
        "Pseudo R-squared: 0.4594 - The model explains approximately 45.94% of the variance in default status, which is considered quite strong for a logistic regression model\n",
        "\n",
        "2. Statistical Significance\n",
        "All predictors are highly statistically significant (p-value < 0.001):\n",
        "\n",
        "Income: p-value = 0.000\n",
        "  \n",
        "Balance: p-value = 0.000\n",
        "\n",
        "Intercept: p-value = 0.000\n",
        "\n",
        "3. Coefficient Interpretation\n",
        "Intercept: -11.5405 - The log-odds of default when both income and balance are zero (theoretical baseline)\n",
        "\n",
        "Income: 2.081e-05 - For each $1 increase in income, the log-odds of default increase by 0.00002081\n",
        "\n",
        "Balance: 0.0056 - For each $1 increase in credit card balance, the log-odds of default increase by 0.0056\n",
        "4. mportant Note: Quasi-Separation Warning\n",
        "The warning about \"quasi-separation\" indicates that:\n",
        "\n",
        "14% of observations can be perfectly predicted - this is actually good news!\n",
        "\n",
        "It means our model is very effective at distinguishing defaulters from non-defaulters\n",
        "\n",
        "No action needed - this is expected behavior for a well-performing classification model\n",
        "\n",
        "5. Conclusion\n",
        "The logistic regression model successfully identifies both income and balance as highly significant predictors of credit card default. Credit card balance appears to be the much stronger predictor in practical terms."
      ],
      "metadata": {
        "id": "CseF10uUbL43"
      }
    },
    {
      "cell_type": "markdown",
      "source": [],
      "metadata": {
        "id": "TXOM71vPgCar"
      }
    },
    {
      "cell_type": "markdown",
      "source": [
        "#b.\tUsing the validation set approach, estimate the test error of this model\n",
        "he goal is to:\n",
        "\n",
        "Split our data into training set (to build the model)\n",
        "\n",
        "And validation set (to test the model's performance)\n",
        "\n",
        "This gives us an estimate of the test error (how well the model generalizes)"
      ],
      "metadata": {
        "id": "gKLuEG4rgFM0"
      }
    },
    {
      "cell_type": "code",
      "source": [
        "# Split the Data into Training and Validation Sets\n",
        "X = default[['income', 'balance']] #Features\n",
        "y = default['default']              # Target variable\n",
        "\n",
        "X_train, X_val, y_train, y_val = train_test_split(X, y, test_size=0.3, random_state=42, stratify=y)\n",
        "\n",
        "print('Data Split Results:')\n",
        "print(f'Original data shape: {X.shape}')\n",
        "print(f'Training set shape: {X_train.shape} (70%)')\n",
        "print(f'Validation set shape: {X_val.shape} (30%)')\n",
        "print(f'Training default rate: {y_train.mean():.3%}')\n",
        "print(f'Vaidation default rate: {y_val.mean():.3%}')"
      ],
      "metadata": {
        "colab": {
          "base_uri": "https://localhost:8080/"
        },
        "id": "olDxGavJXDJG",
        "outputId": "fcbdf34f-c0c9-44c1-ce11-8dbc875dfa68"
      },
      "execution_count": 70,
      "outputs": [
        {
          "output_type": "stream",
          "name": "stdout",
          "text": [
            "Data Split Results:\n",
            "Original data shape: (10000, 2)\n",
            "Training set shape: (7000, 2) (70%)\n",
            "Validation set shape: (3000, 2) (30%)\n",
            "Training default rate: 3.329%\n",
            "Vaidation default rate: 3.333%\n"
          ]
        }
      ]
    },
    {
      "cell_type": "code",
      "source": [
        "# Fit the model on train Data only\n",
        "X_train_sm = sm.add_constant(X_train)\n",
        "train_model = sm.Logit(y_train, X_train_sm).fit()\n",
        "\n",
        "print('Model fitted on training!')\n",
        "print(train_model.summary())"
      ],
      "metadata": {
        "colab": {
          "base_uri": "https://localhost:8080/"
        },
        "id": "peR4zatMjTmK",
        "outputId": "70e8757f-46b4-407b-d013-ed2a8cb10ff8"
      },
      "execution_count": 73,
      "outputs": [
        {
          "output_type": "stream",
          "name": "stdout",
          "text": [
            "Optimization terminated successfully.\n",
            "         Current function value: 0.078461\n",
            "         Iterations 10\n",
            "Model fitted on training!\n",
            "                           Logit Regression Results                           \n",
            "==============================================================================\n",
            "Dep. Variable:                default   No. Observations:                 7000\n",
            "Model:                          Logit   Df Residuals:                     6997\n",
            "Method:                           MLE   Df Model:                            2\n",
            "Date:                Thu, 21 Aug 2025   Pseudo R-squ.:                  0.4625\n",
            "Time:                        12:21:34   Log-Likelihood:                -549.22\n",
            "converged:                       True   LL-Null:                       -1021.9\n",
            "Covariance Type:            nonrobust   LLR p-value:                5.290e-206\n",
            "==============================================================================\n",
            "                 coef    std err          z      P>|z|      [0.025      0.975]\n",
            "------------------------------------------------------------------------------\n",
            "const        -11.5977      0.523    -22.157      0.000     -12.624     -10.572\n",
            "income      1.851e-05   5.91e-06      3.134      0.002    6.93e-06    3.01e-05\n",
            "balance        0.0058      0.000     20.729      0.000       0.005       0.006\n",
            "==============================================================================\n",
            "\n",
            "Possibly complete quasi-separation: A fraction 0.15 of observations can be\n",
            "perfectly predicted. This might indicate that there is complete\n",
            "quasi-separation. In this case some parameters will not be identified.\n"
          ]
        }
      ]
    },
    {
      "cell_type": "code",
      "source": [
        "#Make Predictions on Validation Set\n",
        "X_val_sm = sm.add_constant(X_val)\n",
        "\n",
        "#Convert probabilities to class predictions (Using 0.5 thread)\n",
        "val_predictions_probs = train_model.predict(X_val_sm)\n",
        "\n",
        "val_predictions = (val_predictions_probs > 0.5).astype(int)\n",
        "\n",
        "print('First 10 prediction probabilities: ', val_predictions_probs[:10].round(3))\n",
        "print('First 10 class predictions; ', val_predictions[:10])\n",
        "print('First 10 actual values: ', y_val.values[:10])"
      ],
      "metadata": {
        "colab": {
          "base_uri": "https://localhost:8080/"
        },
        "id": "E2nxsIyLl3hP",
        "outputId": "4d600558-cc3c-4057-b16d-e28b5c7298f4"
      },
      "execution_count": 74,
      "outputs": [
        {
          "output_type": "stream",
          "name": "stdout",
          "text": [
            "First 10 prediction probabilities:  7288    0.011\n",
            "6310    0.002\n",
            "3912    0.000\n",
            "6386    0.528\n",
            "5633    0.004\n",
            "7212    0.000\n",
            "8705    0.698\n",
            "8622    0.002\n",
            "542     0.011\n",
            "8083    0.015\n",
            "dtype: float64\n",
            "First 10 class predictions;  7288    0\n",
            "6310    0\n",
            "3912    0\n",
            "6386    1\n",
            "5633    0\n",
            "7212    0\n",
            "8705    1\n",
            "8622    0\n",
            "542     0\n",
            "8083    0\n",
            "dtype: int64\n",
            "First 10 actual values:  [0 0 0 0 0 0 1 0 0 0]\n"
          ]
        }
      ]
    },
    {
      "cell_type": "code",
      "source": [
        "#Calculate Validation Error Rate\n",
        "#Misclassification error\n",
        "error_rate = np.mean(val_predictions != y_val)\n",
        "accuracy = 1- error_rate\n",
        "\n",
        "#Confusion Matrix\n",
        "cm = confusion_matrix(y_val, val_predictions)\n",
        "tn, fp, fn, tp = cm.ravel()\n",
        "\n",
        "print(f'Validation Error Rate: {error_rate:.3%}')\n",
        "print(f'Validation Accuracy: {accuracy:.3%}')\n",
        "print(f'\\nConfusion Matrix:')\n",
        "print(cm)\n",
        "print(f'\\nTrue Negative:{tn} | False Positive: {fp}')\n",
        "print(f'False Negative: {fp} | True Positive: {tp}')"
      ],
      "metadata": {
        "colab": {
          "base_uri": "https://localhost:8080/"
        },
        "id": "EKwvZw-GoksW",
        "outputId": "e1c8e682-3195-4b30-e784-4a8331d6c87c"
      },
      "execution_count": 76,
      "outputs": [
        {
          "output_type": "stream",
          "name": "stdout",
          "text": [
            "Validation Error Rate: 2.867%\n",
            "Validation Accuracy: 97.133%\n",
            "\n",
            "Confusion Matrix:\n",
            "[[2881   19]\n",
            " [  67   33]]\n",
            "\n",
            "True Negative:2881 | False Positive: 19\n",
            "False Negative: 19 | True Positive: 33\n"
          ]
        }
      ]
    },
    {
      "cell_type": "code",
      "source": [
        "#Additional Metrics\n",
        "if tp + fp > 0: # Aviod division by zero\n",
        "  precision = tp / (tp+fp)\n",
        "  recall = tp / (tp+fn)\n",
        "  f1_score = 2 * (precision * recall) / (precision + recall)\n",
        "\n",
        "  print(f'\\nAdditional Metrics:')\n",
        "  print(f'Precision: {precision:.3%}') # of predicted, how many were correct?\n",
        "  print(f'Recall: {recall:.3%}')  # Of actual defaults, how many did we catch?\n",
        "  print(f'F1-Score: {f1_score:.3%}')"
      ],
      "metadata": {
        "colab": {
          "base_uri": "https://localhost:8080/"
        },
        "id": "PC-ZmPWzqdQj",
        "outputId": "914cb19c-0869-4f39-e460-21e6ae6c706d"
      },
      "execution_count": 79,
      "outputs": [
        {
          "output_type": "stream",
          "name": "stdout",
          "text": [
            "\n",
            "Additional Metrics:\n",
            "Precision: 63.462%\n",
            "Recall: 33.000%\n",
            "F1-Score: 43.421%\n"
          ]
        }
      ]
    },
    {
      "cell_type": "code",
      "source": [
        "#Training predictions\n",
        "train_predictions_probs = train_model.predict(X_train_sm)\n",
        "train_predictions = (train_predictions_probs > 0.5).astype(int)\n",
        "train_error = np.mean(train_predictions != y_train)\n",
        "\n",
        "print(f'Training Error Rate: {train_error:.3%}')\n",
        "print(f'Validation Error Rate: {error_rate:.3%}')\n",
        "print(f'Difference: {abs(train_error - error_rate):.3%}')\n",
        "\n",
        "if abs(train_error - error_rate) < 0.01:\n",
        "  print('Good generalization: Similar training and validation error\")')\n",
        "else:\n",
        "  print('Potential overfitting: Large gap between training and validation error\")')"
      ],
      "metadata": {
        "colab": {
          "base_uri": "https://localhost:8080/"
        },
        "id": "u_Vgn9QDsI8C",
        "outputId": "d0481236-5fc7-4963-b07e-704e6742551e"
      },
      "execution_count": 80,
      "outputs": [
        {
          "output_type": "stream",
          "name": "stdout",
          "text": [
            "Training Error Rate: 2.571%\n",
            "Validation Error Rate: 2.867%\n",
            "Difference: 0.295%\n",
            "Good generalization: Similar training and validation error\")\n"
          ]
        }
      ]
    },
    {
      "cell_type": "markdown",
      "source": [
        "## **Validation Set Approach Results**\n",
        "\n",
        "### **Key Findings:**\n",
        "- **Validation Error Rate:** 2.867%\n",
        "- **Validation Accuracy:** 97.133%\n",
        "- **The model demonstrates excellent generalization** with only a 0.295% difference between training and validation error\n",
        "\n",
        "### **Model Performance Breakdown:**\n",
        "\n",
        "**Overall Performance:**\n",
        "-**97.133% Accuracy:** The model correctly predicts default status for the vast majority of customers\n",
        "-**2.867% Error Rate:** Very low misclassification rate\n",
        "\n",
        "**Default Prediction Capability (Class 1):**\n",
        "- **Precision: 63.462%** - When the model predicts \"default\", it's correct about 63% of the time\n",
        "- **Recall: 33.000%** - The model detects only 33% of actual defaults\n",
        "- **F1-Score: 43.421%** - Balanced measure of precision and recall\n",
        "\n",
        "**Non-Default Prediction Capability (Class 0):**\n",
        "- **Excellent performance** with 2881 true negatives and only 19 false positives\n",
        "\n",
        "### **Business Implications:**\n",
        "- The model is **highly effective at identifying low-risk customers** (97%+ accuracy)\n",
        "- However, it **misses about 67% of actual defaults** (low recall) - this could be costly for the business\n",
        "- When it does flag someone as high-risk, it's correct about 63% of the time\n",
        "\n",
        "### **Recommendations:**\n",
        "1. **Address class imbalance** - Only 3.3% of accounts default, making them hard to detect\n",
        "2. **Adjust classification threshold** - Lowering the threshold from 0.5 to 0.3 might catch more defaults\n",
        "3. **Collect additional features** - Income and balance alone may not be sufficient to predict default reliably\n",
        "4. **Use as first screening tool** - The model is excellent for identifying low-risk customers automatically\n",
        "\n",
        "### **Next Steps:**\n",
        "- Experiment with different probability thresholds\n",
        "- Try techniques for imbalanced data (SMOTE, class weights)\n",
        "- Implement k-Fold Cross-Validation for more robust error estimation"
      ],
      "metadata": {
        "id": "4xTDVxvMuDUy"
      }
    }
  ]
}